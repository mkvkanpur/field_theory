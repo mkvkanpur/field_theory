{
  "nbformat": 4,
  "nbformat_minor": 0,
  "metadata": {
    "colab": {
      "provenance": [],
      "toc_visible": true,
      "authorship_tag": "ABX9TyMsqf9ZbJwJDmPF9PieOkH7",
      "include_colab_link": true
    },
    "kernelspec": {
      "name": "python3",
      "display_name": "Python 3"
    },
    "language_info": {
      "name": "python"
    }
  },
  "cells": [
    {
      "cell_type": "markdown",
      "metadata": {
        "id": "view-in-github",
        "colab_type": "text"
      },
      "source": [
        "<a href=\"https://colab.research.google.com/github/mkvkanpur/field_theory/blob/main/Review.ipynb\" target=\"_parent\"><img src=\"https://colab.research.google.com/assets/colab-badge.svg\" alt=\"Open In Colab\"/></a>"
      ]
    },
    {
      "cell_type": "code",
      "source": [
        "%%writefile defs.py\n",
        "\n",
        "import numpy as np\n",
        "import math as m\n",
        "from scipy.integrate import quad, romberg\n",
        "from scipy.special import roots_jacobi\n",
        "from scipy.optimize import fsolve\n",
        "\n",
        "\n",
        "# modal KE energy (without Kolm const and epsilon)\n",
        "def C(d,k):\n",
        "  return((2.0/(area_sphere(d)*(d-1)))*pow(k,-d-2.0/3));\n",
        "\n",
        "def area_sphere(d):\n",
        "\treturn(2*np.pi**(d/2)/m.gamma(d/2.0))\n",
        "\n",
        "\n",
        "def dvol_RG(d, v, z):\n",
        "    G = 2*area_sphere(d-1)/((d-1)*area_sphere(d))\n",
        "    return G * v**(d-1)* pow(1-z**2,(d-3)/2)\n",
        "\n",
        "def dvol_flux(d, v):\n",
        "    A = (area_sphere(d-1)/area_sphere(d))*4/(d-1)**2\n",
        "    return A*v**(d-1)\n",
        "\n",
        "# In Kraichnan's calculations\n",
        "def S(d,v,w):\n",
        "    x = ((v**2+w**2-1)/(2*v*w))\n",
        "    y = (1+w**2-v**2)/(2*w)\n",
        "    z = ((1+v**2-w**2)/(2*v))\n",
        "    return v*((d-3)*z+2*z**3+(d-1)*x*y)"
      ],
      "metadata": {
        "colab": {
          "base_uri": "https://localhost:8080/"
        },
        "id": "GRESZoiTRN1s",
        "outputId": "e08ddfea-2415-41e5-cc63-b6eaf8eedc36"
      },
      "execution_count": null,
      "outputs": [
        {
          "output_type": "stream",
          "name": "stdout",
          "text": [
            "Overwriting defs.py\n"
          ]
        }
      ]
    },
    {
      "cell_type": "code",
      "source": [
        "from defs import *\n",
        "print(area_sphere(1))"
      ],
      "metadata": {
        "colab": {
          "base_uri": "https://localhost:8080/"
        },
        "id": "JdlYa9kdYdKz",
        "outputId": "d7c32ff9-91ec-4fee-c82f-68a089e97b72"
      },
      "execution_count": null,
      "outputs": [
        {
          "output_type": "stream",
          "name": "stdout",
          "text": [
            "2.0\n"
          ]
        }
      ]
    },
    {
      "cell_type": "markdown",
      "source": [
        "# Using Kraichnan's S(k,p,q) formula \\int dp dq"
      ],
      "metadata": {
        "id": "3IcYsNIC-Qh5"
      }
    },
    {
      "cell_type": "code",
      "source": [
        "from defs import *\n",
        "\n",
        "b = 1.7\n",
        "d = 2\n",
        "####\n",
        "#### Renormalized viscosity\n",
        "####\n",
        "\n",
        "def dvol_RG_Kraichnan(d,v,w):\n",
        "  x =  ((v**2+w**2-1)/(2*v*w))\n",
        "  return area_sphere(d-1) * (v*w)**(d-2) * \\\n",
        "    (1-x**2)**((d-3)/2)\n",
        "\n",
        "def RG_vw(d,v,w):\n",
        "  numr1 = S(d,v,w)*C(d,w)\n",
        "  numr2 = S(d,w,v)*C(d,v)\n",
        "  denr = v**(2/3) + w**(2/3)\n",
        "  return dvol_RG_Kraichnan(d,v,w)*((numr1+numr2)/denr)\n",
        "\n",
        "lower_lim = 1\n",
        "integ_RG_Kr = quad(lambda v: quad(lambda w: RG_vw(d,v,w), \\\n",
        "                            lower_lim,b)[0],lower_lim,b)[0]/(d-1)\n",
        "\n",
        "print  (np.sqrt(integ_RG_Kr/(1-b**(-4/3))))\n",
        "\n",
        "#integ_DIA = quad(lambda v: quad(lambda w: RG_vw(d,v,w),v-1,v+1)[0],1,1e3)[0]/(d-1)\n",
        "\n",
        "#print  (np.sqrt(integ_DIA))\n"
      ],
      "metadata": {
        "colab": {
          "base_uri": "https://localhost:8080/"
        },
        "id": "4vsdZK5C-IF3",
        "outputId": "e1a28c15-89a4-492e-e193-af39a524ae6a"
      },
      "execution_count": null,
      "outputs": [
        {
          "output_type": "stream",
          "name": "stdout",
          "text": [
            "0.14408063504977678\n"
          ]
        }
      ]
    },
    {
      "cell_type": "markdown",
      "source": [
        "# Using Kraichnan's S(k,p,q) formula \\int dp dz"
      ],
      "metadata": {
        "id": "TTjVIYzWQVf1"
      }
    },
    {
      "cell_type": "code",
      "execution_count": null,
      "metadata": {
        "id": "-WT_-oIi1zbP",
        "colab": {
          "base_uri": "https://localhost:8080/"
        },
        "outputId": "e3c1975f-a45e-480e-fe8b-985e7c8330b8"
      },
      "outputs": [
        {
          "output_type": "stream",
          "name": "stdout",
          "text": [
            "0.14408063504977675\n"
          ]
        }
      ],
      "source": [
        "from defs import *\n",
        "\n",
        "import numpy as np\n",
        "import math as m\n",
        "from scipy.integrate import quad, romberg\n",
        "from scipy.special import roots_jacobi\n",
        "from scipy.optimize import fsolve\n",
        "\n",
        "def dvol_RG(d, v, z):\n",
        "    return area_sphere(d-1) * v**(d-1)* (1-z**2)**((d-3)/2)\n",
        "####\n",
        "#### Renormalized viscosity\n",
        "####\n",
        "\n",
        "def RG(d,v,z):\n",
        "        w = np.sqrt(1 + v**2 - 2*v*z)\n",
        "        F1 = S(d,v,w)*C(d,w)\n",
        "        F2 = S(d,w,v)*C(d,v)\n",
        "        denr = v**(2/3) + w**(2/3)\n",
        "        return dvol_RG(d,v,z)*(F1+F2)/denr\n",
        "\n",
        "def fv_RG(d,v):\n",
        "        lower_lim_z = (v**2+1-b**2)/(2*v)\n",
        "        upper_lim_z = v/2\n",
        "        return quad(lambda z: RG(d,v,z), lower_lim_z, upper_lim_z)[0]/(d-1)\n",
        "\n",
        "integ = quad(lambda v: fv_RG(d,v), 1, b)[0]\n",
        "print(np.sqrt(integ/(1-b**(-4/3))))\n",
        "\n"
      ]
    },
    {
      "cell_type": "code",
      "source": [
        "### DIA ###\n",
        "from defs import *\n",
        "\n",
        "def dvol_DIA(d, v):\n",
        "    return area_sphere(d-1) * v**(d-1)\n",
        "\n",
        "def DIA_nu_integrand(d,v,z):\n",
        "        w = np.sqrt(1 + v**2 - 2*v*z)\n",
        "        F1 = S(d,v,w)*C(d,w)\n",
        "        F2 = S(d,w,v)*C(d,v)\n",
        "        denr = v**(2/3) + w**(2/3)\n",
        "        return dvol_RG(d,v,z)*(F1+F2)/denr\n",
        "\n",
        "def compute_nu_DIA(d):\n",
        "\n",
        "    n=1000\n",
        "    alpha =  beta = (d-3)/2\n",
        "    [zt, wt] = roots_jacobi(n, alpha, beta, mu=False)\n",
        "\n",
        "    def DIA_nu(d,v):\n",
        "        int_z = sum(DIA_nu_integrand(d,v,zt)*wt)\n",
        "        return dvol_DIA(d,v)*int_z\n",
        "\n",
        "    integ = quad(lambda v: DIA_nu(d,v), 1, 1000000)[0]/(d-1)\n",
        "    return  np.sqrt(integ)\n",
        "\n",
        "print(compute_nu_DIA(2))"
      ],
      "metadata": {
        "colab": {
          "base_uri": "https://localhost:8080/"
        },
        "id": "LGRP2gDtd3rN",
        "outputId": "c1e473df-e1c8-4ead-8174-f6c4691cbd77",
        "collapsed": true
      },
      "execution_count": null,
      "outputs": [
        {
          "output_type": "stream",
          "name": "stdout",
          "text": [
            "0.07353415975575094\n"
          ]
        },
        {
          "output_type": "stream",
          "name": "stderr",
          "text": [
            "<ipython-input-6-8adc46d6e57b>:24: IntegrationWarning: The integral is probably divergent, or slowly convergent.\n",
            "  integ = quad(lambda v: DIA_nu(d,v), 1, 1000000)[0]/(d-1)\n"
          ]
        }
      ]
    },
    {
      "cell_type": "markdown",
      "source": [
        "# RG using Craya Herring formula"
      ],
      "metadata": {
        "id": "NhUWSExJQxw5"
      }
    },
    {
      "cell_type": "code",
      "source": [
        "'''\n",
        "# Going for realistic 2D\n",
        "b = 1.8\n",
        "d = 2\n",
        "lower_lim_pq = 0.8\n",
        "'''\n",
        "b = 1.5\n",
        "d = 2\n",
        "lower_lim_pq = 1\n",
        "\n",
        "def compute_nu1(d):\n",
        "\n",
        "    def RG_CH1(d,v,z):\n",
        "        w = np.sqrt(1 + v**2 - 2*v*z)\n",
        "        denr = v**(2/3) + w**(2/3)\n",
        "        F1 = (1-z**2)*(v-2*z)*(2*v*z-1)*v*w**(-8/3-d)\n",
        "        F2 = (1-z**2)*(1-v**2)*(2*v*z-1)*v**(-2/3-d)/w**2\n",
        "        return -dvol_RG(d,v,z)*(F1+F2)/denr\n",
        "\n",
        "    def fv_RG_CH1(d,v):\n",
        "        lower_lim_z = (v**2+1-b**2)/(2*v)\n",
        "        upper_lim_z = (v**2+1-lower_lim_pq**2)/(2*v)\n",
        "        return quad(lambda z: RG_CH1(d,v,z), lower_lim_z, upper_lim_z)[0]\n",
        "\n",
        "    integ_CH1 = quad(lambda v: fv_RG_CH1(d,v), 1, b)[0]\n",
        "    return  np.sqrt(integ_CH1/(1-b**(-4/3)))\n",
        "\n",
        "tollerance = 1e-5\n",
        "maxiter = 150\n",
        "def compute_nu2(d, nu2_left, nu2_right):\n",
        "    def RG_CH2(d,nu1,nu2,v,z):\n",
        "        w = np.sqrt(1 + v**2 - 2*v*z)\n",
        "        F3_1 = ((1-z**2)*v**(-2/3-d))/(nu1*v**(2/3) + nu2*w**(2/3))\n",
        "        F3_2 = ((1-z**2)*v**2*w**(-8/3-d))/(nu2*v**(2/3) + nu1*w**(2/3))\n",
        "        return dvol_RG(d,v,z) * (F3_1+F3_2)\n",
        "\n",
        "    def fv_RG_CH2(d,nu1,nu2,v):\n",
        "        lower_lim = (v**2+1-b**2)/(2*v)\n",
        "        upper_lim = (v**2+1-lower_lim_pq**2)/(2*v)\n",
        "        return quad(lambda z: RG_CH2(d,nu1,nu2,v,z),lower_lim,upper_lim)[0]\n",
        "\n",
        "    # Aim to get zero of f(nu2)\n",
        "    def solve_nu2(nu1, nu2):\n",
        "        integ_CH2 = quad(lambda v: fv_RG_CH2(d,nu1,nu2,v), 1, b)[0]\n",
        "        return [nu2*(1-b**(-4/3)) - integ_CH2]\n",
        "\n",
        "    nu1 = compute_nu1(d)\n",
        "\n",
        "    x = np.zeros(maxiter); x[0] = nu2_left; x[1] =nu2_right\n",
        "    for i in range(2,maxiter):\n",
        "        mid = (x[i-2] + x[i-1])/2\n",
        "        if (abs(mid-x[i-1]) < tollerance):\n",
        "            x[i] = mid\n",
        "            break\n",
        "        if solve_nu2(nu1,x[i-2])[0]*solve_nu2(nu1,mid)[0] > 0:\n",
        "            x[i] = x[i-1]; x[i-1] = mid\n",
        "        else:\n",
        "            x[i-1] = x[i-2]; x[i] = mid\n",
        "\n",
        "    if (i > maxiter):\n",
        "        print(\"ERROR: compute_nu1() did not converge!\")\n",
        "    else:\n",
        "        return mid\n",
        "\n",
        "\n",
        "print(\"d, nu1 = \", d, compute_nu1(d))\n",
        "print(\"d, nu2 = \", d, compute_nu2(d, 0.1, 1))\n",
        "\n",
        "def compute_nu(d):\n",
        "\n",
        "    def RG_CH1_pCH2(d,v,z):\n",
        "        w = np.sqrt(1 + v**2 - 2*v*z)\n",
        "        denr = v**(2/3) + w**(2/3)\n",
        "        F1 = (1-z**2)*(v-2*z)*(2*v*z-1)*v*w**(-8/3-d)\n",
        "        F2 = (1-z**2)*(1-v**2)*(2*v*z-1)*v**(-2/3-d)/w**2\n",
        "        F3_1 = ((1-z**2)*v**(-2/3-d))\n",
        "        F3_2 = ((1-z**2)*v**2*w**(-8/3-d))\n",
        "        return dvol_RG(d,v,z)*(-F1-F2+F3_1+F3_2)/denr\n",
        "\n",
        "    def fv_RG_CH1_p_CH2(d,v):\n",
        "        lower_lim = (v**2+1-b**2)/(2*v)\n",
        "        upper_lim = v/2\n",
        "        return quad(lambda z: RG_CH1_pCH2(d,v,z),lower_lim,upper_lim)[0]\n",
        "\n",
        "    integ_CH1_pCH2 = quad(lambda v: fv_RG_CH1_p_CH2(d,v), 1, b)[0]\n",
        "    return  np.sqrt(integ_CH1_pCH2/(1-b**(-4/3)))\n",
        "\n",
        "print(\"d, nu = \", d, compute_nu(d))\n",
        "\n"
      ],
      "metadata": {
        "colab": {
          "base_uri": "https://localhost:8080/"
        },
        "id": "R7kOrGypQ9ow",
        "outputId": "d74175ed-2a7b-4e2d-cf98-b141ca2405e8"
      },
      "execution_count": null,
      "outputs": [
        {
          "output_type": "stream",
          "name": "stdout",
          "text": [
            "d, nu1 =  2 0.09834433581222463\n",
            "d, nu2 =  2 0.619207000732422\n",
            "d, nu =  2 0.4845521725232924\n"
          ]
        }
      ]
    },
    {
      "cell_type": "markdown",
      "source": [
        "# Energy flux and Ko: CH basis"
      ],
      "metadata": {
        "id": "L9yDS569WsuT"
      }
    },
    {
      "cell_type": "code",
      "source": [
        "d = 3\n",
        "\n",
        "############\n",
        "# S(k,p,q)\n",
        "# Original Su1u1 & Su2u2 have (1-z^2) that has been removed\n",
        "# here. (1-z^2) is adjusted with (1-z^2)^{(d-3)/2}\n",
        "########\n",
        "\n",
        "def Su1u1(d,nu1,v,z):\n",
        "    w = np.sqrt(1 + v**2 - 2*v*z)\n",
        "    denr = nu1*(1 + v**(2/3)+w**(2/3))\n",
        "    numr1 = 2*(2*v*z-1)*z*v * w**(-2)*(v*w)**(-2/3-d)\n",
        "    numr2 = 2*(v-2*z)*z*v**2 * w**(-8/3-d)\n",
        "    numr3 = 2*(1-v**2)*z*w**(-2) * v**(1/3-d)\n",
        "    return (numr1+numr2+numr3)/denr\n",
        "\n",
        "def Su2u2(d,nu1,nu2,v,z):\n",
        "    w = np.sqrt(1 + v**2 - 2*v*z)\n",
        "    denr = nu2*(1 + v**(2/3)) + nu1*w**(2/3)\n",
        "    numr = v**2*w**(-8/3-d)*(v**(-2/3-d)-1)\n",
        "    return numr/denr\n",
        "\n",
        "####\n",
        "# Kolmogorov's constant\n",
        "# Original Su1u1 & Su2u2 have (1-z^2) that has been removed\n",
        "# here. (1-z^2) is adjusted with (1-z^2)^{(d-3)/2}\n",
        "########\n",
        "def compute_Ko(d, v_lower_lim, nu1_eq_nu2):\n",
        "\n",
        "    n=100\n",
        "    alpha =  beta = (d-1)/2\n",
        "    [rt, wt] = roots_jacobi(n, alpha, beta, mu=False)\n",
        "\n",
        "    def flux_CH1(d,nu1,v):\n",
        "        int_z = sum(Su1u1(d,nu1,v,rt)*wt)\n",
        "        return int_z * dvol_flux(d,v)* np.log(1/v)\n",
        "\n",
        "    def flux_CH2(d,nu1,nu2,v):\n",
        "        int_z = sum(Su2u2(d,nu1,nu2,v,rt)*wt)\n",
        "        return int_z * dvol_flux(d,v) * np.log(1/v)\n",
        "\n",
        "    if (d==2):\n",
        "        nu1 = compute_nu1(d)\n",
        "        print(\"nu1 = \",nu1)\n",
        "        integ_flux_CH1 = quad(lambda v: flux_CH1(d,nu1,v), v_lower_lim, 1)[0]\n",
        "        return (abs(integ_flux_CH1))**(-2/3)\n",
        "    else:   # d > 2\n",
        "        if (nu1_eq_nu2):\n",
        "            nu1 = nu2 = compute_nu(d)\n",
        "        else:\n",
        "            nu1 = compute_nu1(d)\n",
        "            nu2 = compute_nu2(d, 0.3, 0.8)\n",
        "\n",
        "        integ_flux_CH1 = quad(lambda v: flux_CH1(d,nu1,v), v_lower_lim, 1)[0]\n",
        "        integ_flux_CH2 = quad(lambda v: flux_CH2(d,nu1,nu2,v), 1e-7, 1)[0]\n",
        "        return (integ_flux_CH1+(d-2)*integ_flux_CH2)**(-2/3)\n",
        "\n",
        "v_lower_lim = 1e-7\n",
        "Ko = compute_Ko(d, v_lower_lim, True)\n",
        "print(\"nu1 = nu2: Ko = \", Ko)\n",
        "\n",
        "v_lower_lim = 0.22\n",
        "Ko = compute_Ko(d, v_lower_lim, False)\n",
        "print(\"nu1 ne nu2: Ko = \", Ko)\n"
      ],
      "metadata": {
        "colab": {
          "base_uri": "https://localhost:8080/"
        },
        "id": "CJuLihzNWbyr",
        "outputId": "c538ff0c-a8cc-4c68-8a89-249698d4434e"
      },
      "execution_count": null,
      "outputs": [
        {
          "output_type": "stream",
          "name": "stdout",
          "text": [
            "nu1 = nu2: Ko =  1.8524654978519122\n",
            "nu1 ne nu2: Ko =  1.6308888717261192\n"
          ]
        }
      ]
    }
  ]
}