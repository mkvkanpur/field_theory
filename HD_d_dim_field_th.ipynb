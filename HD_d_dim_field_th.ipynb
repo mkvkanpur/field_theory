{
  "cells": [
    {
      "cell_type": "markdown",
      "metadata": {
        "id": "view-in-github",
        "colab_type": "text"
      },
      "source": [
        "<a href=\"https://colab.research.google.com/github/mkvkanpur/field_theory/blob/main/HD_d_dim_field_th.ipynb\" target=\"_parent\"><img src=\"https://colab.research.google.com/assets/colab-badge.svg\" alt=\"Open In Colab\"/></a>"
      ]
    },
    {
      "cell_type": "markdown",
      "metadata": {
        "id": "mwc6ZU-zfX10"
      },
      "source": [
        "# FT.py"
      ]
    },
    {
      "cell_type": "code",
      "execution_count": 2,
      "metadata": {
        "id": "J4lH5WjKfWBo",
        "colab": {
          "base_uri": "https://localhost:8080/"
        },
        "outputId": "398baf6d-83ff-46e1-f105-701397ec7e3a"
      },
      "outputs": [
        {
          "output_type": "stream",
          "name": "stdout",
          "text": [
            "Overwriting FT.py\n"
          ]
        }
      ],
      "source": [
        "%%writefile FT.py\n",
        "\n",
        "import numpy as np\n",
        "import math as m\n",
        "from scipy.integrate import quad, romberg\n",
        "from scipy.special import roots_jacobi\n",
        "\n",
        "b = 1.5\n",
        "tollerance = 1e-2\n",
        "maxiter = 150\n",
        "\n",
        "def area_sphere(d):\n",
        "\treturn(2*np.pi**(d/2)/m.gamma(d/2.0))\n",
        "\n",
        "def dvol_RG(d, v, z):\n",
        "    G = 2*area_sphere(d-1)/((d-1)*area_sphere(d))\n",
        "    return G * v**(d-1)* pow(1-z**2,(d-3)/2)\n",
        "\n",
        "def dvol_flux(d, v):\n",
        "    A = (area_sphere(d-1)/area_sphere(d))*4/(d-1)**2\n",
        "    return A*v**(d-1)\n",
        "\n",
        "####\n",
        "#### Renormalized viscosity\n",
        "####\n",
        "\n",
        "def compute_nu1(d):\n",
        "\n",
        "    def RG_CH1(d,v,z):\n",
        "        w = np.sqrt(1 + v**2 - 2*v*z)\n",
        "        denr = v**(2/3) + w**(2/3)\n",
        "        F1 = (1-z**2)*(v-2*z)*(2*v*z-1)*v*w**(-8/3-d)\n",
        "        F2 = (1-z**2)*(1-v**2)*(2*v*z-1)*v**(-2/3-d)/w**2\n",
        "        return -dvol_RG(d,v,z)*(F1+F2)/denr\n",
        "\n",
        "    def fv_RG_CH1(d,v):\n",
        "        lower_lim_z = (v**2+1-b**2)/(2*v)\n",
        "        upper_lim_z = v/2\n",
        "        return quad(lambda z: RG_CH1(d,v,z), lower_lim_z, upper_lim_z)[0]\n",
        "\n",
        "    integ_CH1 = romberg(lambda v: fv_RG_CH1(d,v), 1, b)\n",
        "    return  np.sqrt(integ_CH1/(1-b**(-4/3)))\n",
        "\n",
        "def compute_nu2(d, nu2_init):\n",
        "    def RG_CH2(d,nu1,nu2,v,z):\n",
        "        w = np.sqrt(1 + v**2 - 2*v*z)\n",
        "        F3_1 = ((1-z**2)*v**(-2/3-d))/(nu1*v**(2/3) + nu2*w**(2/3))\n",
        "        F3_2 = ((1-z**2)*v**2*w**(-8/3-d))/(nu2*v**(2/3) + nu1*w**(2/3))\n",
        "        return dvol_RG(d,v,z) * (F3_1+F3_2)\n",
        "\n",
        "    def fv_RG_CH2(d,nu1,nu2,v):\n",
        "        lower_lim = (v**2+1-b**2)/(2*v)\n",
        "        upper_lim = v/2\n",
        "        return quad(lambda z: RG_CH2(d,nu1,nu2,v,z),lower_lim,upper_lim)[0]\n",
        "\n",
        "    iter = 0\n",
        "    nu1 = compute_nu1(d)\n",
        "    nu2 = nu2_init\n",
        "    while (1):\n",
        "        iter += 1\n",
        "        integ_CH2 = romberg(lambda v: fv_RG_CH2(d,nu1,nu2,v), 1, b)\n",
        "        nu2_new = integ_CH2/(1-b**(-4/3))\n",
        "        # print(integ_CH2, nu2_new)\n",
        "        if ((abs(nu2_new -nu2)<tollerance) or (iter>maxiter)):\n",
        "            break\n",
        "        nu2 = nu2_new\n",
        "\n",
        "    if (iter > maxiter):\n",
        "        print(\"ERROR: compute_nu2() did not converge!\")\n",
        "    else:\n",
        "        return nu2\n",
        "\n",
        "########\n",
        "# S(k,p,q)\n",
        "########\n",
        "\n",
        "def Su1u1(d,nu1,v,z):\n",
        "    w = np.sqrt(1 + v**2 - 2*v*z)\n",
        "    denr = nu1*(1 + v**(2/3)+w**(2/3))\n",
        "    numr1 = 2*(2*v*z-1)*z*v * w**(-2)*(v*w)**(-2/3-d)\n",
        "    numr2 = 2*(v-2*z)*z*v**2 * w**(-8/3-d)\n",
        "    numr3 = 2*(1-v**2)*z*w**(-2) * v**(1/3-d)\n",
        "    return (numr1+numr2+numr3)/denr\n",
        "\n",
        "def Su2u2(d,nu1,nu2,v,z):\n",
        "    w = np.sqrt(1 + v**2 - 2*v*z)\n",
        "    denr = nu2*(1 + v**(2/3)) + nu1*w**(2/3)\n",
        "    numr = v**2*w**(-8/3-d)*(v**(-2/3-d)-1)\n",
        "    return numr/denr\n",
        "\n",
        "########\n",
        "# Kolmogorov's constant\n",
        "########\n",
        "def compute_Ko(d, v_lower_lim, nu1_eq_nu2):\n",
        "\n",
        "    n=100\n",
        "    alpha =  beta = (d-1)/2\n",
        "    [rt, wt] = roots_jacobi(n, alpha, beta, mu=False)\n",
        "\n",
        "    def flux_CH1(d,nu1,v):\n",
        "        int_z = sum(Su1u1(d,nu1,v,rt)*wt)\n",
        "        return int_z * dvol_flux(d,v)* np.log(1/v)\n",
        "\n",
        "    def flux_CH2(d,nu1,nu2,v):\n",
        "        int_z = sum(Su2u2(d,nu1,nu2,v,rt)*wt)\n",
        "        return int_z * dvol_flux(d,v) * np.log(1/v)\n",
        "\n",
        "    if (d==2):\n",
        "        nu1 = compute_nu1(d)\n",
        "        integ_flux_CH1 = romberg(lambda v: flux_CH1(d,nu1,v), v_lower_lim, 1)\n",
        "        return (abs(integ_flux_CH1))**(-2/3)\n",
        "    else:   # d > 2\n",
        "        nu2 = compute_nu2(d, 0.40)\n",
        "        if (nu1_eq_nu2):\n",
        "            nu1 = nu2\n",
        "        else:\n",
        "            nu1 = compute_nu1(d)\n",
        "\n",
        "        integ_flux_CH1 = romberg(lambda v: flux_CH1(d,nu1,v), v_lower_lim, 1)\n",
        "        integ_flux_CH2 = romberg(lambda v: flux_CH2(d,nu1,nu2,v), 1e-7, 1)\n",
        "        return (integ_flux_CH1+(d-2)*integ_flux_CH2)**(-2/3)\n",
        "\n",
        "\n",
        "########\n",
        "# Energy transfers T_{v}^1\n",
        "########\n",
        "\n",
        "def EnergyTr(d, v_array, ET_array, v_lower_lim):\n",
        "\n",
        "    n=100\n",
        "    alpha =  beta = (d-1)/2\n",
        "    [rt, wt] = roots_jacobi(n, alpha, beta, mu=False)\n",
        "\n",
        "    def flux_CH1(d,nu1,v):\n",
        "        int_z = sum(Su1u1(d,nu1,v,rt)*wt)\n",
        "        return int_z * dvol_flux(d,v)* np.log(1/v)\n",
        "\n",
        "    def flux_CH2(d,nu1,nu2,v):\n",
        "        int_z = sum(Su2u2(d,nu1,nu2,v,rt)*wt)\n",
        "        return int_z * dvol_flux(d,v) * np.log(1/v)\n",
        "\n",
        "    index = 0\n",
        "    if (d == 2):\n",
        "        nu1 = compute_nu1(d)\n",
        "        nu1_eq_nu2 = False\n",
        "        Ko = compute_Ko(2, 1e-7, nu1_eq_nu2)\n",
        "        for v in v_array:\n",
        "            integ1 = Ko**(3/2)*romberg(lambda v: flux_CH1(d,nu1,v), v, 1)\n",
        "            ET_array[index] = integ1\n",
        "            index += 1\n",
        "\n",
        "    else:\n",
        "        nu1 = nu2 = compute_nu2(d, 0.40)\n",
        "        nu1_eq_nu2 = True\n",
        "        Ko = compute_Ko(d, 0.22, nu1_eq_nu2) # 0.22 yields Ko = 1.64 for 3D\n",
        "\n",
        "        for v in v_array:\n",
        "            if (v>v_lower_lim):\n",
        "                integ1 = romberg(lambda v: flux_CH1(d,nu1,v), v , 1)\n",
        "            else:\n",
        "                integ1 = romberg(lambda v: flux_CH1(d,nu1,v), 0.22 , 1)\n",
        "            integ2 = romberg(lambda v: flux_CH2(d,nu1,nu2,v), v, 1)\n",
        "            ET_array[index] = (integ1+(d-2)*integ2)*Ko**(3/2)\n",
        "            index += 1\n",
        "\n",
        "    return\n",
        "\n",
        "\n",
        "########\n",
        "# S2S\n",
        "########\n",
        "def compute_S2S(d, num_shells, s, Tmn):\n",
        "    n=100\n",
        "    alpha =  beta =  (d-1)/2\n",
        "    [rt, wt] = roots_jacobi(n, alpha, beta, mu=False)\n",
        "\n",
        "    def S2S_CH1(d,nu1,u,v):\n",
        "        int_z = sum(Su1u1(d,nu1,v,rt)*wt)\n",
        "        return int_z*dvol_flux(d,v)/u\n",
        "\n",
        "    def S2S_CH2(d,nu1,nu2,u,v):\n",
        "        int_z = sum(Su2u2(d,nu1,nu2,v,rt)*wt)\n",
        "        return int_z*dvol_flux(d,v)/u\n",
        "\n",
        "\n",
        "    if (d == 2):\n",
        "        nu1 = compute_nu1(d)\n",
        "        nu1_eq_nu2 = False\n",
        "        Ko = compute_Ko(2, 1e-7, nu1_eq_nu2)\n",
        "        for n_m in range(1,num_shells):\n",
        "            Tmn[n_m] = romberg(lambda u: romberg(lambda v: S2S_CH1(d,nu1,u,v), \\\n",
        "                                  u*s**(-n_m),u*s**(-n_m+1)), 1/s, 1)\n",
        "\n",
        "    else:\n",
        "        nu1 = nu2 = compute_nu2(d, 0.40)\n",
        "        nu1_eq_nu2 = True\n",
        "        Ko = compute_Ko(d, 0.22, nu1_eq_nu2) # 0.22 yields Ko = 1.64 for 3D\n",
        "        for n_m in range(1,num_shells):\n",
        "            integ1 = romberg(lambda u: romberg(lambda v: S2S_CH1(d,nu1,u,v), \\\n",
        "                                  u*s**(-n_m),u*s**(-n_m+1)), 1/s, 1)\n",
        "            integ2 = romberg(lambda u: romberg(lambda v: S2S_CH2(d,nu1,nu2,u,v), \\\n",
        "                                  u*s**(-n_m),u*s**(-n_m+1)), 1/s, 1)\n",
        "\n",
        "            Tmn[n_m] =  integ1+(d-2)*integ2\n",
        "\n",
        "    Tmn *= Ko**(3/2)\n",
        "    return Tmn\n",
        "\n",
        "########\n",
        "# main()\n",
        "########\n",
        "'''\n",
        "v_array = np.arange(1e-6,0.9,0.1)\n",
        "ET_array = np.zeros(np.size(v_array))\n",
        "for d in np.arange(2,6,1):\n",
        "    EnergyTr(d, v_array, ET_array,1e-6)\n",
        "    print(d, ET_array)\n",
        "\n",
        "v_lower_lim = 0.22\n",
        "s = 2**(1/4)\n",
        "num_shells = 10\n",
        "Tmn = np.zeros(num_shells)\n",
        "\n",
        "for d in np.arange(2,3.1,1):\n",
        "    compute_S2S(d, num_shells, s, Tmn)\n",
        "    print(d, Tmn)\n",
        "'''\n",
        "\n",
        "'''\n",
        "def main():\n",
        "    Ko= compute_Ko(2, 0.22)\n",
        "\n",
        "    v_array = np.arange(0.01,0.9,0.01)\n",
        "    ET_array = np.zeros(np.size(v_array))\n",
        "    EnergyTr(2, v_array, ET_array, 0.22)\n",
        "    Ko = compute_Ko(2, 0.40)\n",
        "    print(\"nu1,2,Ko = \", compute_nu1(3), compute_nu2(3,0.40), Ko)\n",
        "    print(ET_array)\n",
        "\n",
        "\n",
        "# Call the main function if the script is run directly\n",
        "if __name__ == \"__main__\":\n",
        "    main()\n",
        "'''"
      ]
    },
    {
      "cell_type": "code",
      "source": [
        "0.04649958*1.8**1.5\n"
      ],
      "metadata": {
        "colab": {
          "base_uri": "https://localhost:8080/"
        },
        "id": "QAbF1GUSzyFR",
        "outputId": "e7e14314-289b-4bae-8ca9-18a387373134"
      },
      "execution_count": null,
      "outputs": [
        {
          "output_type": "execute_result",
          "data": {
            "text/plain": [
              "0.11229431954960485"
            ]
          },
          "metadata": {},
          "execution_count": 18
        }
      ]
    },
    {
      "cell_type": "code",
      "source": [
        "!python FT.py"
      ],
      "metadata": {
        "id": "-K-fahlWh4lK",
        "colab": {
          "base_uri": "https://localhost:8080/"
        },
        "outputId": "5c3b4736-04a1-46f6-d4f7-6027b5132a1a"
      },
      "execution_count": null,
      "outputs": [
        {
          "output_type": "stream",
          "name": "stdout",
          "text": [
            "/content/FT.py:119: RuntimeWarning: invalid value encountered in double_scalars\n",
            "  return (integ_flux_CH1+(d-2)*integ_flux_CH2)**(-2/3)\n"
          ]
        }
      ]
    },
    {
      "cell_type": "code",
      "source": [
        "import matplotlib.pyplot as plt\n",
        "import matplotlib.colors as colors\n",
        "import matplotlib as mpl\n",
        "from google.colab import files\n",
        "\n",
        "mpl.rcParams.update(mpl.rcParamsDefault)\n",
        "mpl.rcParams['mathtext.fontset'] = 'cm'\n",
        "mpl.rcParams['font.family'] = 'STIXGeneral'\n",
        "\n",
        "mpl.rc('font', size=12)\n",
        "mpl.rc('axes', titlesize=10) #fontsize of the title\n",
        "mpl.rc('axes', labelsize=10) #fontsize of the x and y labels\n",
        "mpl.rc('xtick', labelsize=10) #fontsize of the x tick labels\n",
        "mpl.rc('ytick', labelsize=10) #fontsize of the y tick labels\n",
        "mpl.rc('legend', fontsize=10) #fontsize of the legend"
      ],
      "metadata": {
        "id": "WNRieI-eTuEF"
      },
      "execution_count": null,
      "outputs": []
    },
    {
      "cell_type": "markdown",
      "source": [
        "# Compute nu and Ko for various d's"
      ],
      "metadata": {
        "id": "IRptKGNag8PV"
      }
    },
    {
      "cell_type": "code",
      "source": [
        "import FT\n",
        "import numpy as np\n",
        "\n",
        "v_lower_lim = 0.22\n",
        "\n",
        "d_array = np.arange(2,6,0.5)\n",
        "nu1 = np.zeros(np.size(d_array))\n",
        "nu2 = np.zeros(np.size(d_array))\n",
        "Ko = np.zeros(np.size(d_array))\n",
        "Kop = np.zeros(np.size(d_array))\n",
        "\n",
        "\n",
        "nu1_eq_nu2 = False\n",
        "for i in range(np.size(d_array)):\n",
        "    nu1[i] = FT.compute_nu1(d_array[i])\n",
        "    nu2[i] = FT.compute_nu2(d_array[i], 0.4)\n",
        "    Ko[i] = FT.compute_Ko(d_array[i], v_lower_lim, nu1_eq_nu2)\n",
        "    Kop[i] = FT.compute_Ko(d_array[i], v_lower_lim, True)\n",
        "\n",
        "fig, ax = plt.subplots(figsize = (3.5,2.5))\n",
        "ax.plot(d_array,nu1,'k.',markersize = 4, label=r'$\\nu_{1*}$')\n",
        "ax.plot(d_array,nu2,'bs', markersize = 3, label=r'$\\nu_{2*}$')\n",
        "ax.plot(d_array,Ko,'gv',markersize = 4, label=r'$\\mathrm{Ko}$')\n",
        "ax.plot(d_array,Kop,'k^', markersize = 4,label=r\"$\\mathrm{Ko'}$\")\n",
        "\n",
        "\n",
        "#ax.set_xlim([0,1])\n",
        "#ax.set_ylim([0,1.2])\n",
        "ax.set_xlabel('$d$')\n",
        "ax.set_ylabel(r'$\\nu_{1*}, \\nu_{2*}, \\mathrm{Ko}$')\n",
        "ax.set_xticks([2,3,4,5,6])\n",
        "ax.set_xticklabels([2,3,4,5,6])\n",
        "ax.set_yticks([1,2,3,4,5])\n",
        "ax.set_yticklabels([1,2,3,4,5])\n",
        "plt.tight_layout(pad=1.1)\n",
        "ax.legend(loc = 'upper right')\n",
        "plt.savefig(\"nu_Ko.pdf\")\n",
        "files.download(\"nu_Ko.pdf\")\n",
        "plt.show()\n",
        "\n"
      ],
      "metadata": {
        "colab": {
          "base_uri": "https://localhost:8080/",
          "height": 270
        },
        "id": "Be9DL7B4ogKd",
        "outputId": "558e3541-7416-4e25-c2e7-0f2dd3f2f22d"
      },
      "execution_count": null,
      "outputs": [
        {
          "output_type": "display_data",
          "data": {
            "text/plain": [
              "<IPython.core.display.Javascript object>"
            ],
            "application/javascript": [
              "\n",
              "    async function download(id, filename, size) {\n",
              "      if (!google.colab.kernel.accessAllowed) {\n",
              "        return;\n",
              "      }\n",
              "      const div = document.createElement('div');\n",
              "      const label = document.createElement('label');\n",
              "      label.textContent = `Downloading \"${filename}\": `;\n",
              "      div.appendChild(label);\n",
              "      const progress = document.createElement('progress');\n",
              "      progress.max = size;\n",
              "      div.appendChild(progress);\n",
              "      document.body.appendChild(div);\n",
              "\n",
              "      const buffers = [];\n",
              "      let downloaded = 0;\n",
              "\n",
              "      const channel = await google.colab.kernel.comms.open(id);\n",
              "      // Send a message to notify the kernel that we're ready.\n",
              "      channel.send({})\n",
              "\n",
              "      for await (const message of channel.messages) {\n",
              "        // Send a message to notify the kernel that we're ready.\n",
              "        channel.send({})\n",
              "        if (message.buffers) {\n",
              "          for (const buffer of message.buffers) {\n",
              "            buffers.push(buffer);\n",
              "            downloaded += buffer.byteLength;\n",
              "            progress.value = downloaded;\n",
              "          }\n",
              "        }\n",
              "      }\n",
              "      const blob = new Blob(buffers, {type: 'application/binary'});\n",
              "      const a = document.createElement('a');\n",
              "      a.href = window.URL.createObjectURL(blob);\n",
              "      a.download = filename;\n",
              "      div.appendChild(a);\n",
              "      a.click();\n",
              "      div.remove();\n",
              "    }\n",
              "  "
            ]
          },
          "metadata": {}
        },
        {
          "output_type": "display_data",
          "data": {
            "text/plain": [
              "<IPython.core.display.Javascript object>"
            ],
            "application/javascript": [
              "download(\"download_6a53da97-6238-4974-afca-5676cfa2feb6\", \"nu_Ko.pdf\", 15841)"
            ]
          },
          "metadata": {}
        },
        {
          "output_type": "display_data",
          "data": {
            "text/plain": [
              "<Figure size 350x250 with 1 Axes>"
            ],
            "image/png": "[encoded data removed]"
          },
          "metadata": {}
        }
      ]
    },
    {
      "cell_type": "code",
      "source": [
        "import FT\n",
        "d = 3\n",
        "v_lower_lim = 0.22\n",
        "for FT.b in [1.1, 1.3, 1.5, 1.7, 1.9, 2.1]:\n",
        "    print(FT.b, FT.compute_nu1(d), FT.compute_nu2(d, 0.4), \\\n",
        "          FT.compute_Ko(d, v_lower_lim,False))"
      ],
      "metadata": {
        "colab": {
          "base_uri": "https://localhost:8080/"
        },
        "id": "H9RMKYOEB3Lp",
        "outputId": "4acecae8-5cae-438b-e0f6-0509baff2d38"
      },
      "execution_count": null,
      "outputs": [
        {
          "output_type": "stream",
          "name": "stderr",
          "text": [
            "/usr/local/lib/python3.10/dist-packages/scipy/integrate/_quadrature.py:1074: AccuracyWarning: divmax (10) exceeded. Latest difference = 3.535405e-04\n",
            "  warnings.warn(\n",
            "/usr/local/lib/python3.10/dist-packages/scipy/integrate/_quadrature.py:1074: AccuracyWarning: divmax (10) exceeded. Latest difference = 1.992366e-04\n",
            "  warnings.warn(\n"
          ]
        },
        {
          "output_type": "stream",
          "name": "stdout",
          "text": [
            "1.1 0.008966901613619186 0.2416378356741737 1.6123982862763218\n",
            "1.3 0.03944664231371621 0.4052756146975786 1.4156682837054508\n"
          ]
        },
        {
          "output_type": "stream",
          "name": "stderr",
          "text": [
            "/usr/local/lib/python3.10/dist-packages/scipy/integrate/_quadrature.py:1074: AccuracyWarning: divmax (10) exceeded. Latest difference = 1.457631e-04\n",
            "  warnings.warn(\n"
          ]
        },
        {
          "output_type": "stream",
          "name": "stdout",
          "text": [
            "1.5 0.07010155927481088 0.5377887959188123 1.6423470192215555\n"
          ]
        },
        {
          "output_type": "stream",
          "name": "stderr",
          "text": [
            "/usr/local/lib/python3.10/dist-packages/scipy/integrate/_quadrature.py:1074: AccuracyWarning: divmax (10) exceeded. Latest difference = 1.228449e-04\n",
            "  warnings.warn(\n"
          ]
        },
        {
          "output_type": "stream",
          "name": "stdout",
          "text": [
            "1.7 0.09218179072634201 0.6291294047590937 1.8048808907161433\n"
          ]
        },
        {
          "output_type": "stream",
          "name": "stderr",
          "text": [
            "/usr/local/lib/python3.10/dist-packages/scipy/integrate/_quadrature.py:1074: AccuracyWarning: divmax (10) exceeded. Latest difference = 1.079464e-04\n",
            "  warnings.warn(\n"
          ]
        },
        {
          "output_type": "stream",
          "name": "stdout",
          "text": [
            "1.9 0.09942400970647054 0.7214338690759159 1.9872411432124057\n",
            "2.1 0.08460777485692741 0.783084390894451 2.159168327361171\n"
          ]
        },
        {
          "output_type": "stream",
          "name": "stderr",
          "text": [
            "/usr/local/lib/python3.10/dist-packages/scipy/integrate/_quadrature.py:1074: AccuracyWarning: divmax (10) exceeded. Latest difference = 1.021168e-04\n",
            "  warnings.warn(\n"
          ]
        }
      ]
    },
    {
      "cell_type": "code",
      "source": [
        "nu1_eq_nu2 = False\n",
        "i = 0\n",
        "for d in [2,2.1,2.15,2.2,3,4,5]:\n",
        "    nu1[i] = FT.compute_nu1(d)\n",
        "    nu2[i] = FT.compute_nu2(d, 0.4)\n",
        "    Ko[i] = FT.compute_Ko(d, v_lower_lim, nu1_eq_nu2)\n",
        "    Kop[i] = FT.compute_Ko(d, v_lower_lim, True)\n",
        "    i+=1\n"
      ],
      "metadata": {
        "colab": {
          "base_uri": "https://localhost:8080/"
        },
        "id": "x1dfiqUR3twx",
        "outputId": "5831c007-5377-4f8b-ad89-6ebd012d424e"
      },
      "execution_count": null,
      "outputs": [
        {
          "output_type": "stream",
          "name": "stderr",
          "text": [
            "/usr/local/lib/python3.10/dist-packages/scipy/integrate/_quadrature.py:1074: AccuracyWarning: divmax (10) exceeded. Latest difference = 3.295856e-04\n",
            "  warnings.warn(\n",
            "/usr/local/lib/python3.10/dist-packages/scipy/integrate/_quadrature.py:1074: AccuracyWarning: divmax (10) exceeded. Latest difference = 1.908144e-04\n",
            "  warnings.warn(\n",
            "/usr/local/lib/python3.10/dist-packages/scipy/integrate/_quadrature.py:1074: AccuracyWarning: divmax (10) exceeded. Latest difference = 3.109999e-04\n",
            "  warnings.warn(\n",
            "/usr/local/lib/python3.10/dist-packages/scipy/integrate/_quadrature.py:1074: AccuracyWarning: divmax (10) exceeded. Latest difference = 1.798452e-04\n",
            "  warnings.warn(\n",
            "/usr/local/lib/python3.10/dist-packages/scipy/integrate/_quadrature.py:1074: AccuracyWarning: divmax (10) exceeded. Latest difference = 2.941204e-04\n",
            "  warnings.warn(\n",
            "/usr/local/lib/python3.10/dist-packages/scipy/integrate/_quadrature.py:1074: AccuracyWarning: divmax (10) exceeded. Latest difference = 1.698863e-04\n",
            "  warnings.warn(\n",
            "/usr/local/lib/python3.10/dist-packages/scipy/integrate/_quadrature.py:1074: AccuracyWarning: divmax (10) exceeded. Latest difference = 1.457631e-04\n",
            "  warnings.warn(\n",
            "/usr/local/lib/python3.10/dist-packages/scipy/integrate/_quadrature.py:1074: AccuracyWarning: divmax (10) exceeded. Latest difference = 8.242213e-05\n",
            "  warnings.warn(\n",
            "/usr/local/lib/python3.10/dist-packages/scipy/integrate/_quadrature.py:1074: AccuracyWarning: divmax (10) exceeded. Latest difference = 8.477250e-05\n",
            "  warnings.warn(\n",
            "/usr/local/lib/python3.10/dist-packages/scipy/integrate/_quadrature.py:1074: AccuracyWarning: divmax (10) exceeded. Latest difference = 4.680823e-05\n",
            "  warnings.warn(\n",
            "/usr/local/lib/python3.10/dist-packages/scipy/integrate/_quadrature.py:1074: AccuracyWarning: divmax (10) exceeded. Latest difference = 5.701685e-05\n",
            "  warnings.warn(\n",
            "/usr/local/lib/python3.10/dist-packages/scipy/integrate/_quadrature.py:1074: AccuracyWarning: divmax (10) exceeded. Latest difference = 3.052083e-05\n",
            "  warnings.warn(\n"
          ]
        }
      ]
    },
    {
      "cell_type": "code",
      "source": [
        "print(nu1,'\\n',nu2,'\\n',Ko, '\\n',Kop)"
      ],
      "metadata": {
        "colab": {
          "base_uri": "https://localhost:8080/"
        },
        "id": "cqifnMmXrahq",
        "outputId": "7b74c6c5-e7e5-44be-a3c6-1e9860a5ade8"
      },
      "execution_count": null,
      "outputs": [
        {
          "output_type": "stream",
          "name": "stdout",
          "text": [
            "[0.09834434 0.09495175 0.0933177  0.09172212 0.07010156 0.0491259\n",
            " 0.0304972  0.0203072 ] \n",
            " [0.61443901 0.60336838 0.59809559 0.59298469 0.5377888  0.47348199\n",
            " 0.4356928  0.42107312] \n",
            " [ 4.6608732  11.63383089  5.49958748  4.01253143  1.64234702  1.43829564\n",
            "  1.46474197  1.56363461] \n",
            " [4.6608732  5.79118541 4.39516795 3.68386036 1.88802996 1.68210477\n",
            " 1.67614027 1.69255909]\n"
          ]
        }
      ]
    },
    {
      "cell_type": "markdown",
      "source": [
        "# Plot ∫Tv"
      ],
      "metadata": {
        "id": "yeVH8pKOmcMX"
      }
    },
    {
      "cell_type": "code",
      "source": [
        "import FT\n",
        "import numpy as np\n",
        "\n",
        "v_lower_lim = 0.22\n",
        "\n",
        "v_array = np.linspace(1e-4,1.00,20)\n",
        "ET_array = np.zeros(np.size(v_array))\n",
        "\n",
        "ET = np.zeros([4,np.size(v_array)])\n",
        "ind = 0\n",
        "for d2 in np.arange(2,6,1):\n",
        "    FT.EnergyTr(d2, v_array, ET_array,v_lower_lim)\n",
        "    ET[ind,:] = ET_array\n",
        "    print(ET[ind,:])\n",
        "    ind += 1\n",
        "\n",
        "fig, ax = plt.subplots(figsize = (5,3.5))\n",
        "ax.plot(v_array,ET[0,:],'k.',label=r'$d=2$')\n",
        "ax.plot(v_array,ET[1,:],'rs',markerfacecolor='none',label=r'$d=3$')\n",
        "ax.plot(v_array,ET[2,:],'g.',label=r'$d=4$')\n",
        "ax.plot(v_array,ET[3,:],'b.',label=r'$d=5$')\n",
        "ax.axhline(0,color='k',lw=0.5)\n",
        "ax.axvline(0.22,color='k',lw=0.5)\n",
        "ax.axvline(0.265,color='k',linestyle='--',lw=0.5)\n",
        "\n",
        "ax.set_xlim([0,1])\n",
        "ax.set_ylim([-1.2,1.2])\n",
        "ax.set_xlabel('$V$')\n",
        "ax.set_ylabel('$\\int_{V}^1 T(v)dv$')\n",
        "ax.set_xticks([0,0.2,0.5,1])\n",
        "ax.set_xticklabels([0,0.2,0.5,1])\n",
        "ax.set_yticks([-1.,0,1.])\n",
        "ax.set_yticklabels(['$-1$',0,1])\n",
        "plt.tight_layout()\n",
        "ax.legend(loc = 'lower right')\n",
        "#plt.savefig(\"Tv.pdf\")\n",
        "#files.download(\"Tv.pdf\")\n",
        "plt.show()\n",
        "\n",
        "\n"
      ],
      "metadata": {
        "colab": {
          "base_uri": "https://localhost:8080/",
          "height": 864
        },
        "id": "74_GVKNJdSH9",
        "outputId": "cfbbe627-1027-4e08-9114-a6a67b482fa3"
      },
      "execution_count": null,
      "outputs": [
        {
          "output_type": "stream",
          "name": "stdout",
          "text": [
            "[-1.00020322 -0.7698127  -0.54208675 -0.33781465 -0.15850959 -0.00396792\n",
            "  0.12632339  0.23287531  0.31613474  0.37650506  0.41440232  0.43033208\n",
            "  0.42498451  0.39935234  0.35488481  0.29370562  0.21895963  0.13546552\n",
            "  0.05135872  0.        ]\n"
          ]
        },
        {
          "output_type": "stream",
          "name": "stderr",
          "text": [
            "/usr/local/lib/python3.10/dist-packages/scipy/integrate/_quadrature.py:1074: AccuracyWarning: divmax (10) exceeded. Latest difference = 8.242213e-05\n",
            "  warnings.warn(\n",
            "/usr/local/lib/python3.10/dist-packages/scipy/integrate/_quadrature.py:1074: AccuracyWarning: divmax (10) exceeded. Latest difference = 2.244092e-05\n",
            "  warnings.warn(\n"
          ]
        },
        {
          "output_type": "stream",
          "name": "stdout",
          "text": [
            "[1.0000742  0.91562076 0.83037271 0.75070982 0.67637529 0.63868736\n",
            " 0.60693347 0.57315618 0.53691743 0.49785427 0.45568805 0.41024198\n",
            " 0.36146852 0.30948939 0.25465462 0.19763371 0.13957085 0.08239512\n",
            " 0.02965941 0.        ]\n"
          ]
        },
        {
          "output_type": "stream",
          "name": "stderr",
          "text": [
            "/usr/local/lib/python3.10/dist-packages/scipy/integrate/_quadrature.py:1074: AccuracyWarning: divmax (10) exceeded. Latest difference = 4.680823e-05\n",
            "  warnings.warn(\n",
            "/usr/local/lib/python3.10/dist-packages/scipy/integrate/_quadrature.py:1074: AccuracyWarning: divmax (10) exceeded. Latest difference = 1.274440e-05\n",
            "  warnings.warn(\n"
          ]
        },
        {
          "output_type": "stream",
          "name": "stdout",
          "text": [
            "[1.00007087 0.91940793 0.83799909 0.76192866 0.69091787 0.64506562\n",
            " 0.6043663  0.56342316 0.52172158 0.47881421 0.43432844 0.38798073\n",
            " 0.33959991 0.28916263 0.2368469  0.18311643 0.12886534 0.07570822\n",
            " 0.0267711  0.        ]\n"
          ]
        },
        {
          "output_type": "stream",
          "name": "stderr",
          "text": [
            "/usr/local/lib/python3.10/dist-packages/scipy/integrate/_quadrature.py:1074: AccuracyWarning: divmax (10) exceeded. Latest difference = 3.052083e-05\n",
            "  warnings.warn(\n",
            "/usr/local/lib/python3.10/dist-packages/scipy/integrate/_quadrature.py:1074: AccuracyWarning: divmax (10) exceeded. Latest difference = 8.309844e-06\n",
            "  warnings.warn(\n"
          ]
        },
        {
          "output_type": "stream",
          "name": "stdout",
          "text": [
            "[1.00006895 0.9215975  0.84241409 0.76844503 0.69941622 0.65068671\n",
            " 0.60674894 0.56329584 0.51978058 0.47570858 0.43064324 0.38421871\n",
            " 0.33616229 0.28633047 0.23476448 0.18177981 0.12812051 0.07526717\n",
            " 0.02627469 0.        ]\n"
          ]
        },
        {
          "output_type": "display_data",
          "data": {
            "text/plain": [
              "<Figure size 500x350 with 1 Axes>"
            ],
            "image/png": "[encoded data removed]"
          },
          "metadata": {}
        }
      ]
    },
    {
      "cell_type": "code",
      "source": [
        "import FT\n",
        "import numpy as np\n",
        "\n",
        "v_lower_lim = 1e-5\n",
        "\n",
        "v_array = np.linspace(1e-4,1.00,20)\n",
        "ET_array = np.zeros(np.size(v_array))\n",
        "\n",
        "ET = np.zeros([5,np.size(v_array)])\n",
        "ind = 0\n",
        "for d2 in [2,2.1,2.15,2.2]:\n",
        "    FT.EnergyTr(d2, v_array, ET_array,v_lower_lim)\n",
        "    ET[ind,:] = ET_array\n",
        "    print(ET[ind,:])\n",
        "    ind += 1\n",
        "\n",
        "fig, ax = plt.subplots(figsize = (5,3.5))\n",
        "ax.plot(v_array,ET[0,:],'k.-',lw=1,label=r'$d=2$')\n",
        "ax.plot(v_array,ET[1,:],'rs-',lw=1,markersize=3,label=r'$d=2.1$')\n",
        "ax.plot(v_array,ET[2,:],'gv-',lw=1,markersize=3,label=r'$d=2.15$')\n",
        "ax.plot(v_array,ET[3,:],'b^-',lw=1,markersize=3,label=r'$d=2.2$')\n",
        "#ax.plot(v_array,ET[4,:],'r.',label=r'$d=5$')\n",
        "ax.axhline(0,color='k',lw=0.5)\n",
        "#ax.axvline(0.22,color='k',lw=0.5)\n",
        "#ax.axvline(0.265,color='k',linestyle='--',lw=0.5)\n",
        "\n",
        "ax.set_xlim([0,1])\n",
        "ax.set_ylim([-1.2,1.2])\n",
        "ax.set_xlabel('$V$')\n",
        "ax.set_ylabel('$\\int_{V}^1 T(v)dv$')\n",
        "ax.set_xticks([0,0.5,1])\n",
        "ax.set_xticklabels([0,0.5,1])\n",
        "ax.set_yticks([-1.,0,1.])\n",
        "ax.set_yticklabels(['$-1$',0,1])\n",
        "plt.tight_layout()\n",
        "ax.legend(loc = 'lower right')\n",
        "#plt.savefig(\"Tv_balance.pdf\")\n",
        "#files.download(\"Tv_balance.pdf\")\n",
        "plt.show()"
      ],
      "metadata": {
        "colab": {
          "base_uri": "https://localhost:8080/",
          "height": 1000
        },
        "id": "rmSLoiQfsuPf",
        "outputId": "74722f34-ff75-49c7-bd46-fac06850a0b5"
      },
      "execution_count": null,
      "outputs": [
        {
          "output_type": "stream",
          "name": "stderr",
          "text": [
            "/usr/local/lib/python3.10/dist-packages/scipy/integrate/_quadrature.py:1074: AccuracyWarning: divmax (10) exceeded. Latest difference = 4.507185e-04\n",
            "  warnings.warn(\n",
            "/usr/local/lib/python3.10/dist-packages/scipy/integrate/_quadrature.py:1074: AccuracyWarning: divmax (10) exceeded. Latest difference = 1.227157e-04\n",
            "  warnings.warn(\n"
          ]
        },
        {
          "output_type": "stream",
          "name": "stdout",
          "text": [
            "[-1.00020322 -0.7698127  -0.54208675 -0.33781465 -0.15850959 -0.00396792\n",
            "  0.12632339  0.23287531  0.31613474  0.37650506  0.41440232  0.43033208\n",
            "  0.42498451  0.39935234  0.35488481  0.29370562  0.21895963  0.13546552\n",
            "  0.05135872  0.        ]\n"
          ]
        },
        {
          "output_type": "stream",
          "name": "stderr",
          "text": [
            "/usr/local/lib/python3.10/dist-packages/scipy/integrate/_quadrature.py:1074: AccuracyWarning: divmax (10) exceeded. Latest difference = 1.908144e-04\n",
            "  warnings.warn(\n",
            "/usr/local/lib/python3.10/dist-packages/scipy/integrate/_quadrature.py:1074: AccuracyWarning: divmax (10) exceeded. Latest difference = 1.942931e-05\n",
            "  warnings.warn(\n",
            "/usr/local/lib/python3.10/dist-packages/scipy/integrate/_quadrature.py:1074: AccuracyWarning: divmax (10) exceeded. Latest difference = 5.195227e-05\n",
            "  warnings.warn(\n"
          ]
        },
        {
          "output_type": "stream",
          "name": "stdout",
          "text": [
            "[-0.48262351 -0.19628348  0.08499163  0.3340371   0.54804951  0.72658917\n",
            "  0.86974014  0.97767708  1.05057096  1.08861717  1.09212281  1.06160141\n",
            "  0.99809126  0.90305056  0.77894789  0.62950785  0.46039319  0.28045158\n",
            "  0.10491648  0.        ]\n"
          ]
        },
        {
          "output_type": "stream",
          "name": "stderr",
          "text": [
            "/usr/local/lib/python3.10/dist-packages/scipy/integrate/_quadrature.py:1074: AccuracyWarning: divmax (10) exceeded. Latest difference = 1.798452e-04\n",
            "  warnings.warn(\n",
            "/usr/local/lib/python3.10/dist-packages/scipy/integrate/_quadrature.py:1074: AccuracyWarning: divmax (10) exceeded. Latest difference = 1.927162e-05\n",
            "  warnings.warn(\n",
            "/usr/local/lib/python3.10/dist-packages/scipy/integrate/_quadrature.py:1074: AccuracyWarning: divmax (10) exceeded. Latest difference = 4.896578e-05\n",
            "  warnings.warn(\n"
          ]
        },
        {
          "output_type": "stream",
          "name": "stdout",
          "text": [
            "[0.02671515 0.1852273  0.34026621 0.47628361 0.5913692  0.68500858\n",
            " 0.75703095 0.80735205 0.8359152  0.84270826 0.82781823 0.79151293\n",
            " 0.73434764 0.65730364 0.56197569 0.45084532 0.32772637 0.19862381\n",
            " 0.07395464 0.        ]\n"
          ]
        },
        {
          "output_type": "stream",
          "name": "stderr",
          "text": [
            "/usr/local/lib/python3.10/dist-packages/scipy/integrate/_quadrature.py:1074: AccuracyWarning: divmax (10) exceeded. Latest difference = 1.698863e-04\n",
            "  warnings.warn(\n",
            "/usr/local/lib/python3.10/dist-packages/scipy/integrate/_quadrature.py:1074: AccuracyWarning: divmax (10) exceeded. Latest difference = 1.908900e-05\n",
            "  warnings.warn(\n",
            "/usr/local/lib/python3.10/dist-packages/scipy/integrate/_quadrature.py:1074: AccuracyWarning: divmax (10) exceeded. Latest difference = 4.625435e-05\n",
            "  warnings.warn(\n"
          ]
        },
        {
          "output_type": "stream",
          "name": "stdout",
          "text": [
            "[0.25952953 0.35976566 0.45725643 0.54174976 0.61174116 0.66668022\n",
            " 0.7062779  0.73032999 0.73867441 0.73120292 0.70790103 0.66890935\n",
            " 0.61460505 0.54570902 0.463432   0.36968978 0.26745514 0.16144037\n",
            " 0.05987319 0.        ]\n"
          ]
        },
        {
          "output_type": "display_data",
          "data": {
            "text/plain": [
              "<Figure size 500x350 with 1 Axes>"
            ],
            "image/png": "[encoded data removed]"
          },
          "metadata": {}
        }
      ]
    },
    {
      "cell_type": "markdown",
      "source": [
        "# Plot S2S"
      ],
      "metadata": {
        "id": "BFFGWvMg2p0_"
      }
    },
    {
      "cell_type": "code",
      "source": [
        "#### Shell-to-shell\n",
        "import FT\n",
        "import numpy as np\n",
        "\n",
        "v_lower_lim = 0.22\n",
        "s = 2**(1/4)\n",
        "num_shells = 10\n",
        "Tmn = np.zeros(num_shells)\n",
        "S2S_d = np.zeros([4,num_shells])\n",
        "xarr = np.arange(0,10,1)\n",
        "ind = 0\n",
        "for d in np.arange(2,6,1):\n",
        "    FT.compute_S2S(d, num_shells, s, Tmn)\n",
        "    S2S_d[ind,:] = Tmn\n",
        "    print(d, S2S_d[ind,:])\n",
        "    ind += 1\n",
        "\n",
        "\n",
        "fig, ax = plt.subplots(figsize = (4,2.75))\n",
        "ax.plot(xarr, S2S_d[0,:],'k.-',lw=1,label=r'$d=2$')\n",
        "ax.plot(xarr, S2S_d[1,:],'rs-', lw=1, markerfacecolor='none',label=r'$d=3$')\n",
        "ax.plot(xarr, S2S_d[2,:],'g.',label=r'$d=4$')\n",
        "ax.plot(xarr, S2S_d[3,:],'b.',label=r'$d=5$')\n",
        "ax.axhline(0,color='k',lw=0.5)\n",
        "\n",
        "\n",
        "ax.set_xlim([0,10])\n",
        "ax.set_ylim([-0.1,0.3])\n",
        "ax.set_xlabel('$n-m$')\n",
        "ax.set_ylabel('$T^m_n/\\epsilon_u$')\n",
        "ax.set_xticks([0,5,10])\n",
        "ax.set_xticklabels([0,5,10])\n",
        "ax.set_yticks([-0.1,0,0.2,0.4])\n",
        "ax.set_yticklabels(['$-0.1$',0,0.2,0.4])\n",
        "\n",
        "plt.tight_layout()\n",
        "ax.legend(loc = 'upper right')\n",
        "plt.savefig(\"S2S.pdf\")\n",
        "files.download(\"S2S.pdf\")\n",
        "plt.show()\n"
      ],
      "metadata": {
        "colab": {
          "base_uri": "https://localhost:8080/",
          "height": 578
        },
        "id": "4A2iQmYa2Sfy",
        "outputId": "8c5a572c-acf0-4b86-99a6-b9e88aeed95c"
      },
      "execution_count": null,
      "outputs": [
        {
          "output_type": "stream",
          "name": "stderr",
          "text": [
            "/usr/local/lib/python3.10/dist-packages/scipy/integrate/_quadrature.py:1074: AccuracyWarning: divmax (10) exceeded. Latest difference = 4.507185e-04\n",
            "  warnings.warn(\n"
          ]
        },
        {
          "output_type": "stream",
          "name": "stdout",
          "text": [
            "2 [ 0.          0.29285149  0.05930219  0.00334171 -0.01464702 -0.01957843\n",
            " -0.01955076 -0.01768658 -0.01527748 -0.01286585]\n"
          ]
        },
        {
          "output_type": "stream",
          "name": "stderr",
          "text": [
            "/usr/local/lib/python3.10/dist-packages/scipy/integrate/_quadrature.py:1074: AccuracyWarning: divmax (10) exceeded. Latest difference = 8.242213e-05\n",
            "  warnings.warn(\n"
          ]
        },
        {
          "output_type": "stream",
          "name": "stdout",
          "text": [
            "3 [0.         0.19965077 0.06836569 0.03281903 0.01791798 0.01065856\n",
            " 0.00677548 0.00454381 0.00318141 0.00230486]\n"
          ]
        },
        {
          "output_type": "stream",
          "name": "stderr",
          "text": [
            "/usr/local/lib/python3.10/dist-packages/scipy/integrate/_quadrature.py:1074: AccuracyWarning: divmax (10) exceeded. Latest difference = 4.680823e-05\n",
            "  warnings.warn(\n"
          ]
        },
        {
          "output_type": "stream",
          "name": "stdout",
          "text": [
            "4 [0.         0.18513216 0.06509449 0.03258657 0.01881423 0.01192365\n",
            " 0.00808193 0.00575335 0.0042433  0.00320937]\n"
          ]
        },
        {
          "output_type": "stream",
          "name": "stderr",
          "text": [
            "/usr/local/lib/python3.10/dist-packages/scipy/integrate/_quadrature.py:1074: AccuracyWarning: divmax (10) exceeded. Latest difference = 3.052083e-05\n",
            "  warnings.warn(\n"
          ]
        },
        {
          "output_type": "stream",
          "name": "stdout",
          "text": [
            "5 [0.         0.18373317 0.06422768 0.03239236 0.01903242 0.01232504\n",
            " 0.00853358 0.00618869 0.00463352 0.00354542]\n"
          ]
        },
        {
          "output_type": "display_data",
          "data": {
            "text/plain": [
              "<IPython.core.display.Javascript object>"
            ],
            "application/javascript": [
              "\n",
              "    async function download(id, filename, size) {\n",
              "      if (!google.colab.kernel.accessAllowed) {\n",
              "        return;\n",
              "      }\n",
              "      const div = document.createElement('div');\n",
              "      const label = document.createElement('label');\n",
              "      label.textContent = `Downloading \"${filename}\": `;\n",
              "      div.appendChild(label);\n",
              "      const progress = document.createElement('progress');\n",
              "      progress.max = size;\n",
              "      div.appendChild(progress);\n",
              "      document.body.appendChild(div);\n",
              "\n",
              "      const buffers = [];\n",
              "      let downloaded = 0;\n",
              "\n",
              "      const channel = await google.colab.kernel.comms.open(id);\n",
              "      // Send a message to notify the kernel that we're ready.\n",
              "      channel.send({})\n",
              "\n",
              "      for await (const message of channel.messages) {\n",
              "        // Send a message to notify the kernel that we're ready.\n",
              "        channel.send({})\n",
              "        if (message.buffers) {\n",
              "          for (const buffer of message.buffers) {\n",
              "            buffers.push(buffer);\n",
              "            downloaded += buffer.byteLength;\n",
              "            progress.value = downloaded;\n",
              "          }\n",
              "        }\n",
              "      }\n",
              "      const blob = new Blob(buffers, {type: 'application/binary'});\n",
              "      const a = document.createElement('a');\n",
              "      a.href = window.URL.createObjectURL(blob);\n",
              "      a.download = filename;\n",
              "      div.appendChild(a);\n",
              "      a.click();\n",
              "      div.remove();\n",
              "    }\n",
              "  "
            ]
          },
          "metadata": {}
        },
        {
          "output_type": "display_data",
          "data": {
            "text/plain": [
              "<IPython.core.display.Javascript object>"
            ],
            "application/javascript": [
              "download(\"download_cc4e745a-59fe-43c7-972c-bca6c3b5ce17\", \"S2S.pdf\", 20446)"
            ]
          },
          "metadata": {}
        },
        {
          "output_type": "display_data",
          "data": {
            "text/plain": [
              "<Figure size 400x275 with 1 Axes>"
            ],
            "image/png": "[encoded data removed]"
          },
          "metadata": {}
        }
      ]
    },
    {
      "cell_type": "markdown",
      "source": [
        "# Plot Su1u1, Su2u2"
      ],
      "metadata": {
        "id": "FE6iG4eN8tGQ"
      }
    },
    {
      "cell_type": "code",
      "source": [
        "import FT\n",
        "\n",
        "Nx = 100; Ny=100\n",
        "eps = 1e-2\n",
        "X, Y = np.mgrid[-1+eps:1-eps:complex(0, Nx), eps:2-eps:complex(0, Ny)]\n",
        "Skpq_CH1_array = np.zeros([Nx,Ny])\n",
        "Skpq_CH2_array = np.zeros([Nx,Ny])\n",
        "\n",
        "fig = plt.figure(figsize=(5.5,7.0))\n",
        "fig, ax = plt.subplots(nrows=3, ncols=2)\n",
        "\n",
        "########\n",
        "d=2\n",
        "nu1 = FT.compute_nu1(d); nu2 = FT.compute_nu2(d, 0.4)\n",
        "Skpq_CH1_array = FT.Su1u1(d,nu1, Y,X)\n",
        "Skpq_CH2_array = FT.Su2u2(d,nu1,nu2, Y,X)\n",
        "\n",
        "vmin_my = np.min(Skpq_CH1_array)\n",
        "vmax_my = np.max(Skpq_CH1_array)\n",
        "pcm = ax[0,0].pcolormesh(X, Y, Skpq_CH1_array,\n",
        "          norm=colors.SymLogNorm(linthresh=1e-4, linscale=1e-4,\n",
        "          vmin=vmin_my, vmax=vmax_my), cmap='RdBu_r')\n",
        "maxlog = int(np.ceil( np.log10(vmax_my) ))\n",
        "minlog = int(np.ceil( np.log10(-vmin_my) ))\n",
        "\n",
        "logthresh = 5 #generate logarithmic ticks\n",
        "tick_locations=([-(10**x) for x in range(minlog,-logthresh-1,-1)]\n",
        "                    +[0.0]\n",
        "                +[(10**x) for x in range(-logthresh,maxlog+1)] )\n",
        "\n",
        "vmin_my2 = np.min(Skpq_CH2_array)\n",
        "vmax_my2 = np.max(Skpq_CH2_array)\n",
        "pcm = ax[0,1].pcolormesh(X, Y, Skpq_CH2_array,\n",
        "          norm=colors.SymLogNorm(linthresh=1e-4, linscale=1e-4,\n",
        "          vmin=vmin_my, vmax=vmax_my), cmap='RdBu_r')\n",
        "maxlog= int(np.ceil( np.log10(vmax_my) ))\n",
        "minlog= int(np.ceil( np.log10(-vmin_my) ))\n",
        "\n",
        "logthresh = 5\n",
        "tick_locations=([-(10**x) for x in range(minlog,-logthresh-1,-1)]\n",
        "                    +[0.0]\n",
        "                    +[(10**x) for x in range(-logthresh,maxlog+1)] )\n",
        "\n",
        "########\n",
        "d=3\n",
        "nu1 = FT.compute_nu1(d); nu2 = FT.compute_nu2(d, 0.4)\n",
        "Skpq_CH1_array = FT.Su1u1(d,nu1, Y,X)\n",
        "Skpq_CH2_array = 0.1*FT.Su2u2(d,nu1,nu2, Y,X)\n",
        "\n",
        "vmin_my = np.min(Skpq_CH1_array)\n",
        "vmax_my = np.max(Skpq_CH1_array)\n",
        "pcm = ax[1,0].pcolormesh(X, Y, Skpq_CH1_array,\n",
        "          norm=colors.SymLogNorm(linthresh=1e-4, linscale=1e-4,\n",
        "          vmin=vmin_my, vmax=vmax_my), cmap='RdBu_r')\n",
        "maxlog= int(np.ceil( np.log10(vmax_my) ))\n",
        "minlog= int(np.ceil( np.log10(-vmin_my) ))\n",
        "\n",
        "logthresh = 5\n",
        "tick_locations=([-(10**x) for x in range(minlog,-logthresh-1,-1)]\n",
        "                    +[0.0]\n",
        "                +[(10**x) for x in range(-logthresh,maxlog+1)] )\n",
        "\n",
        "vmin_my = np.min(Skpq_CH2_array)\n",
        "vmax_my = np.max(Skpq_CH2_array)\n",
        "pcm = ax[1,1].pcolormesh(X, Y, Skpq_CH2_array,\n",
        "          norm=colors.SymLogNorm(linthresh=1e-4, linscale=1e-4,\n",
        "          vmin=vmin_my, vmax=vmax_my), cmap='RdBu_r')\n",
        "maxlog= int(np.ceil( np.log10(vmax_my) ))\n",
        "minlog= int(np.ceil( np.log10(-vmin_my) ))\n",
        "\n",
        "logthresh = 5\n",
        "tick_locations=([-(10**x) for x in range(minlog,-logthresh-1,-1)]\n",
        "                    +[0.0]\n",
        "                    +[(10**x) for x in range(-logthresh,maxlog+1)] )\n",
        "\n",
        "########\n",
        "d=5\n",
        "nu1 = FT.compute_nu1(d); nu2 = FT.compute_nu2(d, 0.4)\n",
        "Skpq_CH1_array = FT.Su1u1(d,nu1, Y,X)\n",
        "Skpq_CH2_array = 0.1*FT.Su2u2(d,nu1,nu2, Y,X)\n",
        "\n",
        "vmin_my = np.min(Skpq_CH1_array)\n",
        "vmax_my = np.max(Skpq_CH1_array)\n",
        "pcm = ax[2,0].pcolormesh(X, Y, Skpq_CH1_array,\n",
        "          norm=colors.SymLogNorm(linthresh=1e-4, linscale=1e-4,\n",
        "          vmin=vmin_my, vmax=vmax_my), cmap='RdBu_r')\n",
        "maxlog= int(np.ceil( np.log10(vmax_my) ))\n",
        "minlog= int(np.ceil( np.log10(-vmin_my) ))\n",
        "\n",
        "logthresh = 5\n",
        "tick_locations=([-(10**x) for x in range(minlog,-logthresh-1,-1)]\n",
        "                    +[0.0]\n",
        "                +[(10**x) for x in range(-logthresh,maxlog+1)] )\n",
        "\n",
        "vmin_my = np.min(Skpq_CH2_array)\n",
        "vmax_my = np.max(Skpq_CH2_array)\n",
        "pcm = ax[2,1].pcolormesh(X, Y, Skpq_CH2_array,\n",
        "          norm=colors.SymLogNorm(linthresh=1e-4, linscale=1e-4,\n",
        "          vmin=vmin_my, vmax=vmax_my), cmap='RdBu_r')\n",
        "maxlog= int(np.ceil( np.log10(vmax_my) ))\n",
        "minlog= int(np.ceil( np.log10(-vmin_my) ))\n",
        "\n",
        "logthresh = 5\n",
        "tick_locations=([-(10**x) for x in range(minlog,-logthresh-1,-1)]\n",
        "                    +[0.0]\n",
        "                    +[(10**x) for x in range(-logthresh,maxlog+1)] )\n",
        "asp_ratio = 0.5\n",
        "ax[0,0].set_aspect(asp_ratio)\n",
        "ax[0,1].set_aspect(asp_ratio)\n",
        "ax[1,0].set_aspect(asp_ratio)\n",
        "ax[1,1].set_aspect(asp_ratio)\n",
        "ax[2,0].set_aspect(asp_ratio)\n",
        "ax[2,1].set_aspect(asp_ratio)\n",
        "\n",
        "\n",
        "ax[0,0].set_ylabel('$v$')\n",
        "ax[0,0].set_yticks([0,1,2])\n",
        "ax[0,0].set_yticklabels([0, 1,2]); ax[0,0].set_xticklabels([])\n",
        "ax[1,0].set_ylabel('$v$')\n",
        "ax[1,0].set_yticks([0,1,2]); ax[1,0].set_xticklabels([])\n",
        "ax[1,0].set_yticklabels([0, 1,2])\n",
        "ax[2,0].set_ylabel('$v$'); ax[2,0].set_xlabel('$z$')\n",
        "ax[2,0].set_yticks([0,1,2])\n",
        "ax[0,0].set_xticks([-1,0,1]); ax[1,0].set_xticks([-1,0,1])\n",
        "ax[2,0].set_xticks([-1,0,1])\n",
        "ax[2,0].set_xticklabels(['$-1$',0,1])\n",
        "ax[2,0].set_yticklabels([0, 1,2])\n",
        "\n",
        "\n",
        "ax[0,1].set_xticklabels([]); ax[0,1].set_yticklabels([])\n",
        "ax[1,1].set_xticklabels([]); ax[1,1].set_yticklabels([])\n",
        "ax[2,1].set_xticklabels(['$-1$',0,1]); ax[2,1].set_yticklabels([])\n",
        "ax[0,1].set_xticks([-1,0,1]); ax[0,1].set_yticks([0,1,2])\n",
        "ax[1,1].set_xticks([-1,0,1]); ax[1,1].set_yticks([0,1,2])\n",
        "ax[2,1].set_xticks([-1,0,1]); ax[2,1].set_yticks([0,1,2])\n",
        "ax[2,1].set_xlabel('$z$')\n",
        "\n",
        "ax[0,0].set_title('$(a): S^{u_1 u_1}(d=2,v,z)$')\n",
        "ax[0,1].set_title('$(b): S^{u_2 u_2}(d=2,v,z)$')\n",
        "ax[1,0].set_title('$(c): S^{u_1 u_1}(d=3,v,z)$')\n",
        "ax[1,1].set_title('$(d): S^{u_2 u_2}(d=3,v,z)$')\n",
        "ax[2,0].set_title('$(e): S^{u_1 u_1}(d=5,v,z)$')\n",
        "ax[2,1].set_title('$(f): S^{u_2 u_2}(d=5,v,z)$')\n",
        "\n",
        "#fig.colorbar(pcm, ticks=tick_locations)\n",
        "\n",
        "plt.tight_layout(h_pad=0,w_pad=0)\n",
        "#plt.savefig(\"Skpq.pdf\")\n",
        "#files.download(\"Skpq.pdf\")\n",
        "\n",
        "plt.show()"
      ],
      "metadata": {
        "colab": {
          "base_uri": "https://localhost:8080/",
          "height": 554
        },
        "id": "qTvfssjB8oxh",
        "outputId": "30724399-4c89-4e57-a82a-4ff61b9e36c6"
      },
      "execution_count": null,
      "outputs": [
        {
          "output_type": "stream",
          "name": "stderr",
          "text": [
            "<ipython-input-31-78cef6302d11>:132: UserWarning: FixedFormatter should only be used together with FixedLocator\n",
            "  ax[2,1].set_xticklabels(['$-1$',0,1]); ax[2,1].set_yticklabels([])\n"
          ]
        },
        {
          "output_type": "display_data",
          "data": {
            "text/plain": [
              "<IPython.core.display.Javascript object>"
            ],
            "application/javascript": [
              "\n",
              "    async function download(id, filename, size) {\n",
              "      if (!google.colab.kernel.accessAllowed) {\n",
              "        return;\n",
              "      }\n",
              "      const div = document.createElement('div');\n",
              "      const label = document.createElement('label');\n",
              "      label.textContent = `Downloading \"${filename}\": `;\n",
              "      div.appendChild(label);\n",
              "      const progress = document.createElement('progress');\n",
              "      progress.max = size;\n",
              "      div.appendChild(progress);\n",
              "      document.body.appendChild(div);\n",
              "\n",
              "      const buffers = [];\n",
              "      let downloaded = 0;\n",
              "\n",
              "      const channel = await google.colab.kernel.comms.open(id);\n",
              "      // Send a message to notify the kernel that we're ready.\n",
              "      channel.send({})\n",
              "\n",
              "      for await (const message of channel.messages) {\n",
              "        // Send a message to notify the kernel that we're ready.\n",
              "        channel.send({})\n",
              "        if (message.buffers) {\n",
              "          for (const buffer of message.buffers) {\n",
              "            buffers.push(buffer);\n",
              "            downloaded += buffer.byteLength;\n",
              "            progress.value = downloaded;\n",
              "          }\n",
              "        }\n",
              "      }\n",
              "      const blob = new Blob(buffers, {type: 'application/binary'});\n",
              "      const a = document.createElement('a');\n",
              "      a.href = window.URL.createObjectURL(blob);\n",
              "      a.download = filename;\n",
              "      div.appendChild(a);\n",
              "      a.click();\n",
              "      div.remove();\n",
              "    }\n",
              "  "
            ]
          },
          "metadata": {}
        },
        {
          "output_type": "display_data",
          "data": {
            "text/plain": [
              "<IPython.core.display.Javascript object>"
            ],
            "application/javascript": [
              "download(\"download_762f9224-acbb-4729-bb80-04d180c27eaa\", \"Suu.pdf\", 1075745)"
            ]
          },
          "metadata": {}
        },
        {
          "output_type": "display_data",
          "data": {
            "text/plain": [
              "<Figure size 550x700 with 0 Axes>"
            ]
          },
          "metadata": {}
        },
        {
          "output_type": "display_data",
          "data": {
            "text/plain": [
              "<Figure size 640x480 with 6 Axes>"
            ],
            "image/png": "[encoded data removed]"
          },
          "metadata": {}
        }
      ]
    }
  ],
  "metadata": {
    "colab": {
      "provenance": [],
      "toc_visible": true,
      "authorship_tag": "ABX9TyPuRhQQIZE7shh/saknw7WC",
      "include_colab_link": true
    },
    "kernelspec": {
      "display_name": "Python 3",
      "name": "python3"
    },
    "language_info": {
      "name": "python"
    }
  },
  "nbformat": 4,
  "nbformat_minor": 0
}