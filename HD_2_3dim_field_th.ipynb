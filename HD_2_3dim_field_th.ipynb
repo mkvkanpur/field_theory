{
  "cells": [
    {
      "cell_type": "markdown",
      "metadata": {
        "id": "view-in-github",
        "colab_type": "text"
      },
      "source": [
        "<a href=\"https://colab.research.google.com/github/mkvkanpur/field_theory/blob/main/HD_2_3dim_field_th.ipynb\" target=\"_parent\"><img src=\"https://colab.research.google.com/assets/colab-badge.svg\" alt=\"Open In Colab\"/></a>"
      ]
    },
    {
      "cell_type": "markdown",
      "metadata": {
        "id": "mwc6ZU-zfX10"
      },
      "source": [
        "# Definition"
      ]
    },
    {
      "cell_type": "code",
      "execution_count": null,
      "metadata": {
        "id": "J4lH5WjKfWBo"
      },
      "outputs": [],
      "source": [
        "import numpy as np\n",
        "import math as m\n",
        "from scipy.integrate import quad, romberg\n",
        "import matplotlib.pyplot as plt\n",
        "import matplotlib.colors as colors\n",
        "\n",
        "import matplotlib as mpl\n",
        "\n",
        "mpl.rcParams.update(mpl.rcParamsDefault)\n",
        "mpl.rcParams['mathtext.fontset'] = 'cm'\n",
        "mpl.rcParams['font.family'] = 'STIXGeneral'\n",
        "\n",
        "mpl.rc('font', size=12)\n",
        "mpl.rc('axes', titlesize=10) #fontsize of the title\n",
        "mpl.rc('axes', labelsize=10) #fontsize of the x and y labels\n",
        "mpl.rc('xtick', labelsize=10) #fontsize of the x tick labels\n",
        "mpl.rc('ytick', labelsize=10) #fontsize of the y tick labels\n",
        "mpl.rc('legend', fontsize=10) #fontsize of the legend\n",
        "\n",
        "d = 2\n",
        "\n",
        "def area_sphere(d):\n",
        "\treturn(2*np.pi**(d/2)/m.gamma(d/2.0))\n",
        "\n",
        "def C(v):\n",
        "  return((2.0/(area_sphere(d)*(d-1)))*pow(v,-d-2.0/3))\n",
        "\n",
        "def dvol_RG(v, z):\n",
        "  if (d==2):\n",
        "    return 2*v/np.sqrt(1-z**2)\n",
        "  elif (d==3):\n",
        "    return area_sphere(d-1)*v**2\n",
        "\n",
        "# for 2D\n",
        "def dvol_RG_TFM(v, z):\n",
        "  return 2*v\n",
        "\n",
        "def dvol_ET(v, z):\n",
        "  if (d==2):\n",
        "    return area_sphere(d)*area_sphere(d-1)*v\n",
        "  elif (d==3):\n",
        "    return area_sphere(d)*area_sphere(d-1)*v**2\n"
      ]
    },
    {
      "cell_type": "code",
      "execution_count": null,
      "metadata": {
        "colab": {
          "base_uri": "https://localhost:8080/"
        },
        "id": "3nEixlPiLEMe",
        "outputId": "1f91492b-5974-49b9-b363-79d8680784dd"
      },
      "outputs": [
        {
          "output_type": "stream",
          "name": "stdout",
          "text": [
            "2.0 78.95683520871486 3.0\n"
          ]
        }
      ],
      "source": [
        "x = C(1)\n",
        "print(area_sphere(1), 8*np.pi**2, dvol_RG_TFM(1.5,0.9))\n"
      ]
    },
    {
      "cell_type": "markdown",
      "metadata": {
        "id": "jVGQsTuHcDC9"
      },
      "source": [
        "# RG of CH1 field\n",
        "\n",
        "b = 1.7\n",
        "Intgral = 0.010527571761813579\n",
        "nu1 = 0.10260395587799516"
      ]
    },
    {
      "cell_type": "code",
      "execution_count": null,
      "metadata": {
        "colab": {
          "base_uri": "https://localhost:8080/"
        },
        "id": "6r3q3dSucGw2",
        "outputId": "6af3677b-0f08-44dd-c5b6-0e2fd97c01a4"
      },
      "outputs": [
        {
          "output_type": "stream",
          "name": "stdout",
          "text": [
            "0.010527571761813579 0.144080635033982\n"
          ]
        }
      ],
      "source": [
        "b = 1.7\n",
        "\n",
        "def RG1_CH1(v,z):\n",
        "  wsqr = 1 + v**2 - 2*v*z\n",
        "  denr = v**(2/3) + wsqr**(1/3)\n",
        "  return dvol_RG(v,z)*C(v)*(1-v**2)*(1-z**2) \\\n",
        "          *(2*v*z-1)/(wsqr*denr)\n",
        "\n",
        "def RG2_CH1(v,z):\n",
        "  w = np.sqrt(1 + v**2 - 2*v*z)\n",
        "  denr = v**(2/3) + w**(2/3)\n",
        "  return dvol_RG(v,z) *v * (1-z**2) \\\n",
        "          *(2*v*z-1) * (v-2*z)* C(w) /(w**2*denr)\n",
        "\n",
        "def fv_RG_2D(v):\n",
        "  lower_lim = (v**2+1-b**2)/(2*v)\n",
        "  upper_lim = v/2\n",
        "  f1 = quad(lambda z: RG1_CH1(v,z), lower_lim, upper_lim)[0]\n",
        "  f2 = quad(lambda z: RG2_CH1(v,z), lower_lim, upper_lim)[0]\n",
        "  return f1+f2\n",
        "\n",
        "integ_CH1 = -romberg(lambda v: fv_RG_2D(v), 1, b)\n",
        "nu1 =  np.sqrt(integ_CH1/(1-b**(-4/3)))\n",
        "\n",
        "print(integ_CH1, nu1)\n",
        "\n"
      ]
    },
    {
      "cell_type": "markdown",
      "source": [
        "# Test-field model of Kraichnan"
      ],
      "metadata": {
        "id": "IpzQjJMQwdWL"
      }
    },
    {
      "cell_type": "code",
      "source": [
        "from scipy.special import roots_jacobi\n",
        "from scipy.integrate import quad, romberg\n",
        "from google.colab import files\n",
        "\n",
        "b = 300\n",
        "\n",
        "\n",
        "n=100\n",
        "alpha = 1/2; beta = 1/2\n",
        "[rt, wt] = roots_jacobi(n, alpha, beta, mu=False)\n",
        "\n",
        "def TFM1_CH1(v,z):\n",
        "  w = np.sqrt(1 + v**2 - 2*v*z)\n",
        "  denr = v**(2/3) + w**(2/3)\n",
        "  return dvol_RG_TFM(v,z)*C(v)*(1-v**2) \\\n",
        "          *(2*v*z-1)/(w**2*denr)\n",
        "\n",
        "def TFM2_CH1(v,z):\n",
        "  w = np.sqrt(1 + v**2 - 2*v*z)\n",
        "  denr = v**(2/3) + w**(2/3)\n",
        "  return dvol_RG_TFM(v,z) *v  \\\n",
        "          *(2*v*z-1) * (v-2*z)* C(w) /(w**2*denr)\n",
        "\n",
        "\n",
        "def fvTFM_2D(v):\n",
        "  f1 = sum(TFM1_CH1(v, rt)*wt)\n",
        "  f2 = sum(TFM2_CH1(v, rt)*wt)\n",
        "  return  f1 + f2\n",
        "\n",
        "myeps = 1.5e-1\n",
        "integ_CH1 = -romberg(lambda v: fvTFM_2D(v), 1+myeps, b)\n",
        "nu1 =  np.sqrt(abs(integ_CH1))\n",
        "\n",
        "print(integ_CH1, nu1)\n",
        "\n"
      ],
      "metadata": {
        "colab": {
          "base_uri": "https://localhost:8080/"
        },
        "id": "oDhtjRYJwXMx",
        "outputId": "ace634a2-6dad-402e-d60a-727ff051be34"
      },
      "execution_count": null,
      "outputs": [
        {
          "output_type": "stream",
          "name": "stdout",
          "text": [
            "0.48089516701419394 0.6934660532529289\n"
          ]
        },
        {
          "output_type": "stream",
          "name": "stderr",
          "text": [
            "/usr/local/lib/python3.10/dist-packages/scipy/integrate/_quadrature.py:960: AccuracyWarning: divmax (10) exceeded. Latest difference = 2.537572e-01\n",
            "  warnings.warn(\n"
          ]
        }
      ]
    },
    {
      "cell_type": "markdown",
      "metadata": {
        "id": "hpBUKb8A3ulb"
      },
      "source": [
        "# RG of CH2 fields"
      ]
    },
    {
      "cell_type": "code",
      "execution_count": null,
      "metadata": {
        "colab": {
          "base_uri": "https://localhost:8080/"
        },
        "id": "IPNvFmwf3yGc",
        "outputId": "8a0c95f4-ea0a-491f-b705-d918e0e25f0c"
      },
      "outputs": [
        {
          "output_type": "stream",
          "name": "stdout",
          "text": [
            "0.11974474403599905 0.48592555426548273\n"
          ]
        }
      ],
      "source": [
        "b = 1.7\n",
        "d=3\n",
        "\n",
        "def RG1_3D(v,z):\n",
        "  wsqr = 1 + v**2 - 2*v*z\n",
        "  denr = v**(2/3) + wsqr**(1/3)\n",
        "  return dvol_RG(v,z)*C(v)*(1-z**2)/denr\n",
        "\n",
        "def RG2_3D(v,z):\n",
        "  w = np.sqrt(1 + v**2 - 2*v*z)\n",
        "  denr = v**(2/3) + w**(2/3)\n",
        "  return dvol_RG(v,z) * v**2 * (1-z**2)*C(w)/(w**2*denr)\n",
        "\n",
        "def fv(v):\n",
        "  lower_lim = (v**2+1-b**2)/(2*v)\n",
        "  upper_lim = v/2\n",
        "  f1 =  quad(lambda z: RG1_3D(v,z), lower_lim, upper_lim)[0]\n",
        "  f2 =  quad(lambda z: RG2_3D(v,z), lower_lim, upper_lim)[0]\n",
        "  return f1+f2\n",
        "\n",
        "#integ_CH1 = romberg(lambda p: quad(lambda q: fCH1(p,q), 1,min(p+1,b))[0], 1, b)\n",
        "integ_CH2 = romberg(lambda v: fv(v), 1, b)\n",
        "nu2 =  np.sqrt(integ_CH2/(1-b**(-4/3)))\n",
        "\n",
        "print(integ_CH2, nu2)\n"
      ]
    },
    {
      "cell_type": "markdown",
      "metadata": {
        "id": "G5Fo_5FScTxS"
      },
      "source": [
        "# CH2: 3D ET integral using exact functions from Mathematica"
      ]
    },
    {
      "cell_type": "code",
      "execution_count": null,
      "metadata": {
        "colab": {
          "base_uri": "https://localhost:8080/"
        },
        "id": "MonP8z02kClg",
        "outputId": "748a49e5-092f-4594-a57c-c070c7fc6331"
      },
      "outputs": [
        {
          "output_type": "stream",
          "name": "stderr",
          "text": [
            "/usr/local/lib/python3.10/dist-packages/scipy/integrate/_quadrature.py:960: AccuracyWarning: divmax (10) exceeded. Latest difference = 1.047346e-04\n",
            "  warnings.warn(\n"
          ]
        },
        {
          "output_type": "stream",
          "name": "stdout",
          "text": [
            "Flux: I, Ko  0.21612742855288922 1.4567414357151085 \n",
            "\n",
            "\n",
            "S2S ET n_m, T^m_n =  1 0.13047714839053576\n",
            "S2S ET n_m, T^m_n =  2 0.05610903610081066\n",
            "S2S ET n_m, T^m_n =  3 0.034411282922545625\n",
            "S2S ET n_m, T^m_n =  4 0.023433665727750044\n",
            "S2S ET n_m, T^m_n =  5 0.016876483220984173\n",
            "S2S ET n_m, T^m_n =  6 0.012585019392688706\n",
            "S2S ET n_m, T^m_n =  7 0.009603973253029302\n",
            "S2S ET n_m, T^m_n =  8 0.007444795733790762\n",
            "S2S ET n_m, T^m_n =  9 0.005833045060676278\n"
          ]
        }
      ],
      "source": [
        "def f(v,z):\n",
        "  numr1 = 28+ 51*(v**(2/3)+v**(4/3))+ 60*v**2+ 162*(v**(8/3)+v**(10/3))+ 60*v**4 \\\n",
        "      + 51*(v**(14/3)+v**(16/3))+ 28*v**6- 66*v*z -132*z*(v**(5/3)+v**(7/3)) \\\n",
        "      - 44*v**3*z -132*z*(v**(11/3)+v**(13/3))- 66*z*v**5\n",
        "  numr1 *= 63\n",
        "  denr1 = (1+v**(2/3))**4 * (1+v**2-2*v*z)**(11/6)\n",
        "\n",
        "  numr2 = 20+ 39*(v**(2/3)+v**(4/3))+ 36*v**2+ 90*(v**(8/3)+v**(10/3))+ 36*v**4 \\\n",
        "      + 39*(v**(14/3)+v**(16/3))+ 20*v**6- 42*v*z -84*z*(v**(5/3)+v**(7/3)) \\\n",
        "      - 28*v**3*z -84*z*(v**(11/3)+v**(13/3))- 42*z*v**5\n",
        "  numr2 *= 495\n",
        "  denr2 =  (1+v**(2/3))**6 * (1+v**2-2*v*z)**(7/6)\n",
        "\n",
        "  numr3 = -8 -15*(v**(2/3)+v**(4/3)) -16*v**2 -42*(v**(8/3)+v**(10/3)) -16*v**4 \\\n",
        "      -15*(v**(14/3)+v**(16/3)) -8*v**6 +18*v*z +36*z*(v**(5/3)+v**(7/3)) \\\n",
        "      +12*v**3*z +36*z*(v**(11/3)+v**(13/3)) +18*z*v**5\n",
        "  numr3 *= 385\n",
        "  denr3 =  (1+v**(2/3))**5 * (1+v**2-2*v*z)**(3/2)\n",
        "\n",
        "  numr4 = 4 +12*v**(2/3) +21*(v**(4/3)+v**(8/3)) + 22*v**2 + 12*v**(10/3) + 4*v**4\n",
        "  numr4 *= 3465*np.arctan((1+v**2-2*v*z)**(1/6)/np.sqrt(1+v**(2/3)))\n",
        "  denr4 =  (1+v**(2/3))**(13/2)\n",
        "\n",
        "  final_numr = (numr1/denr1 + numr2/denr2 + numr3/denr3 + numr4/denr4)\n",
        "  final_denr = 4620*v**3\n",
        "\n",
        "  return final_numr/final_denr\n",
        "\n",
        "myeps = 1e-5\n",
        "def fv(v):\n",
        "  return -(f(v,1-myeps) - f(v,-1+myeps))* np.log(1/v) * v**4 * (1-v**(-11/3))\n",
        "\n",
        "integ = romberg(lambda v: fv(v), myeps, 1-myeps)/2\n",
        "\n",
        "nu2 = 0.38\n",
        "Ko = (integ/nu2)**(-2/3)\n",
        "\n",
        "print(\"Flux: I, Ko \", integ, Ko, '\\n\\n')\n",
        "\n",
        "\n",
        "def fuv_shell(u, v):\n",
        "  return -(f(v,1-myeps) - f(v,-1+myeps)) * v**4 * (1-v**(-11/3)) /u\n",
        "\n",
        "s=2**(1/4)\n",
        "Kko = 1.6\n",
        "nu2 = 0.4\n",
        "prefactor = Kko**(3/2)/nu2\n",
        "\n",
        "def Tmn_estimate(n_m):\n",
        "  return (1/25)*(s**5-1)**2/s**(5*(1+n_m))\n",
        "\n",
        "for n_m in range(1,10):\n",
        "  integ = (1/2)*romberg(lambda u: romberg(lambda v: fuv_shell(u,v), u*s**(-n_m),u*s**(-n_m+1)), 1/s, 1)\n",
        "  print(\"S2S ET n_m, T^m_n = \", n_m, prefactor*integ)"
      ]
    },
    {
      "cell_type": "markdown",
      "metadata": {
        "id": "tA5WOfszLk_P"
      },
      "source": [
        "# CH1: ET using Gauss-Jacobi integral\n",
        "\n",
        "∫dv from 0 to 1: \\\n",
        "ET integral  = -0.03784671886084705  \\\n",
        "Ko = 1.9442230356143744\\\n",
        "\n",
        "∫dv from 0.2 to 1:\n",
        "ET integral  = -0.007290650178527362 \\\n",
        "Ko = 5.828910678531284"
      ]
    },
    {
      "cell_type": "code",
      "execution_count": null,
      "metadata": {
        "colab": {
          "base_uri": "https://localhost:8080/"
        },
        "id": "sjs1BpHPcXvj",
        "outputId": "f9d690a9-62bf-443f-f84d-9c6840d9043b"
      },
      "outputs": [
        {
          "output_type": "stream",
          "name": "stderr",
          "text": [
            "/usr/local/lib/python3.10/dist-packages/scipy/integrate/_quadrature.py:960: AccuracyWarning: divmax (10) exceeded. Latest difference = 4.200820e-05\n",
            "  warnings.warn(\n"
          ]
        },
        {
          "output_type": "stream",
          "name": "stdout",
          "text": [
            "Integral, Ko, nu1 =  -0.07477491800797621 1.5485979863576276 0.1441\n",
            "prefactor = 13.373468358645749\n"
          ]
        },
        {
          "output_type": "stream",
          "name": "stderr",
          "text": [
            "/usr/local/lib/python3.10/dist-packages/scipy/integrate/_quadrature.py:960: AccuracyWarning: divmax (10) exceeded. Latest difference = 1.260607e-05\n",
            "  warnings.warn(\n",
            "/usr/local/lib/python3.10/dist-packages/scipy/integrate/_quadrature.py:960: AccuracyWarning: divmax (10) exceeded. Latest difference = 8.371652e-08\n",
            "  warnings.warn(\n",
            "/usr/local/lib/python3.10/dist-packages/scipy/integrate/_quadrature.py:960: AccuracyWarning: divmax (10) exceeded. Latest difference = 8.634358e-08\n",
            "  warnings.warn(\n",
            "/usr/local/lib/python3.10/dist-packages/scipy/integrate/_quadrature.py:960: AccuracyWarning: divmax (10) exceeded. Latest difference = 3.694903e-06\n",
            "  warnings.warn(\n",
            "/usr/local/lib/python3.10/dist-packages/scipy/integrate/_quadrature.py:960: AccuracyWarning: divmax (10) exceeded. Latest difference = 3.486606e-08\n",
            "  warnings.warn(\n",
            "/usr/local/lib/python3.10/dist-packages/scipy/integrate/_quadrature.py:960: AccuracyWarning: divmax (10) exceeded. Latest difference = 1.608292e-07\n",
            "  warnings.warn(\n",
            "/usr/local/lib/python3.10/dist-packages/scipy/integrate/_quadrature.py:960: AccuracyWarning: divmax (10) exceeded. Latest difference = 8.847047e-07\n",
            "  warnings.warn(\n",
            "/usr/local/lib/python3.10/dist-packages/scipy/integrate/_quadrature.py:960: AccuracyWarning: divmax (10) exceeded. Latest difference = 3.782527e-06\n",
            "  warnings.warn(\n",
            "/usr/local/lib/python3.10/dist-packages/scipy/integrate/_quadrature.py:960: AccuracyWarning: divmax (10) exceeded. Latest difference = 2.089474e-08\n",
            "  warnings.warn(\n",
            "/usr/local/lib/python3.10/dist-packages/scipy/integrate/_quadrature.py:960: AccuracyWarning: divmax (10) exceeded. Latest difference = 5.614728e-08\n",
            "  warnings.warn(\n",
            "/usr/local/lib/python3.10/dist-packages/scipy/integrate/_quadrature.py:960: AccuracyWarning: divmax (10) exceeded. Latest difference = 1.243010e-07\n",
            "  warnings.warn(\n",
            "/usr/local/lib/python3.10/dist-packages/scipy/integrate/_quadrature.py:960: AccuracyWarning: divmax (10) exceeded. Latest difference = 1.682955e-07\n",
            "  warnings.warn(\n",
            "/usr/local/lib/python3.10/dist-packages/scipy/integrate/_quadrature.py:960: AccuracyWarning: divmax (10) exceeded. Latest difference = 2.103001e-07\n",
            "  warnings.warn(\n",
            "/usr/local/lib/python3.10/dist-packages/scipy/integrate/_quadrature.py:960: AccuracyWarning: divmax (10) exceeded. Latest difference = 2.086456e-06\n",
            "  warnings.warn(\n",
            "/usr/local/lib/python3.10/dist-packages/scipy/integrate/_quadrature.py:960: AccuracyWarning: divmax (10) exceeded. Latest difference = 4.884113e-06\n",
            "  warnings.warn(\n",
            "/usr/local/lib/python3.10/dist-packages/scipy/integrate/_quadrature.py:960: AccuracyWarning: divmax (10) exceeded. Latest difference = 1.924828e-06\n",
            "  warnings.warn(\n"
          ]
        },
        {
          "output_type": "stream",
          "name": "stdout",
          "text": [
            "S2S ET n_m, T^m_n =  1 0.308787434990388 0.308787434990388\n",
            "S2S ET n_m, T^m_n =  2 0.06003064095701715 0.1200612819140343\n",
            "S2S ET n_m, T^m_n =  3 0.0033827555018245935 0.01014826650547378\n",
            "S2S ET n_m, T^m_n =  4 -0.01482693812934379 -0.05930775251737516\n",
            "S2S ET n_m, T^m_n =  5 -0.01981892526410777 -0.09909462632053886\n",
            "S2S ET n_m, T^m_n =  6 -0.019790919329505306 -0.11874551597703184\n",
            "S2S ET n_m, T^m_n =  7 -0.01790383801495342 -0.12532686610467392\n",
            "S2S ET n_m, T^m_n =  8 -0.015465146596335768 -0.12372117277068614\n",
            "S2S ET n_m, T^m_n =  9 -0.013023892977241828 -0.11721503679517645\n",
            "S2S ET n_m, T^m_n =  10 -0.0107997897808217 -0.107997897808217\n",
            "S2S ET n_m, T^m_n =  11 -0.00886507492561094 -0.09751582418172033\n",
            "S2S ET n_m, T^m_n =  12 -0.007225804540729042 -0.08670965448874851\n",
            "S2S ET n_m, T^m_n =  13 -0.0058595789843557755 -0.07617452679662508\n",
            "S2S ET n_m, T^m_n =  14 -0.004733452139693286 -0.06626832995570602\n",
            "S2S ET n_m, T^m_n =  15 -0.0038124550819885164 -0.05718682622982774\n",
            "S2S ET n_m, T^m_n =  16 -0.0030635271386374938 -0.0490164342181999\n",
            "S2S ET n_m, T^m_n =  17 -0.0024571502929938947 -0.041771554980896214\n",
            "S2S ET n_m, T^m_n =  18 -0.001967829341291478 -0.035420928143246606\n",
            "S2S ET n_m, T^m_n =  19 -0.001574004484079191 -0.02990608519750463\n",
            "S2S ET n_m, T^m_n =  20 -0.001257704038961931 -0.02515408077923862\n",
            "S2S ET n_m, T^m_n =  21 -0.0010040995585280752 -0.02108609072908958\n",
            "S2S ET n_m, T^m_n =  22 -0.0008010475832201458 -0.01762304683084321\n",
            "S2S ET n_m, T^m_n =  23 -0.0006386595879468693 -0.014689170522777994\n",
            "S2S ET n_m, T^m_n =  24 -0.0005089182585779836 -0.012214038205871606\n",
            "S2S ET n_m, T^m_n =  25 -0.00040534554863983413 -0.010133638715995853\n",
            "S2S ET n_m, T^m_n =  26 -0.00032272124961580387 -0.008390752490010901\n",
            "S2S ET n_m, T^m_n =  27 -0.00025684836354614165 -0.006934905815745825\n",
            "S2S ET n_m, T^m_n =  28 -0.00020435804159916186 -0.005722025164776532\n",
            "S2S ET n_m, T^m_n =  29 -0.0001625505396512631 -0.004713965649886629\n",
            "S2S ET n_m, T^m_n =  30 -0.00012926493253786144 -0.0038779479761358432\n"
          ]
        }
      ],
      "source": [
        "import numpy as np\n",
        "from scipy.special import roots_jacobi\n",
        "from scipy.integrate import quad, romberg\n",
        "from google.colab import files\n",
        "\n",
        "n=100\n",
        "alpha = 1/2; beta = 1/2\n",
        "[rt, wt] = roots_jacobi(n, alpha, beta, mu=False)\n",
        "\n",
        "def fET1_CH1(v,z):\n",
        "  w = np.sqrt(1 + v**2 - 2*v*z)\n",
        "  denr = 1 + v**(2/3) + w**(2/3)\n",
        "  a = v*z\n",
        "  return dvol_ET(v,z) * a*(2*a-1) * 2*C(v)*C(w)/(w**2*denr)\n",
        "\n",
        "def fET2_CH1(v,z):\n",
        "  w = np.sqrt(1 + v**2 - 2*v*z)\n",
        "  denr = 1 + v**(2/3) + w**(2/3)\n",
        "  return dvol_ET(v,z) * (v**3*z - 2*(v*z)**2) * 2*C(1)*C(w)/(w**2*denr)\n",
        "\n",
        "def fET3_CH1(v,z):\n",
        "  w = np.sqrt(1 + v**2 - 2*v*z)\n",
        "  denr = 1 + v**(2/3) + w**(2/3)\n",
        "  return dvol_ET(v,z) * v*(1-v*v)*z * 2*C(1)*C(v)/(w**2*denr)\n",
        "\n",
        "def fvET_CH1(v):\n",
        "  f1 = sum(fET1_CH1(v, rt)*wt)\n",
        "  f2 = sum(fET2_CH1(v, rt)*wt)\n",
        "  f3 = sum(fET3_CH1(v, rt)*wt)\n",
        "  return  np.log(1/v) * (f1+f2+f3)\n",
        "\n",
        "myeps =1e-6\n",
        "integ = romberg(lambda v: fvET_CH1(v), myeps, 1)\n",
        "\n",
        "nu_CH1 = 0.1441\n",
        "Ko_CH1 = (nu_CH1/(abs(integ)))**(2/3)\n",
        "\n",
        "print(\"Integral, Ko, nu1 = \", integ, Ko_CH1, nu_CH1)\n",
        "\n",
        "\n",
        "\n",
        "#######\n",
        "## S2S\n",
        "\n",
        "s = 2**(1/4)\n",
        "\n",
        "def fuv_shell_CH1(u, v):\n",
        "  f1 = sum(fET1_CH1(v, rt)*wt)\n",
        "  f2 = sum(fET2_CH1(v, rt)*wt)\n",
        "  f3 = sum(fET3_CH1(v, rt)*wt)\n",
        "  return  (1/u)* (f1+f2+f3)\n",
        "\n",
        "s=2**(1/4)\n",
        "prefactor = Ko_CH1**(3/2)/nu_CH1\n",
        "print(\"prefactor =\", prefactor)\n",
        "sumTmn2D = np.zeros(30)\n",
        "Tmn2D = np.zeros(30)\n",
        "for n_m in range(1,31):\n",
        "  integ = romberg(lambda u: romberg(lambda v: fuv_shell_CH1(u,v), \\\n",
        "                                  u*s**(-n_m),u*s**(-n_m+1)), 1/s, 1)\n",
        "  Tmn2D[n_m-1] = prefactor*integ\n",
        "  sumTmn2D[n_m-1] = n_m*Tmn2D[n_m-1]\n",
        "  print(\"S2S ET n_m, T^m_n = \", n_m, Tmn2D[n_m-1], sumTmn2D[n_m-1])\n",
        "\n",
        "cumsumTmn2D = np.cumsum(sumTmn2D)\n",
        "#print(cumsumTmn2D)"
      ]
    },
    {
      "cell_type": "markdown",
      "source": [
        "#CH1: 2D enstrophy flux\n",
        "\n",
        "∫dv from 0 (1e-7) to 1: \\\n",
        "Integral =  -0.0004689265089047973 k^2 \\\n",
        "enstrophy_flux =  -0.012387635283218313 k^2 \\\n",
        "\n",
        "\n",
        "\n",
        "∫dv from 0.20 to 1: \\\n",
        "Integral =  0.009374197815041542 k^2 \\\n",
        "enstrophy_flux = 0.24763825759539743 k^2 \\\n",
        "\n",
        "\n"
      ],
      "metadata": {
        "id": "fVbFBrQFfJRE"
      }
    },
    {
      "cell_type": "code",
      "source": [
        "def fwwET1_CH1(v,z):\n",
        "  return fET1_CH1(v,z)*v/z\n",
        "\n",
        "def fwwET2_CH1(v,z):\n",
        "  return fET2_CH1(v,z)*v/z\n",
        "\n",
        "def fwwET3_CH1(v,z):\n",
        "  return fET3_CH1(v,z)*v/z\n",
        "\n",
        "def fenstrophyET_CH1(v):\n",
        "  f1 = sum(fwwET1_CH1(v, rt)*wt)\n",
        "  f2 = sum(fwwET2_CH1(v, rt)*wt)\n",
        "  f3 = sum(fwwET3_CH1(v, rt)*wt)\n",
        "  return  (f1+f2+f3)*(1/v**2-1)/2\n",
        "\n",
        "myeps = 0.235\n",
        "integ = romberg(lambda v: fenstrophyET_CH1(v), myeps, 1)\n",
        "\n",
        "Ko_CH1 = 6.395\n",
        "prefactor = Ko_CH1**(3/2)/nu_CH1\n",
        "\n",
        "print(\"Integral, enstrophy_flux= \", integ, integ*prefactor)\n",
        "\n",
        "'''\n",
        "#######\n",
        "## S2S  (incorrect.. k^2 )\n",
        "\n",
        "s = 2**(1/4)\n",
        "\n",
        "def fuv_shell_CH1(u, v):\n",
        "  f1 = sum(fwwET1_CH1(v, rt)*wt)\n",
        "  f2 = sum(fwwET2_CH1(v, rt)*wt)\n",
        "  f3 = sum(fwwET3_CH1(v, rt)*wt)\n",
        "  return  (1/u**3)* (f1+f2+f3)\n",
        "\n",
        "s=2**(1/4)\n",
        "prefactor = Ko_CH1**(3/2)/nu_CH1\n",
        "\n",
        "sumTmn2D_ww = np.zeros(10)\n",
        "Tmn2D_ww = np.zeros(10)\n",
        "for n_m in range(1,11):\n",
        "  integ = romberg(lambda u: romberg(lambda v: fuv_shell_CH1(u,v), \\\n",
        "                                  u*s**(-n_m),u*s**(-n_m+1)), 1/s, 1)\n",
        "  Tmn2D_ww[n_m-1] = prefactor*integ\n",
        "  sumTmn2D_ww[n_m-1] = n_m*Tmn2D[n_m-1]\n",
        "  print(\"S2S ET n_m, T^m_n = \", n_m, Tmn2D_ww[n_m-1], sumTmn2D_ww[n_m-1])\n",
        "\n",
        "cumsumTmn2D_ww = np.cumsum(sumTmn2D_ww)\n",
        "print(cumsumTmn2D_ww)\n",
        "'''\n"
      ],
      "metadata": {
        "colab": {
          "base_uri": "https://localhost:8080/",
          "height": 212
        },
        "id": "Qo0fjBgjfPsQ",
        "outputId": "0845e1bc-8dc9-435d-c8a9-89fb9551cae7"
      },
      "execution_count": null,
      "outputs": [
        {
          "output_type": "stream",
          "name": "stdout",
          "text": [
            "Integral, enstrophy_flux=  0.17259963920363242 27.20528914056\n"
          ]
        },
        {
          "output_type": "execute_result",
          "data": {
            "text/plain": [
              "'\\n#######\\n## S2S  (incorrect.. k^2 )\\n\\ns = 2**(1/4)\\n\\ndef fuv_shell_CH1(u, v):\\n  f1 = sum(fwwET1_CH1(v, rt)*wt)\\n  f2 = sum(fwwET2_CH1(v, rt)*wt)\\n  f3 = sum(fwwET3_CH1(v, rt)*wt)\\n  return  (1/u**3)* (f1+f2+f3)\\n\\ns=2**(1/4)\\nprefactor = Ko_CH1**(3/2)/nu_CH1\\n\\nsumTmn2D_ww = np.zeros(10)\\nTmn2D_ww = np.zeros(10)\\nfor n_m in range(1,11):\\n  integ = romberg(lambda u: romberg(lambda v: fuv_shell_CH1(u,v),                                   u*s**(-n_m),u*s**(-n_m+1)), 1/s, 1)\\n  Tmn2D_ww[n_m-1] = prefactor*integ\\n  sumTmn2D_ww[n_m-1] = n_m*Tmn2D[n_m-1]\\n  print(\"S2S ET n_m, T^m_n = \", n_m, Tmn2D_ww[n_m-1], sumTmn2D_ww[n_m-1])\\n\\ncumsumTmn2D_ww = np.cumsum(sumTmn2D_ww)\\nprint(cumsumTmn2D_ww)\\n'"
            ],
            "application/vnd.google.colaboratory.intrinsic+json": {
              "type": "string"
            }
          },
          "metadata": {},
          "execution_count": 18
        }
      ]
    },
    {
      "cell_type": "markdown",
      "metadata": {
        "id": "-I3gFITJvIWk"
      },
      "source": [
        "# CH2: Flux and Tmn using Gauss-Jacobi Integral\n",
        "\n",
        "(1-z^2) is covered by Gauss-Jacobi integral.\n",
        "\n",
        "for CH1: ∫dv 0.2 to 1\n",
        "integ_ET_CH1 = -0.005336017162832876 \\\n",
        "integ_ET_CH2 = 0.21614288919980962 \\\n",
        "integ_by_nu = 0.5433982745583429 \\\n",
        "Ko = 1.501716075993456 \\\n",
        "Ko_CH2 = 1.3684326602926873\n",
        "\n"
      ]
    },
    {
      "cell_type": "code",
      "execution_count": null,
      "metadata": {
        "colab": {
          "base_uri": "https://localhost:8080/",
          "height": 714
        },
        "id": "-g54G-Hdm-qj",
        "outputId": "7f7d1e60-cb03-486a-ade3-51a9481f5d93"
      },
      "outputs": [
        {
          "output_type": "stream",
          "name": "stdout",
          "text": [
            "integ_ET_CH1, integ_ET_CH2, integ_by_nu, Ko, Ko_CH2  \n",
            " -0.004953749867131312 0.21614288919980962 0.39109002010301586 1.8698876397551123 1.7160790828430448\n",
            "\n",
            "\n",
            "Ko_CH2  1.7160790828430448 0.4859 4.626569042831508\n",
            "S2S ET n_m, T^m_n =  1 0.1193373260714881 0.1193373260714881\n",
            "S2S ET n_m, T^m_n =  2 0.051306441907970894 0.10261288381594179\n",
            "S2S ET n_m, T^m_n =  3 0.03146588370437839 0.09439765111313517\n",
            "S2S ET n_m, T^m_n =  4 0.021427884503026854 0.08571153801210742\n",
            "S2S ET n_m, T^m_n =  5 0.015431957462189845 0.07715978731094922\n",
            "S2S ET n_m, T^m_n =  6 0.011507817195440874 0.06904690317264524\n",
            "S2S ET n_m, T^m_n =  7 0.00878193072762562 0.06147351509337934\n",
            "S2S ET n_m, T^m_n =  8 0.00680756585665598 0.05446052685324784\n",
            "S2S ET n_m, T^m_n =  9 0.005333771376922545 0.048003942392302906\n",
            "S2S ET n_m, T^m_n =  10 0.004209397662468215 0.04209397662468215\n",
            "S2S ET n_m, T^m_n =  11 0.003338096060136865 0.03671905666150552\n",
            "S2S ET n_m, T^m_n =  12 0.002655430267431358 0.031865163209176296\n",
            "S2S ET n_m, T^m_n =  13 0.002116477825161304 0.027514211727096956\n",
            "S2S ET n_m, T^m_n =  14 0.001688802368793312 0.02364323316310637\n",
            "S2S ET n_m, T^m_n =  15 0.0013482991116796276 0.020224486675194414\n",
            "S2S ET n_m, T^m_n =  16 0.0010766432921691278 0.017226292674706045\n",
            "S2S ET n_m, T^m_n =  17 0.0008596621681188912 0.01461425685802115\n",
            "S2S ET n_m, T^m_n =  18 0.0006862555861269896 0.012352600550285812\n",
            "S2S ET n_m, T^m_n =  19 0.0005476527037640289 0.010405401371516548\n",
            "S2S ET n_m, T^m_n =  20 0.00043688171120462473 0.008737634224092494\n",
            "S2S ET n_m, T^m_n =  21 0.00034837947400088114 0.007315968954018504\n",
            "S2S ET n_m, T^m_n =  22 0.0002776966001253438 0.006109325202757564\n",
            "S2S ET n_m, T^m_n =  23 0.0002212700150463136 0.005089210346065212\n",
            "S2S ET n_m, T^m_n =  24 0.00017624491942945996 0.004229878066307039\n",
            "S2S ET n_m, T^m_n =  25 0.00014033391091678777 0.003508347772919694\n",
            "S2S ET n_m, T^m_n =  26 0.00011170467674369339 0.0029043215953360284\n",
            "S2S ET n_m, T^m_n =  27 8.889026193441978e-05 0.002400037072229334\n",
            "S2S ET n_m, T^m_n =  28 7.071669156563881e-05 0.0019800673638378868\n",
            "S2S ET n_m, T^m_n =  29 5.6245154703332767e-05 0.0016311094863966503\n",
            "S2S ET n_m, T^m_n =  30 4.4725339438621616e-05 0.0013417601831586484\n",
            "T11 =  4.626569042831508 0.030609703672063122\n"
          ]
        },
        {
          "output_type": "execute_result",
          "data": {
            "text/plain": [
              "'\\nn_m = 1\\nfor s in range(2,10):\\n  integ = romberg(lambda u: romberg(lambda v: fuv_shell_CH2(u,v),                                   u*s**(-n_m),u*s**(-n_m+1)), 1/s, 1)\\n  print(s, prefactor*integ)\\n'"
            ],
            "application/vnd.google.colaboratory.intrinsic+json": {
              "type": "string"
            }
          },
          "metadata": {},
          "execution_count": 16
        }
      ],
      "source": [
        "from scipy.special import roots_jacobi\n",
        "from google.colab import files\n",
        "\n",
        "d=3\n",
        "n=500\n",
        "\n",
        "alpha = 1; beta = 1\n",
        "\n",
        "[rt, wt] = roots_jacobi(n, alpha, beta, mu=False)\n",
        "\n",
        "def fET_CH2(v,z):\n",
        "  w = np.sqrt(1 + v**2 - 2*v*z)\n",
        "  denr = 1 + v**(2/3) + w**(2/3)\n",
        "  return -dvol_ET(v,z) * v**2 * (C(1)-C(v))* C(w)/(w**2*denr)\n",
        "\n",
        "def fvET_CH2(v):\n",
        "  return sum(fET_CH2(v, rt)*wt) * np.log(1/v)\n",
        "\n",
        "\n",
        "integ_ET_CH2 = romberg(lambda v: fvET_CH2(v), 1e-7, 1)\n",
        "nu_CH2 = 0.4859\n",
        "\n",
        "nu_CH1 = 0.09218 # for 3D\n",
        "integ_ET_CH1 = romberg(lambda v: fvET_CH1(v), 0.235, 1)\n",
        "\n",
        "integ_by_nu = integ_ET_CH1/nu_CH1 + integ_ET_CH2/nu_CH2\n",
        "\n",
        "Ko = (integ_by_nu)**(-2/3)\n",
        "\n",
        "Ko_CH2 = (integ_ET_CH2/nu_CH2)**(-2/3)\n",
        "\n",
        "print(\"integ_ET_CH1, integ_ET_CH2, integ_by_nu, Ko, Ko_CH2 \" ,'\\n',\n",
        "      integ_ET_CH1, integ_ET_CH2, integ_by_nu, Ko, Ko_CH2)\n",
        "print(\"\\n\")\n",
        "\n",
        "#### S2S ####\n",
        "\n",
        "def fuv_shell_CH2(u, v):\n",
        "  return sum(fET_CH2(v, rt)*wt)/u\n",
        "\n",
        "s=2**(1/4)\n",
        "prefactor = Ko_CH2**(3/2)/nu_CH2\n",
        "print(\"Ko_CH2 \", Ko_CH2, nu_CH2, prefactor)\n",
        "sumTmn = np.zeros(30)\n",
        "Tmn = np.zeros(30)\n",
        "for n_m in range(1,31):\n",
        "  integ = romberg(lambda u: romberg(lambda v: fuv_shell_CH2(u,v), \\\n",
        "                                  u*s**(-n_m),u*s**(-n_m+1)), 1/s, 1)\n",
        "  Tmn[n_m-1] = prefactor*integ\n",
        "  sumTmn[n_m-1] = n_m*Tmn[n_m-1]\n",
        "  print(\"S2S ET n_m, T^m_n = \", n_m, Tmn[n_m-1], sumTmn[n_m-1])\n",
        "\n",
        "cumsumTmn = np.cumsum(sumTmn)\n",
        "#print(cumsumTmn)\n",
        "\n",
        "s=2**(1/4)\n",
        "prefactor = Ko_CH2**(3/2)/nu_CH2\n",
        "print (\"T11 = \", prefactor, prefactor*(27/280)*(1-s**(-4/3))*(1-s**(-7/3)))\n",
        "\n",
        "\n",
        "'''\n",
        "n_m = 1\n",
        "for s in range(2,10):\n",
        "  integ = romberg(lambda u: romberg(lambda v: fuv_shell_CH2(u,v), \\\n",
        "                                  u*s**(-n_m),u*s**(-n_m+1)), 1/s, 1)\n",
        "  print(s, prefactor*integ)\n",
        "'''"
      ]
    },
    {
      "cell_type": "code",
      "execution_count": null,
      "metadata": {
        "colab": {
          "base_uri": "https://localhost:8080/"
        },
        "id": "j1UnZ7xBQlTY",
        "outputId": "5137c61d-b5e9-4556-b78b-24cd7c66c776"
      },
      "outputs": [
        {
          "data": {
            "text/plain": [
              "array([0.        , 0.11933733, 0.10261288, 0.09439765, 0.08571154,\n",
              "       0.07715979, 0.0690469 , 0.06147352, 0.05446053, 0.04800394,\n",
              "       0.04209398, 0.03671906, 0.03186516, 0.02751421, 0.02364323,\n",
              "       0.02022449, 0.01722629, 0.01461426, 0.0123526 , 0.0104054 ,\n",
              "       0.00873763, 0.00731597, 0.00610933, 0.00508921, 0.00422988,\n",
              "       0.00350835, 0.00290432, 0.00240004, 0.00198007, 0.00163111,\n",
              "       0.        ])"
            ]
          },
          "execution_count": 12,
          "metadata": {},
          "output_type": "execute_result"
        }
      ],
      "source": [
        "cumsumTmn"
      ]
    },
    {
      "cell_type": "markdown",
      "metadata": {
        "id": "Xoz6Z5_xOziY"
      },
      "source": [
        "# Plot CH1-ET"
      ]
    },
    {
      "cell_type": "code",
      "execution_count": null,
      "metadata": {
        "colab": {
          "base_uri": "https://localhost:8080/",
          "height": 1000
        },
        "id": "r4AYoBQaO3dJ",
        "outputId": "9fb6653b-d3a2-4e40-c054-980aa5d372ee"
      },
      "outputs": [
        {
          "output_type": "display_data",
          "data": {
            "text/plain": [
              "<Figure size 350x250 with 2 Axes>"
            ],
            "image/png": "[encoded data removed]"
          },
          "metadata": {}
        },
        {
          "output_type": "display_data",
          "data": {
            "text/plain": [
              "<Figure size 350x250 with 2 Axes>"
            ],
            "image/png": "[encoded data removed]"
          },
          "metadata": {}
        },
        {
          "output_type": "display_data",
          "data": {
            "text/plain": [
              "<Figure size 600x270 with 4 Axes>"
            ],
            "image/png": "[encoded data removed]"
          },
          "metadata": {}
        },
        {
          "output_type": "stream",
          "name": "stdout",
          "text": [
            "pn =  [-0.21772153 -2.36498701] 0.09395052097734753 [ 0.29282787  0.0592974   0.00334144 -0.01464584 -0.01957685]\n"
          ]
        },
        {
          "output_type": "stream",
          "name": "stderr",
          "text": [
            "<ipython-input-31-8f22c90456e1>:210: UserWarning: This figure includes Axes that are not compatible with tight_layout, so results might be incorrect.\n",
            "  plt.tight_layout()\n"
          ]
        },
        {
          "output_type": "display_data",
          "data": {
            "text/plain": [
              "<IPython.core.display.Javascript object>"
            ],
            "application/javascript": [
              "\n",
              "    async function download(id, filename, size) {\n",
              "      if (!google.colab.kernel.accessAllowed) {\n",
              "        return;\n",
              "      }\n",
              "      const div = document.createElement('div');\n",
              "      const label = document.createElement('label');\n",
              "      label.textContent = `Downloading \"${filename}\": `;\n",
              "      div.appendChild(label);\n",
              "      const progress = document.createElement('progress');\n",
              "      progress.max = size;\n",
              "      div.appendChild(progress);\n",
              "      document.body.appendChild(div);\n",
              "\n",
              "      const buffers = [];\n",
              "      let downloaded = 0;\n",
              "\n",
              "      const channel = await google.colab.kernel.comms.open(id);\n",
              "      // Send a message to notify the kernel that we're ready.\n",
              "      channel.send({})\n",
              "\n",
              "      for await (const message of channel.messages) {\n",
              "        // Send a message to notify the kernel that we're ready.\n",
              "        channel.send({})\n",
              "        if (message.buffers) {\n",
              "          for (const buffer of message.buffers) {\n",
              "            buffers.push(buffer);\n",
              "            downloaded += buffer.byteLength;\n",
              "            progress.value = downloaded;\n",
              "          }\n",
              "        }\n",
              "      }\n",
              "      const blob = new Blob(buffers, {type: 'application/binary'});\n",
              "      const a = document.createElement('a');\n",
              "      a.href = window.URL.createObjectURL(blob);\n",
              "      a.download = filename;\n",
              "      div.appendChild(a);\n",
              "      a.click();\n",
              "      div.remove();\n",
              "    }\n",
              "  "
            ]
          },
          "metadata": {}
        },
        {
          "output_type": "display_data",
          "data": {
            "text/plain": [
              "<IPython.core.display.Javascript object>"
            ],
            "application/javascript": [
              "download(\"download_ea5d3017-c6f7-43c4-8092-d9d9831d688c\", \"Tmn_CH1.pdf\", 22503)"
            ]
          },
          "metadata": {}
        },
        {
          "output_type": "display_data",
          "data": {
            "text/plain": [
              "<Figure size 500x300 with 2 Axes>"
            ],
            "image/png": "[encoded data removed]"
          },
          "metadata": {}
        },
        {
          "output_type": "stream",
          "name": "stdout",
          "text": [
            "prefactor = 1.5359620155500302 0.1441 13.210119087135348\n"
          ]
        },
        {
          "output_type": "display_data",
          "data": {
            "text/plain": [
              "<IPython.core.display.Javascript object>"
            ],
            "application/javascript": [
              "\n",
              "    async function download(id, filename, size) {\n",
              "      if (!google.colab.kernel.accessAllowed) {\n",
              "        return;\n",
              "      }\n",
              "      const div = document.createElement('div');\n",
              "      const label = document.createElement('label');\n",
              "      label.textContent = `Downloading \"${filename}\": `;\n",
              "      div.appendChild(label);\n",
              "      const progress = document.createElement('progress');\n",
              "      progress.max = size;\n",
              "      div.appendChild(progress);\n",
              "      document.body.appendChild(div);\n",
              "\n",
              "      const buffers = [];\n",
              "      let downloaded = 0;\n",
              "\n",
              "      const channel = await google.colab.kernel.comms.open(id);\n",
              "      // Send a message to notify the kernel that we're ready.\n",
              "      channel.send({})\n",
              "\n",
              "      for await (const message of channel.messages) {\n",
              "        // Send a message to notify the kernel that we're ready.\n",
              "        channel.send({})\n",
              "        if (message.buffers) {\n",
              "          for (const buffer of message.buffers) {\n",
              "            buffers.push(buffer);\n",
              "            downloaded += buffer.byteLength;\n",
              "            progress.value = downloaded;\n",
              "          }\n",
              "        }\n",
              "      }\n",
              "      const blob = new Blob(buffers, {type: 'application/binary'});\n",
              "      const a = document.createElement('a');\n",
              "      a.href = window.URL.createObjectURL(blob);\n",
              "      a.download = filename;\n",
              "      div.appendChild(a);\n",
              "      a.click();\n",
              "      div.remove();\n",
              "    }\n",
              "  "
            ]
          },
          "metadata": {}
        },
        {
          "output_type": "display_data",
          "data": {
            "text/plain": [
              "<IPython.core.display.Javascript object>"
            ],
            "application/javascript": [
              "download(\"download_5f01b788-d5e5-4cb9-b126-366bbdb4e22e\", \"Flux_fraction_CH1.pdf\", 21814)"
            ]
          },
          "metadata": {}
        },
        {
          "output_type": "display_data",
          "data": {
            "text/plain": [
              "<Figure size 500x350 with 1 Axes>"
            ],
            "image/png": "[encoded data removed]"
          },
          "metadata": {}
        },
        {
          "output_type": "stream",
          "name": "stdout",
          "text": [
            "Integral, Ko=  1.5359620155500302 0.1441\n"
          ]
        }
      ],
      "source": [
        "import numpy as np\n",
        "import matplotlib as mpl\n",
        "import matplotlib.pyplot as plt\n",
        "import matplotlib.colors as colors\n",
        "from google.colab import files\n",
        "\n",
        "d = 2\n",
        "def Skpq_CH1(v,z):\n",
        "  w = np.sqrt(1 + v**2 - 2*v*z)\n",
        "  denr = 1 + v**(2/3) + w**(2/3)\n",
        "  numr1 =  (v*z)*(2*v*z-1) * 2*C(v)*C(w)\n",
        "  numr2 = (v**3*z - 2*(v*z)**2) * 2*C(1)*C(w)\n",
        "  numr3 = v*(1-v*v)*z * 2*C(1)*C(v)\n",
        "  return (numr1 + numr2 + numr3)*(1-z**2)/(w**2*denr)\n",
        "\n",
        "def Fv_CH1_plot(v,z):\n",
        "  return dvol_ET(v,z) * np.log(1/v)/np.sqrt(1-z**2) * Skpq_CH1(v,z)\n",
        "\n",
        "\n",
        "Nx = 100; Ny=100\n",
        "eps = 1e-2\n",
        "X, Y = np.mgrid[-1+eps:1-eps:complex(0, Nx), eps:2-eps:complex(0, Ny)]\n",
        "\n",
        "Skpq_CH1_array = np.zeros([Nx,Ny])\n",
        "Skpq_CH1_array = Skpq_CH1(Y,X)\n",
        "\n",
        "fig, ax = plt.subplots(figsize = (3.5,2.5))\n",
        "\n",
        "vmin_my = np.min(Skpq_CH1_array)\n",
        "vmax_my = np.max(Skpq_CH1_array)\n",
        "\n",
        "pcm = ax.pcolormesh(X, Y, Skpq_CH1_array,\n",
        "          norm=colors.SymLogNorm(linthresh=1e-4, linscale=1e-4,\n",
        "          vmin=vmin_my, vmax=vmax_my), cmap='RdBu_r')\n",
        "\n",
        "maxlog=int(np.ceil( np.log10(vmax_my) ))\n",
        "minlog=int(np.ceil( np.log10(-vmin_my) ))\n",
        "\n",
        "#generate logarithmic ticks\n",
        "logthresh = 3\n",
        "tick_locations=([-(10**x) for x in range(minlog,-logthresh-1,-1)]\n",
        "                    +[0.0]\n",
        "                    +[(10**x) for x in range(-logthresh,maxlog+1)] )\n",
        "\n",
        "ax.set_xlabel('$z$')\n",
        "ax.set_ylabel('$v$')\n",
        "ax.set_xticks([-1,0,1])\n",
        "ax.set_xticklabels([-1,0,1])\n",
        "ax.set_yticks([0,1,2])\n",
        "ax.set_yticklabels([0, 1,2])\n",
        "fig.colorbar(pcm, ticks=tick_locations)\n",
        "plt.tight_layout()\n",
        "#plt.savefig(\"Suu_kpq_CH1.pdf\")\n",
        "#files.download(\"Suu_kpq_CH1.pdf\")\n",
        "plt.show()\n",
        "\n",
        "\n",
        "##### Fv plot; Pi = \\int Fv dv dz\n",
        "eps = 1e-2\n",
        "X, Y = np.mgrid[-1+eps:1-eps:complex(0, Nx), eps:1-eps:complex(0, Ny)]\n",
        "\n",
        "Fv_CH1_plot_array = np.zeros([Nx,Ny])\n",
        "Fv_CH1_plot_array = Fv_CH1_plot(Y,X)\n",
        "\n",
        "fig, ax = plt.subplots(figsize = (3.5,2.5))\n",
        "\n",
        "vmin_my = np.min(Fv_CH1_plot_array)\n",
        "vmax_my = np.max(Fv_CH1_plot_array)\n",
        "\n",
        "pcm = ax.pcolormesh(X, Y, Fv_CH1_plot_array,\n",
        "                       norm=colors.SymLogNorm(linthresh=1e-4, linscale=1e-4,\n",
        "                                              vmin=vmin_my, vmax=vmax_my),\n",
        "                       cmap='RdBu_r')\n",
        "\n",
        "maxlog=int(np.ceil( np.log10(vmax_my) ))\n",
        "minlog=int(np.ceil( np.log10(-vmin_my) ))\n",
        "\n",
        "#generate logarithmic ticks\n",
        "logthresh = 3\n",
        "tick_locations=([-(10**x) for x in range(minlog,-logthresh-1,-1)]\n",
        "                    +[0.0]\n",
        "                    +[(10**x) for x in range(-logthresh,maxlog+1)] )\n",
        "\n",
        "ax.set_xlabel('$z$')\n",
        "ax.set_ylabel('$v$')\n",
        "ax.set_xticks([-1,0,1])\n",
        "ax.set_xticklabels([-1,0,1])\n",
        "ax.set_yticks([0,1])\n",
        "ax.set_yticklabels([0, 1])\n",
        "fig.colorbar(pcm, ticks = tick_locations)\n",
        "plt.tight_layout()\n",
        "#plt.savefig(\"Tv_CH1.pdf\")\n",
        "#files.download(\"Tv_CH1.pdf\")\n",
        "plt.show()\n",
        "\n",
        "######\n",
        "### Skpq and Tv together..\n",
        "#####\n",
        "Nx = 100; Ny=100\n",
        "eps = 1e-2\n",
        "X, Y = np.mgrid[-1+eps:1-eps:complex(0, Nx), eps:2-eps:complex(0, Ny)]\n",
        "\n",
        "\n",
        "Skpq_CH1_array = np.zeros([Nx,Ny])\n",
        "Skpq_CH1_array = Skpq_CH1(Y,X)\n",
        "\n",
        "fig, (ax1, ax2) =  plt.subplots(1, 2, figsize = (6,2.7))\n",
        "\n",
        "vmin_my = np.min(Skpq_CH1_array)\n",
        "vmax_my = np.max(Skpq_CH1_array)\n",
        "\n",
        "pcm = ax1.pcolormesh(X, Y, Skpq_CH1_array,\n",
        "          norm=colors.SymLogNorm(linthresh=1e-4, linscale=1e-4,\n",
        "          vmin=vmin_my, vmax=vmax_my), cmap='RdBu_r')\n",
        "\n",
        "maxlog=int(np.ceil( np.log10(vmax_my) ))\n",
        "minlog=int(np.ceil( np.log10(-vmin_my) ))\n",
        "\n",
        "#generate logarithmic ticks\n",
        "logthresh = 3\n",
        "tick_locations=([-(10**x) for x in range(minlog,-logthresh-1,-1)]\n",
        "                    +[0.0]\n",
        "                    +[(10**x) for x in range(-logthresh,maxlog+1)] )\n",
        "\n",
        "ax1.set_xlabel('$z$')\n",
        "ax1.set_ylabel('$v$')\n",
        "ax1.set_title('(a): $S^{u_1 u_1}(\\mathbf{1|v|w}) $')\n",
        "ax1.set_xticks([-1,0,1])\n",
        "ax1.set_xticklabels(['$-1$',0,1])\n",
        "ax1.set_yticks([0,1,2])\n",
        "ax1.set_yticklabels([0, 1,2])\n",
        "fig.colorbar(pcm, ticks=tick_locations)\n",
        "\n",
        "\n",
        "##### Fv plot; Pi = \\int Fv dv dz\n",
        "eps = 1e-2\n",
        "X, Y = np.mgrid[-1+eps:1-eps:complex(0, Nx), eps:1-eps:complex(0, Ny)]\n",
        "\n",
        "Fv_CH1_plot_array = np.zeros([Nx,Ny])\n",
        "Fv_CH1_plot_array = Fv_CH1_plot(Y,X)\n",
        "\n",
        "vmin_my = np.min(Fv_CH1_plot_array)\n",
        "vmax_my = np.max(Fv_CH1_plot_array)\n",
        "\n",
        "pcm = ax2.pcolormesh(X, Y, Fv_CH1_plot_array,\n",
        "                       norm=colors.SymLogNorm(linthresh=1e-4, linscale=1e-4,\n",
        "                                              vmin=vmin_my, vmax=vmax_my),\n",
        "                       cmap='RdBu_r')\n",
        "\n",
        "maxlog=int(np.ceil( np.log10(vmax_my) ))\n",
        "minlog=int(np.ceil( np.log10(-vmin_my) ))\n",
        "\n",
        "#generate logarithmic ticks\n",
        "logthresh = 3\n",
        "tick_locations=([-(10**x) for x in range(minlog,-logthresh-1,-1)]\n",
        "                    +[0.0]\n",
        "                    +[(10**x) for x in range(-logthresh,maxlog+1)] )\n",
        "\n",
        "ax2.set_xlabel('$z$')\n",
        "#ax2.set_ylabel('$v$')\n",
        "ax2.set_title('(b): $ \\mathrm{VolET}(v,z) S^{u_1 u_1}(\\mathbf{1|v|w})  $')\n",
        "ax2.set_xticks([-1,0,1])\n",
        "ax2.set_xticklabels(['$-1$',0,1])\n",
        "ax2.set_yticks([0,1])\n",
        "ax2.set_yticklabels([0, 1])\n",
        "fig.colorbar(pcm, ticks = tick_locations)\n",
        "\n",
        "plt.tight_layout()\n",
        "#plt.savefig(\"Suu_CH1_combined.pdf\")\n",
        "#iles.download(\"Suu_CH1_combined.pdf\")\n",
        "plt.show()\n",
        "\n",
        "#### Tmn vs n-m\n",
        "fig, ax = plt.subplots(figsize = (5,3.0))\n",
        "\n",
        "x = np.linspace(1,30,30)\n",
        "\n",
        "ax.plot(x,Tmn2D, 'k.', markersize=3)\n",
        "ax.axhline(0,color='k',lw=0.5)\n",
        "\n",
        "\n",
        "ax.set_xlabel('$n-m$')\n",
        "ax.set_ylabel('$T^m_n/\\epsilon_u$')\n",
        "ax.set_xlim([1,30])\n",
        "ax.set_ylim([-0.1,0.4])\n",
        "ax.set_xticks([1,15,30])\n",
        "ax.set_xticklabels([1,15,30])\n",
        "ax.set_yticks([-0.1,0,0.2,0.4])\n",
        "ax.set_yticklabels(['$-0.1$',0,0.2,0.4])\n",
        "\n",
        "\n",
        "left, bottom, width, height = [0.35, 0.48, 0.50, 0.39]\n",
        "ax2 = fig.add_axes([left, bottom, width, height])\n",
        "ax2.plot(x,Tmn2D, 'k.', markersize=3, label = r'$T^m_n/\\epsilon_u$')\n",
        "\n",
        "xt = x[6:-1]\n",
        "f= np.log(abs(Tmn2D[6:-1]))\n",
        "pn = np.polyfit(xt, f,1)\n",
        "print(\"pn = \", pn, np.exp(pn[1]), Tmn2D[0:5])\n",
        "z1 = -np.exp(-xt*np.log(2)/3)*np.exp(pn[1])\n",
        "ax2.plot(xt,z1,'r-',lw=0.5, label = r'$-0.094 e^{-(n-m)\\log(2)/3}$')\n",
        "ax2.legend(loc = 'upper right')\n",
        "\n",
        "#ax2.set_xlabel('$n-m$')\n",
        "#ax2.set_ylabel('$T^m_n$')\n",
        "#ax2.set_title('Inset')\n",
        "ax2.set_xlim([2,20])\n",
        "ax2.set_ylim([-0.025,0.025])\n",
        "ax2.axhline(0,color='k',lw=0.5)\n",
        "plt.tight_layout()\n",
        "plt.savefig(\"Tmn_CH1.pdf\")\n",
        "files.download(\"Tmn_CH1.pdf\")\n",
        "plt.show()\n",
        "\n",
        "#####\n",
        "# \\int_{1/a}^1  T(v) dv\n",
        "\n",
        "fig, ax = plt.subplots(figsize = (5,3.5))\n",
        "\n",
        "prefactor = Ko_CH1**(3/2)/nu_CH1\n",
        "print(\"prefactor =\",Ko_CH1, nu_CH1, prefactor)\n",
        "\n",
        "ind = np.arange(-30,0,1)\n",
        "k = s**ind\n",
        "\n",
        "cum_ET_CH1 = np.zeros(30)\n",
        "i = 0\n",
        "for kp in k:\n",
        "  cum_ET_CH1[i] = prefactor*romberg(lambda v: fvET_CH1(v), kp, 1)\n",
        "  i += 1\n",
        "\n",
        "cumTmn_reversed = cumsumTmn2D[::-1]\n",
        "cumTmn_reversed = np.append(cumTmn_reversed,np.array([0]))\n",
        "cum_ET_CH1 = np.append(cum_ET_CH1,np.array([0]))\n",
        "k = np.append(k,np.array([1]))\n",
        "\n",
        "ax.plot(k,cumTmn_reversed,'k.',markersize = 3, label=r'$\\sum (n-m)T^m_n$')\n",
        "ax.plot(k, cum_ET_CH1, 'r-', lw = 0.5, label=r\"$\\int_{V}^1 T(v)dv$\")\n",
        "\n",
        "\n",
        "k2 = k[0:31]\n",
        "ET2 = -1+prefactor*((1/4)*np.log(1/k2) +3/16)*k2**(4/3)\n",
        "ax.plot(k2,ET2,'bv', markersize = 3, label=r'Eq. (4.22)')\n",
        "ax.axhline(0,color='k',lw=0.5)\n",
        "ax.axvline(0.22,color='k',lw=0.5)\n",
        "ax.axvline(0.265,color='k',linestyle='--',lw=0.5)\n",
        "\n",
        "ax.set_xlim([0,1])\n",
        "ax.set_ylim([-1,1])\n",
        "ax.set_xlabel('$V$')\n",
        "ax.set_ylabel('$\\int_{V}^1 T(v)dv$')\n",
        "ax.set_xticks([0,0.2,0.5,1])\n",
        "ax.set_xticklabels([0,0.2,0.5,1])\n",
        "ax.set_yticks([-1,0,1])\n",
        "ax.set_yticklabels(['$-1$',0,1])\n",
        "plt.tight_layout(pad=1.1)\n",
        "ax.legend(loc = 'lower right')\n",
        "plt.savefig(\"Flux_fraction_CH1.pdf\")\n",
        "files.download(\"Flux_fraction_CH1.pdf\")\n",
        "plt.show()\n",
        "\n",
        "print(\"Integral, Ko= \", Ko_CH1, nu_CH1)\n"
      ]
    },
    {
      "cell_type": "code",
      "source": [
        "print(np.exp(pn[1]))"
      ],
      "metadata": {
        "colab": {
          "base_uri": "https://localhost:8080/"
        },
        "id": "2cQMMH3MqiFe",
        "outputId": "5ef119d8-2da2-4b2c-9920-1b136d2067b1"
      },
      "execution_count": null,
      "outputs": [
        {
          "output_type": "stream",
          "name": "stdout",
          "text": [
            "0.09393901100326366\n"
          ]
        }
      ]
    },
    {
      "cell_type": "code",
      "source": [
        "(-0.27087705+0.15970578)/(0.1767767 -0.2102241)*(0.0102241)+0.15970578"
      ],
      "metadata": {
        "colab": {
          "base_uri": "https://localhost:8080/"
        },
        "id": "3ByHZwDL7Pm_",
        "outputId": "fc70e1f6-f646-47a2-953a-60d8455fc45d"
      },
      "execution_count": null,
      "outputs": [
        {
          "output_type": "execute_result",
          "data": {
            "text/plain": [
              "0.19368827734230465"
            ]
          },
          "metadata": {},
          "execution_count": 10
        }
      ]
    },
    {
      "cell_type": "markdown",
      "source": [
        "# Plot 2D ww enstropy transfers"
      ],
      "metadata": {
        "id": "ECkaTnrv1nw_"
      }
    },
    {
      "cell_type": "code",
      "source": [
        "import numpy as np\n",
        "import matplotlib as mpl\n",
        "import matplotlib.pyplot as plt\n",
        "import matplotlib.colors as colors\n",
        "from google.colab import files\n",
        "\n",
        "d = 2\n",
        "\n",
        "def Swwkpq_CH1(v,z):\n",
        "  return Skpq_CH1(v,z)*(v/z)\n",
        "\n",
        "def Fw_CH1_plot(v,z):\n",
        "  return dvol_ET(v,z) * np.log(1/v)/np.sqrt(1-z**2) * Swwkpq_CH1(v,z)\n",
        "\n",
        "Nx = 100; Ny=100\n",
        "eps = 1e-2\n",
        "X, Y = np.mgrid[-1+eps:1-eps:complex(0, Nx), eps:2-eps:complex(0, Ny)]\n",
        "\n",
        "Skpq_CH1_array = np.zeros([Nx,Ny])\n",
        "Skpq_CH1_array = Swwkpq_CH1(Y,X)\n",
        "\n",
        "fig, ax = plt.subplots(figsize = (3.5,2.5))\n",
        "\n",
        "vmin_my = np.min(Skpq_CH1_array)\n",
        "vmax_my = np.max(Skpq_CH1_array)\n",
        "\n",
        "pcm = ax.pcolormesh(X, Y, Skpq_CH1_array,\n",
        "          norm=colors.SymLogNorm(linthresh=1e-4, linscale=1e-4,\n",
        "          vmin=vmin_my, vmax=vmax_my), cmap='RdBu_r')\n",
        "\n",
        "maxlog=int(np.ceil( np.log10(vmax_my) ))\n",
        "minlog=int(np.ceil( np.log10(-vmin_my) ))\n",
        "\n",
        "#generate logarithmic ticks\n",
        "logthresh = 3\n",
        "tick_locations=([-(10**x) for x in range(minlog,-logthresh-1,-1)]\n",
        "                    +[0.0]\n",
        "                    +[(10**x) for x in range(-logthresh,maxlog+1)] )\n",
        "\n",
        "ax.set_xlabel('$z$')\n",
        "ax.set_ylabel('$v$')\n",
        "ax.set_xticks([-1,0,1])\n",
        "ax.set_xticklabels([-1,0,1])\n",
        "ax.set_yticks([0,1,2])\n",
        "ax.set_yticklabels([0, 1,2])\n",
        "fig.colorbar(pcm, ticks=tick_locations)\n",
        "plt.tight_layout()\n",
        "#plt.savefig(\"Suu_kpq_CH1.pdf\")\n",
        "#files.download(\"Suu_kpq_CH1.pdf\")\n",
        "plt.show()\n",
        "\n",
        "\n",
        "##### Fv plot; Pi = \\int Fv dv dz\n",
        "eps = 1e-2\n",
        "X, Y = np.mgrid[-1+eps:1-eps:complex(0, Nx), eps:1-eps:complex(0, Ny)]\n",
        "\n",
        "Fv_CH1_plot_array = np.zeros([Nx,Ny])\n",
        "Fv_CH1_plot_array = Fw_CH1_plot(Y,X)\n",
        "\n",
        "fig, ax = plt.subplots(figsize = (3.5,2.5))\n",
        "\n",
        "vmin_my = np.min(Fv_CH1_plot_array)\n",
        "vmax_my = np.max(Fv_CH1_plot_array)\n",
        "\n",
        "pcm = ax.pcolormesh(X, Y, Fv_CH1_plot_array,\n",
        "                       norm=colors.SymLogNorm(linthresh=1e-4, linscale=1e-4,\n",
        "                                              vmin=vmin_my, vmax=vmax_my),\n",
        "                       cmap='RdBu_r')\n",
        "\n",
        "maxlog=int(np.ceil( np.log10(vmax_my) ))\n",
        "minlog=int(np.ceil( np.log10(-vmin_my) ))\n",
        "\n",
        "#generate logarithmic ticks\n",
        "logthresh = 3\n",
        "tick_locations=([-(10**x) for x in range(minlog,-logthresh-1,-1)]\n",
        "                    +[0.0]\n",
        "                    +[(10**x) for x in range(-logthresh,maxlog+1)] )\n",
        "\n",
        "ax.set_xlabel('$z$')\n",
        "ax.set_ylabel('$v$')\n",
        "ax.set_xticks([-1,0,1])\n",
        "ax.set_xticklabels([-1,0,1])\n",
        "ax.set_yticks([0,1])\n",
        "ax.set_yticklabels([0, 1])\n",
        "fig.colorbar(pcm, ticks = tick_locations)\n",
        "plt.tight_layout()\n",
        "#plt.savefig(\"Tv_CH1.pdf\")\n",
        "#files.download(\"Tv_CH1.pdf\")\n",
        "plt.show()\n",
        "\n",
        "######\n",
        "### Skpq and Tv together..\n",
        "#####\n",
        "Nx = 100; Ny=100\n",
        "eps = 1e-2\n",
        "X, Y = np.mgrid[-1+eps:1-eps:complex(0, Nx), eps:2-eps:complex(0, Ny)]\n",
        "\n",
        "\n",
        "Skpq_CH1_array = np.zeros([Nx,Ny])\n",
        "Skpq_CH1_array = Swwkpq_CH1(Y,X)\n",
        "\n",
        "fig, (ax1, ax2) =  plt.subplots(1, 2, figsize = (6,2.7))\n",
        "\n",
        "vmin_my = np.min(Skpq_CH1_array)\n",
        "vmax_my = np.max(Skpq_CH1_array)\n",
        "\n",
        "pcm = ax1.pcolormesh(X, Y, Skpq_CH1_array,\n",
        "          norm=colors.SymLogNorm(linthresh=1e-4, linscale=1e-4,\n",
        "          vmin=vmin_my, vmax=vmax_my), cmap='RdBu_r')\n",
        "\n",
        "maxlog=int(np.ceil( np.log10(vmax_my) ))\n",
        "minlog=int(np.ceil( np.log10(-vmin_my) ))\n",
        "\n",
        "#generate logarithmic ticks\n",
        "logthresh = 3\n",
        "tick_locations=([-(10**x) for x in range(minlog,-logthresh-1,-1)]\n",
        "                    +[0.0]\n",
        "                    +[(10**x) for x in range(-logthresh,maxlog+1)] )\n",
        "\n",
        "ax1.set_xlabel('$z$')\n",
        "ax1.set_ylabel('$v$')\n",
        "ax1.set_title('$ S^{\\omega \\omega} (\\mathbf{1|v|w}) $')\n",
        "ax1.set_xticks([-1,0,1])\n",
        "ax1.set_xticklabels(['$-1$',0,1])\n",
        "ax1.set_yticks([0,1,2])\n",
        "ax1.set_yticklabels([0, 1,2])\n",
        "fig.colorbar(pcm, ticks=tick_locations)\n",
        "\n",
        "\n",
        "##### Fv plot; Pi = \\int Fv dv dz\n",
        "eps = 1e-2\n",
        "X, Y = np.mgrid[-1+eps:1-eps:complex(0, Nx), eps:1-eps:complex(0, Ny)]\n",
        "\n",
        "Fv_CH1_plot_array = np.zeros([Nx,Ny])\n",
        "Fv_CH1_plot_array = Fw_CH1_plot(Y,X)\n",
        "\n",
        "vmin_my = np.min(Fv_CH1_plot_array)\n",
        "vmax_my = np.max(Fv_CH1_plot_array)\n",
        "\n",
        "pcm = ax2.pcolormesh(X, Y, Fv_CH1_plot_array,\n",
        "                       norm=colors.SymLogNorm(linthresh=1e-4, linscale=1e-4,\n",
        "                                              vmin=vmin_my, vmax=vmax_my),\n",
        "                       cmap='RdBu_r')\n",
        "\n",
        "maxlog=int(np.ceil( np.log10(vmax_my) ))\n",
        "minlog=int(np.ceil( np.log10(-vmin_my) ))\n",
        "\n",
        "#generate logarithmic ticks\n",
        "logthresh = 3\n",
        "tick_locations=([-(10**x) for x in range(minlog,-logthresh-1,-1)]\n",
        "                    +[0.0]\n",
        "                    +[(10**x) for x in range(-logthresh,maxlog+1)] )\n",
        "\n",
        "ax2.set_xlabel('$z$')\n",
        "#ax2.set_ylabel('$v$')\n",
        "ax2.set_title('$ \\mathrm{VolET}(v,z) S^{\\omega \\omega} (\\mathbf{1|v|w}) $')\n",
        "ax2.set_xticks([-1,0,1])\n",
        "ax2.set_xticklabels(['$-1$',0,1])\n",
        "ax2.set_yticks([0,1])\n",
        "ax2.set_yticklabels([0, 1])\n",
        "fig.colorbar(pcm, ticks = tick_locations)\n",
        "\n",
        "plt.tight_layout()\n",
        "plt.savefig(\"Sww_CH1_combined.pdf\")\n",
        "files.download(\"Sww_CH1_combined.pdf\")\n",
        "plt.show()\n",
        "\n",
        "\n",
        "#"
      ],
      "metadata": {
        "colab": {
          "base_uri": "https://localhost:8080/",
          "height": 760
        },
        "id": "b6euk82U1mkY",
        "outputId": "fbaa5c5a-41d1-4b26-9fbb-5937f5e6a041"
      },
      "execution_count": null,
      "outputs": [
        {
          "output_type": "display_data",
          "data": {
            "text/plain": [
              "<Figure size 350x250 with 2 Axes>"
            ],
            "image/png": "[encoded data removed]"
          },
          "metadata": {}
        },
        {
          "output_type": "display_data",
          "data": {
            "text/plain": [
              "<Figure size 350x250 with 2 Axes>"
            ],
            "image/png": "[encoded data removed]"
          },
          "metadata": {}
        },
        {
          "output_type": "display_data",
          "data": {
            "text/plain": [
              "<IPython.core.display.Javascript object>"
            ],
            "application/javascript": [
              "\n",
              "    async function download(id, filename, size) {\n",
              "      if (!google.colab.kernel.accessAllowed) {\n",
              "        return;\n",
              "      }\n",
              "      const div = document.createElement('div');\n",
              "      const label = document.createElement('label');\n",
              "      label.textContent = `Downloading \"${filename}\": `;\n",
              "      div.appendChild(label);\n",
              "      const progress = document.createElement('progress');\n",
              "      progress.max = size;\n",
              "      div.appendChild(progress);\n",
              "      document.body.appendChild(div);\n",
              "\n",
              "      const buffers = [];\n",
              "      let downloaded = 0;\n",
              "\n",
              "      const channel = await google.colab.kernel.comms.open(id);\n",
              "      // Send a message to notify the kernel that we're ready.\n",
              "      channel.send({})\n",
              "\n",
              "      for await (const message of channel.messages) {\n",
              "        // Send a message to notify the kernel that we're ready.\n",
              "        channel.send({})\n",
              "        if (message.buffers) {\n",
              "          for (const buffer of message.buffers) {\n",
              "            buffers.push(buffer);\n",
              "            downloaded += buffer.byteLength;\n",
              "            progress.value = downloaded;\n",
              "          }\n",
              "        }\n",
              "      }\n",
              "      const blob = new Blob(buffers, {type: 'application/binary'});\n",
              "      const a = document.createElement('a');\n",
              "      a.href = window.URL.createObjectURL(blob);\n",
              "      a.download = filename;\n",
              "      div.appendChild(a);\n",
              "      a.click();\n",
              "      div.remove();\n",
              "    }\n",
              "  "
            ]
          },
          "metadata": {}
        },
        {
          "output_type": "display_data",
          "data": {
            "text/plain": [
              "<IPython.core.display.Javascript object>"
            ],
            "application/javascript": [
              "download(\"download_c6403378-aeef-4d29-bfb4-9b8e71dccd15\", \"Sww_CH1_combined.pdf\", 382818)"
            ]
          },
          "metadata": {}
        },
        {
          "output_type": "display_data",
          "data": {
            "text/plain": [
              "<Figure size 600x270 with 4 Axes>"
            ],
            "image/png": "[encoded data removed]"
          },
          "metadata": {}
        }
      ]
    },
    {
      "cell_type": "code",
      "execution_count": null,
      "metadata": {
        "colab": {
          "base_uri": "https://localhost:8080/"
        },
        "id": "FLDwv25uWZld",
        "outputId": "9938ac15-db4d-4d7e-8181-54362d602461"
      },
      "outputs": [
        {
          "output_type": "stream",
          "name": "stdout",
          "text": [
            "-0.0574219502286469 1.7250323881081946\n"
          ]
        }
      ],
      "source": [
        "print (vmin_my, vmax_my)"
      ]
    },
    {
      "cell_type": "markdown",
      "metadata": {
        "id": "HYYwP8nDh2zL"
      },
      "source": [
        "# Plot CH2-ET\n",
        "\n",
        "Tnm = 0.04219*exp(-0.229*(n-m))\n",
        "\n"
      ]
    },
    {
      "cell_type": "code",
      "execution_count": null,
      "metadata": {
        "colab": {
          "base_uri": "https://localhost:8080/",
          "height": 1000
        },
        "id": "CClhYMJnh7vm",
        "outputId": "f4705f2e-3fab-4218-c405-db2a076c06c6"
      },
      "outputs": [
        {
          "output_type": "stream",
          "name": "stdout",
          "text": [
            "Inside plot CH2 integ_ET_CH2 =  0.21614288919980962 1.7160790828430448 0.4859\n"
          ]
        },
        {
          "output_type": "display_data",
          "data": {
            "text/plain": [
              "<Figure size 350x250 with 2 Axes>"
            ],
            "image/png": "[encoded data removed]"
          },
          "metadata": {}
        },
        {
          "output_type": "display_data",
          "data": {
            "text/plain": [
              "<Figure size 350x250 with 2 Axes>"
            ],
            "image/png": "[encoded data removed]"
          },
          "metadata": {}
        },
        {
          "output_type": "stream",
          "name": "stdout",
          "text": [
            "[-0.22851974 -3.16563267] 0.04218744274179183\n"
          ]
        },
        {
          "output_type": "display_data",
          "data": {
            "text/plain": [
              "<IPython.core.display.Javascript object>"
            ],
            "application/javascript": [
              "\n",
              "    async function download(id, filename, size) {\n",
              "      if (!google.colab.kernel.accessAllowed) {\n",
              "        return;\n",
              "      }\n",
              "      const div = document.createElement('div');\n",
              "      const label = document.createElement('label');\n",
              "      label.textContent = `Downloading \"${filename}\": `;\n",
              "      div.appendChild(label);\n",
              "      const progress = document.createElement('progress');\n",
              "      progress.max = size;\n",
              "      div.appendChild(progress);\n",
              "      document.body.appendChild(div);\n",
              "\n",
              "      const buffers = [];\n",
              "      let downloaded = 0;\n",
              "\n",
              "      const channel = await google.colab.kernel.comms.open(id);\n",
              "      // Send a message to notify the kernel that we're ready.\n",
              "      channel.send({})\n",
              "\n",
              "      for await (const message of channel.messages) {\n",
              "        // Send a message to notify the kernel that we're ready.\n",
              "        channel.send({})\n",
              "        if (message.buffers) {\n",
              "          for (const buffer of message.buffers) {\n",
              "            buffers.push(buffer);\n",
              "            downloaded += buffer.byteLength;\n",
              "            progress.value = downloaded;\n",
              "          }\n",
              "        }\n",
              "      }\n",
              "      const blob = new Blob(buffers, {type: 'application/binary'});\n",
              "      const a = document.createElement('a');\n",
              "      a.href = window.URL.createObjectURL(blob);\n",
              "      a.download = filename;\n",
              "      div.appendChild(a);\n",
              "      a.click();\n",
              "      div.remove();\n",
              "    }\n",
              "  "
            ]
          },
          "metadata": {}
        },
        {
          "output_type": "display_data",
          "data": {
            "text/plain": [
              "<IPython.core.display.Javascript object>"
            ],
            "application/javascript": [
              "download(\"download_cb525ade-01cc-4cc2-84b6-89edf79b88db\", \"Tmn_CH2.pdf\", 21241)"
            ]
          },
          "metadata": {}
        },
        {
          "output_type": "display_data",
          "data": {
            "text/plain": [
              "<Figure size 450x300 with 1 Axes>"
            ],
            "image/png": "[encoded data removed]"
          },
          "metadata": {}
        },
        {
          "output_type": "stream",
          "name": "stdout",
          "text": [
            " Ko_CH2 = 1.7160790828430448 0.4859\n"
          ]
        },
        {
          "output_type": "display_data",
          "data": {
            "text/plain": [
              "<IPython.core.display.Javascript object>"
            ],
            "application/javascript": [
              "\n",
              "    async function download(id, filename, size) {\n",
              "      if (!google.colab.kernel.accessAllowed) {\n",
              "        return;\n",
              "      }\n",
              "      const div = document.createElement('div');\n",
              "      const label = document.createElement('label');\n",
              "      label.textContent = `Downloading \"${filename}\": `;\n",
              "      div.appendChild(label);\n",
              "      const progress = document.createElement('progress');\n",
              "      progress.max = size;\n",
              "      div.appendChild(progress);\n",
              "      document.body.appendChild(div);\n",
              "\n",
              "      const buffers = [];\n",
              "      let downloaded = 0;\n",
              "\n",
              "      const channel = await google.colab.kernel.comms.open(id);\n",
              "      // Send a message to notify the kernel that we're ready.\n",
              "      channel.send({})\n",
              "\n",
              "      for await (const message of channel.messages) {\n",
              "        // Send a message to notify the kernel that we're ready.\n",
              "        channel.send({})\n",
              "        if (message.buffers) {\n",
              "          for (const buffer of message.buffers) {\n",
              "            buffers.push(buffer);\n",
              "            downloaded += buffer.byteLength;\n",
              "            progress.value = downloaded;\n",
              "          }\n",
              "        }\n",
              "      }\n",
              "      const blob = new Blob(buffers, {type: 'application/binary'});\n",
              "      const a = document.createElement('a');\n",
              "      a.href = window.URL.createObjectURL(blob);\n",
              "      a.download = filename;\n",
              "      div.appendChild(a);\n",
              "      a.click();\n",
              "      div.remove();\n",
              "    }\n",
              "  "
            ]
          },
          "metadata": {}
        },
        {
          "output_type": "display_data",
          "data": {
            "text/plain": [
              "<IPython.core.display.Javascript object>"
            ],
            "application/javascript": [
              "download(\"download_65a7ba7c-9a04-42de-81ef-5c6c26e1d79c\", \"Flux_fraction_CH2.pdf\", 21733)"
            ]
          },
          "metadata": {}
        },
        {
          "output_type": "display_data",
          "data": {
            "text/plain": [
              "<Figure size 500x300 with 1 Axes>"
            ],
            "image/png": "[encoded data removed]"
          },
          "metadata": {}
        },
        {
          "output_type": "display_data",
          "data": {
            "text/plain": [
              "<Figure size 600x270 with 4 Axes>"
            ],
            "image/png": "[encoded data removed]"
          },
          "metadata": {}
        }
      ],
      "source": [
        "import numpy as np\n",
        "import matplotlib.pyplot as plt\n",
        "import matplotlib.colors as colors\n",
        "from google.colab import files\n",
        "\n",
        "d = 3\n",
        "\n",
        "print(\"Inside plot CH2 integ_ET_CH2 = \", integ_ET_CH2, Ko_CH2, nu_CH2)\n",
        "\n",
        "\n",
        "def Skpq_CH2(v,z):\n",
        "  w = np.sqrt(1 + v**2 - 2*v*z)\n",
        "  denr = 1 + v**(2/3) + w**(2/3)\n",
        "  return -v**2 *(1-z**2) *(C(1)-C(v))* C(w)/(w**2*denr)\n",
        "\n",
        "def Fv_CH2_plot(v,z):\n",
        "  w = np.sqrt(1 + v**2 - 2*v*z)\n",
        "  denr = 1 + v**(2/3) + w**(2/3)\n",
        "  return dvol_ET(v,z) * np.log(1/v)* Skpq_CH2(v,z)\n",
        "\n",
        "Nx = 100; Ny=100\n",
        "eps = 1e-2\n",
        "X, Y = np.mgrid[-1+eps:1-eps:complex(0, Nx), eps:2-eps:complex(0, Ny)]\n",
        "\n",
        "Skpq_CH2_array = np.zeros([Nx,Ny])\n",
        "Skpq_CH2_array = Skpq_CH2(Y,X)\n",
        "\n",
        "fig, ax = plt.subplots(figsize = (3.5,2.5))\n",
        "\n",
        "vmin_my = np.min(Skpq_CH2_array)\n",
        "vmax_my = np.max(Skpq_CH2_array)\n",
        "\n",
        "pcm = ax.pcolormesh(X, Y, Skpq_CH2_array,\n",
        "                       norm=colors.SymLogNorm(linthresh=1e-4, linscale=1e-4,\n",
        "                                              vmin=vmin_my, vmax=vmax_my),\n",
        "                       cmap='RdBu_r')\n",
        "\n",
        "maxlog=int(np.ceil( np.log10(vmax_my) ))\n",
        "minlog=int(np.ceil( np.log10(-vmin_my) ))\n",
        "\n",
        "#generate logarithmic ticks\n",
        "logthresh = 3\n",
        "tick_locations=([-(10**x) for x in range(minlog,-logthresh-1,-1)]\n",
        "                    +[0.0]\n",
        "                    +[(10**x) for x in range(-logthresh,maxlog+1)] )\n",
        "\n",
        "ax.set_xlabel('$z$')\n",
        "ax.set_ylabel('$v$')\n",
        "ax.set_xticks([-1,0,1])\n",
        "ax.set_xticklabels([-1,0,1])\n",
        "ax.set_yticks([0,1,2])\n",
        "ax.set_yticklabels([0, 1,2])\n",
        "fig.colorbar(pcm, ticks=tick_locations)\n",
        "plt.tight_layout(pad=1.08)\n",
        "#plt.savefig(\"Suu_kpq_CH2.pdf\")\n",
        "#files.download(\"Suu_kpq_CH2.pdf\")\n",
        "plt.show()\n",
        "\n",
        "##### Fv plot; Pi = \\int Fv dv dz\n",
        "eps = 1e-2\n",
        "X, Y = np.mgrid[-1+eps:1-eps:complex(0, Nx), eps:1-eps:complex(0, Ny)]\n",
        "\n",
        "Fv_CH2_plot_array = np.zeros([Nx,Ny])\n",
        "Fv_CH2_plot_array = Fv_CH2_plot(Y,X)\n",
        "\n",
        "fig, ax = plt.subplots(figsize = (3.5,2.5))\n",
        "\n",
        "vmin_my = np.min(Fv_CH2_plot_array)\n",
        "vmax_my = np.max(Fv_CH2_plot_array)\n",
        "\n",
        "pcm = ax.pcolormesh(X, Y, Fv_CH2_plot_array,\n",
        "              norm=colors.SymLogNorm(linthresh=1e-4, linscale=1e-4,\n",
        "              vmin=vmin_my, vmax=vmax_my),\n",
        "                       cmap='RdBu_r')\n",
        "\n",
        "ax.set_xlabel('$z$')\n",
        "ax.set_ylabel('$v$')\n",
        "ax.set_xticks([-1,0,1])\n",
        "ax.set_xticklabels([-1,0,1])\n",
        "ax.set_yticks([0,1])\n",
        "ax.set_yticklabels([0, 1])\n",
        "fig.colorbar(pcm)\n",
        "plt.tight_layout(pad=1.08)\n",
        "#plt.savefig(\"Tv_CH2.pdf\")\n",
        "#files.download(\"Tv_CH2.pdf\")\n",
        "plt.show()\n",
        "\n",
        "\n",
        "#### Tmn vs n-m\n",
        "fig, ax = plt.subplots(figsize = (4.5,3))\n",
        "\n",
        "x = np.linspace(1,30,30)\n",
        "ax.semilogy(x,Tmn,'k.',label = r'$T^m_n/\\epsilon_u$')\n",
        "\n",
        "xt = x[5:-1]\n",
        "f= np.log(Tmn[5:-1])\n",
        "pn = np.polyfit(xt, f,1)\n",
        "print(pn, np.exp(pn[1]))\n",
        "z1 = np.exp(-np.log(2)/3*xt)*np.exp(pn[1])\n",
        "ax.semilogy(xt,z1,'r-',lw=0.5, label = r'$0.042 e^{-(n-m)\\log(2)/3}$')\n",
        "ax.set_xlim([1,30])\n",
        "ax.set_xlabel('$n-m$')\n",
        "ax.set_ylabel(\"$T^m_n/\\epsilon_u$\")\n",
        "ax.legend(loc = 'upper right')\n",
        "plt.tight_layout()\n",
        "#plt.savefig(\"Tmn_CH2.pdf\")\n",
        "#files.download(\"Tmn_CH2.pdf\")\n",
        "plt.show()\n",
        "\n",
        "'''\n",
        "prefactor = Ko_CH2**(3/2)/nu_CH2\n",
        "z = prefactor*3*np.pi**2*(s**(4/3)-1)**2/s**(4/3)*np.exp(-np.log(2)*x/3)\n",
        "ax.semilogy(x,z/200,'k-')\n",
        "'''\n",
        "\n",
        "\n",
        "#####\n",
        "### \\int_v^1 Tv(v') dv'\n",
        "\n",
        "fig, ax = plt.subplots(figsize = (5,3))\n",
        "\n",
        "prefactor = Ko_CH2**(3/2)/nu_CH2\n",
        "print(\" Ko_CH2 =\", Ko_CH2, nu_CH2)\n",
        "\n",
        "ind = np.arange(-30,0,1)\n",
        "k = s**ind\n",
        "\n",
        "cum_ET_CH2 = np.zeros(30)\n",
        "i = 0\n",
        "for kp in k:\n",
        "  cum_ET_CH2[i] = prefactor*romberg(lambda v: fvET_CH2(v), kp, 1)\n",
        "  i += 1\n",
        "\n",
        "cumTmn_reversed = cumsumTmn[::-1]\n",
        "cumTmn_reversed = np.append(cumTmn_reversed,np.array([0]))\n",
        "cum_ET_CH2 = np.append(cum_ET_CH2,np.array([0]))\n",
        "k = np.append(k,np.array([1]))\n",
        "\n",
        "ax.plot(k,cumTmn_reversed,'k.',label=r'$\\sum (n-m)T^m_n$')\n",
        "ax.plot(k, cum_ET_CH2, 'r-', lw = 0.5, label=r\"$\\int_{V}^1 T(v)dv$\")\n",
        "#ax.plot(k,1-k,'-.', label=r'$1-v$')\n",
        "ax.plot(k,prefactor*(9/40)*(1-k)**(4/3),'gs', markersize = 3, label=r'Eq. (5.20)')\n",
        "ET2 = 1-prefactor*((1/4)*np.log(1/k) +3/16)*k**(4/3)\n",
        "ax.plot(k,ET2,'bv', markersize = 3, label=r'Eq. (5.22)')\n",
        "\n",
        "ax.set_xlim([0,1])\n",
        "ax.set_ylim([0,1.2])\n",
        "ax.set_xlabel('$V$')\n",
        "ax.set_ylabel(\"$\\int_{V}^1 T(v)dv$\")\n",
        "ax.set_xticks([0,0.5,1])\n",
        "ax.set_xticklabels([0,0.5,1])\n",
        "ax.set_yticks([0,0.5,1])\n",
        "ax.set_yticklabels([0,0.5,1])\n",
        "plt.tight_layout(pad=1.1)\n",
        "ax.legend(loc = 'upper right')\n",
        "#plt.savefig(\"Flux_fraction_CH2.pdf\")\n",
        "#files.download(\"Flux_fraction_CH2.pdf\")\n",
        "plt.show()\n",
        "\n",
        "\n",
        "######\n",
        "### Skpq and Tv together..\n",
        "#####\n",
        "Nx = 100; Ny=100\n",
        "eps = 1e-2\n",
        "X, Y = np.mgrid[-1+eps:1-eps:complex(0, Nx), eps:2-eps:complex(0, Ny)]\n",
        "\n",
        "\n",
        "Skpq_CH2_array = np.zeros([Nx,Ny])\n",
        "Skpq_CH2_array = Skpq_CH2(Y,X)\n",
        "\n",
        "fig, (ax1, ax2) =  plt.subplots(1, 2, figsize = (6,2.7))\n",
        "\n",
        "vmin_my = np.min(Skpq_CH2_array)\n",
        "vmax_my = np.max(Skpq_CH2_array)\n",
        "\n",
        "pcm = ax1.pcolormesh(X, Y, Skpq_CH2_array,\n",
        "          norm=colors.SymLogNorm(linthresh=1e-4, linscale=1e-4,\n",
        "          vmin=vmin_my, vmax=vmax_my), cmap='RdBu_r')\n",
        "\n",
        "maxlog=int(np.ceil( np.log10(vmax_my) ))\n",
        "minlog=int(np.ceil( np.log10(-vmin_my) ))\n",
        "\n",
        "#generate logarithmic ticks\n",
        "logthresh = 3\n",
        "tick_locations=([-(10**x) for x in range(minlog,-logthresh-1,-1)]\n",
        "                    +[0.0]\n",
        "                    +[(10**x) for x in range(-logthresh,maxlog+1)] )\n",
        "\n",
        "ax1.set_xlabel('$z$')\n",
        "ax1.set_ylabel('$v$')\n",
        "ax1.set_title('(a): $S^{u_2 u_2}(\\mathbf{1|v|w})$')\n",
        "ax1.set_xticks([-1,0,1])\n",
        "ax1.set_xticklabels(['$-1$',0,1])\n",
        "ax1.set_yticks([0,1,2])\n",
        "ax1.set_yticklabels([0, 1,2])\n",
        "fig.colorbar(pcm, ticks=tick_locations)\n",
        "\n",
        "\n",
        "##### Fv plot; Pi = \\int Fv dv dz\n",
        "eps = 1e-2\n",
        "X, Y = np.mgrid[-1+eps:1-eps:complex(0, Nx), eps:1-eps:complex(0, Ny)]\n",
        "\n",
        "Fv_CH2_plot_array = np.zeros([Nx,Ny])\n",
        "Fv_CH2_plot_array = Fv_CH2_plot(Y,X)\n",
        "\n",
        "vmin_my = np.min(Fv_CH2_plot_array)\n",
        "vmax_my = np.max(Fv_CH2_plot_array)\n",
        "\n",
        "pcm = ax2.pcolormesh(X, Y, Fv_CH2_plot_array,\n",
        "                       norm=colors.SymLogNorm(linthresh=1e-4, linscale=1e-4,\n",
        "                                              vmin=vmin_my, vmax=vmax_my),\n",
        "                       cmap='RdBu_r')\n",
        "\n",
        "ax2.set_xlabel('$z$')\n",
        "#ax2.set_ylabel('$v$')\n",
        "ax2.set_title('(b): $ \\mathrm{VolET}(v,z) S^{u_2 u_2}(\\mathbf{1|v|w}) $')\n",
        "ax2.set_xticks([-1,0,1])\n",
        "ax2.set_xticklabels(['$-1$',0,1])\n",
        "ax2.set_yticks([0,1])\n",
        "ax2.set_yticklabels([0, 1])\n",
        "fig.colorbar(pcm)\n",
        "\n",
        "plt.tight_layout()\n",
        "#plt.savefig(\"Suu_CH2_combined.pdf\")\n",
        "#files.download(\"Suu_CH2_combined.pdf\")\n",
        "plt.show()\n",
        "\n",
        "\n",
        "\n",
        "\n"
      ]
    },
    {
      "cell_type": "markdown",
      "metadata": {
        "id": "I8NfpKfU4A0F"
      },
      "source": [
        "# 3D: ET sub_components"
      ]
    },
    {
      "cell_type": "code",
      "source": [
        "\n",
        "d=3\n",
        "\n",
        "def fET_CH2(v,z):\n",
        "  w = np.sqrt(1 + v**2 - 2*v*z)\n",
        "  denr = 1 + v**(2/3) + w**(2/3)\n",
        "  return dvol_ET(v,z) * v**2 * (1-z**2) * (C(1)-C(v))* C(w)/(w**2*denr)\n",
        "\n",
        "# for v->1, z-> 1, w-> 0\n",
        "def fET_CH2_asymp(v,z):\n",
        "  w = np.sqrt(1 + v**2 - 2*v*z)\n",
        "  denr = 2 #1 + v**(2/3) + w**(2/3)\n",
        "  C_w = (2*(1-z)+(v-1)**2)**(-17/6)/(4*np.pi)\n",
        "  C_v_diff = (11/3)*(v-1)/(4*np.pi)\n",
        " # print(\"inside: v \", C(w)/w**2, C_w, (C(1)-C(v)), C_v_diff)\n",
        " # return dvol_ET(v,z) * v**2 * (1-z**2) * C_v_diff * C_w/(denr)\n",
        "  return  dvol_ET(v,z) * v**2 * 2* (1-z) * C_v_diff * C_w/(denr)\n",
        "\n",
        "# for v -> 0, all z's, w -> 1\n",
        "def fET_CH2_asymp2(v,z):\n",
        "  w = np.sqrt(1 + v**2 - 2*v*z)\n",
        "  denr = 2 #1 + v**(2/3) + w**(2/3)\n",
        "  C_w = 1/(4*np.pi)\n",
        "  C_v_diff = -v**(-11/3)/(4*np.pi)\n",
        " # print(\"inside: v \", C(w)/w**2, C_w, (C(1)-C(v)), C_v_diff)\n",
        " # return dvol_ET(v,z) * v**2 * (1-z**2) * C_v_diff * C_w/(denr)\n",
        "  return  dvol_ET(v,z) * v**2 * (1-z**2) * C_v_diff * C_w/(denr)\n",
        "\n",
        "def fvET_CH2_test(v):\n",
        "  return (-np.log(1/v)* quad(lambda z: fET_CH2(v,z), 0.8, 1-myeps)[0], \\\n",
        "          -np.log(1/v)* quad(lambda z: fET_CH2_asymp(v,z), -1, 1-myeps)[0])\n",
        "\n",
        "\n",
        "def fvET_CH2(v):\n",
        "  return -np.log(1/v)* quad(lambda z: fET_CH2(v,z), -1, 1-myeps)[0]\n",
        "\n",
        "def fvET_CH2_asymp(v):\n",
        "  return -np.log(1/v)* quad(lambda z: fET_CH2_asymp(v,z), 0.8, 1-myeps)[0]\n",
        "\n",
        "def fvET_CH2_asymp2(v):\n",
        "  return -np.log(1/v)* quad(lambda z: fET_CH2_asymp2(v,z), -1, 1-myeps)[0]\n",
        "\n",
        "\n",
        "\n",
        "#for myeps in [1e-3, 1e-4, 1e-5, 1e-6]:\n",
        "#  print(myeps, fvET_CH2_test(0.9),  18/55*0.1**(-5/3)/(4*np.pi))\n",
        "\n",
        "#myeps = 1e-5\n",
        "#print(romberg(lambda v: fvET_CH2(v), 1e-6, 1))\n",
        "\n",
        "for myeps in [1e-3, 1e-4, 1e-5, 1e-6]:\n",
        "  integ_ET_CH2 = romberg(lambda v: fvET_CH2(v), 0.9, 1)\n",
        "  integ_ET_CH2_asymp = romberg(lambda v: fvET_CH2_asymp(v), 0.9, 1)\n",
        "#  print(myeps, integ_ET_CH2, integ_ET_CH2_asymp, (1/4*np.log(1/0.1)+(3/16))*(0.1)**(4/3))\n",
        "  print(myeps, integ_ET_CH2, integ_ET_CH2_asymp, (9/40)*(0.1)**(4/3))\n",
        "\n",
        "\n"
      ],
      "metadata": {
        "colab": {
          "base_uri": "https://localhost:8080/"
        },
        "id": "KObVDZLdxAId",
        "outputId": "90efc71e-225f-4157-8ff5-6401ce6ac7a5"
      },
      "execution_count": null,
      "outputs": [
        {
          "output_type": "stream",
          "name": "stdout",
          "text": [
            "0.001 0.007405199255485554 0.0060913753265614805 0.010443574875628756\n",
            "0.0001 0.00914375893394396 0.007717166929086163 0.010443574875628756\n",
            "1e-05 0.00955262184150369 0.008120005566122218 0.010443574875628756\n"
          ]
        },
        {
          "output_type": "stream",
          "name": "stderr",
          "text": [
            "<ipython-input-41-982666f70b88>:34: IntegrationWarning: The algorithm does not converge.  Roundoff error is detected\n",
            "  in the extrapolation table.  It is assumed that the requested tolerance\n",
            "  cannot be achieved, and that the returned result (if full_output = 1) is \n",
            "  the best which can be obtained.\n",
            "  return -np.log(1/v)* quad(lambda z: fET_CH2(v,z), -1, 1-myeps)[0]\n",
            "<ipython-input-41-982666f70b88>:34: IntegrationWarning: The integral is probably divergent, or slowly convergent.\n",
            "  return -np.log(1/v)* quad(lambda z: fET_CH2(v,z), -1, 1-myeps)[0]\n",
            "/usr/local/lib/python3.10/dist-packages/scipy/integrate/_quadrature.py:960: AccuracyWarning: divmax (10) exceeded. Latest difference = 1.360954e-05\n",
            "  warnings.warn(\n"
          ]
        },
        {
          "output_type": "stream",
          "name": "stdout",
          "text": [
            "1e-06 0.009606461822482041 0.00820981893366524 0.010443574875628756\n"
          ]
        }
      ]
    },
    {
      "cell_type": "markdown",
      "source": [
        "# 3D: S2S Asymptotic"
      ],
      "metadata": {
        "id": "8HF_55589GUT"
      }
    },
    {
      "cell_type": "code",
      "source": [
        "from scipy.special import roots_jacobi\n",
        "\n",
        "d=3\n",
        "n=500\n",
        "\n",
        "alpha = 1; beta = 1\n",
        "\n",
        "[rt, wt] = roots_jacobi(n, alpha, beta, mu=False)\n",
        "\n",
        "def fET_CH2(v,z):\n",
        "  w = np.sqrt(1 + v**2 - 2*v*z)\n",
        "  denr = 1 + v**(2/3) + w**(2/3)\n",
        "  return dvol_ET(v,z) * v**2 * (C(1)-C(v))* C(w)/(w**2*denr)\n",
        "\n",
        "def fET_CH2_asymp(v,z):\n",
        "  w = np.sqrt(1 + v**2 - 2*v*z)\n",
        "  denr = 2 #1 + v**(2/3) + w**(2/3)\n",
        "  C_w = (2*(1-z)+(v-1)**2)**(-17/6)/(4*np.pi)\n",
        "  C_v_diff = (11/3)*(v-1)/(4*np.pi)\n",
        "  return  dvol_ET(v,z) * v**2 * C_v_diff * C_w/(denr)\n",
        "\n",
        "def fuv_shell_CH2(u, v):\n",
        "  return -sum(fET_CH2(v, rt)*wt)/u\n",
        "\n",
        "def fuv_shell_CH2_asymp(u, v):\n",
        "  return -sum(fET_CH2_asymp(v, rt)*wt)/u\n",
        "\n",
        "nu_CH2 = 0.3460\n",
        "Ko_CH2 = 1.368\n",
        "\n",
        "s=2**(1/4)\n",
        "prefactor = Ko_CH2**(3/2)/nu_CH2\n",
        "\n",
        "n_m = 1\n",
        "integ = romberg(lambda u: romberg(lambda v: fuv_shell_CH2(u,v), \\\n",
        "                                  u*s**(-n_m),u*s**(-n_m+1)), 1/s, 1)\n",
        "\n",
        "integ_asympt = romberg(lambda u: romberg(lambda v: fuv_shell_CH2_asymp(u,v), \\\n",
        "                                  u*s**(-n_m),u*s**(-n_m+1)), 1/s, 1)\n",
        "\n",
        "def f(y):\n",
        "  return ((3/4)*y**(4/3) + (3/7)*y**(7/3) + (3/10)*y**(10/3)+ (3/14)*y**(14/3))\n",
        "\n",
        "formula = -prefactor*(9/10)*(2*f(1-1/s)-f(1-1/s**2))\n",
        "\n",
        "print(\"S2S T^m_n = \", prefactor*integ, prefactor*integ_asympt, formula)"
      ],
      "metadata": {
        "colab": {
          "base_uri": "https://localhost:8080/"
        },
        "id": "NCHdufDJ9MFF",
        "outputId": "d3911580-99d9-4e26-f97d-f994858ad3f1"
      },
      "execution_count": null,
      "outputs": [
        {
          "output_type": "stream",
          "name": "stdout",
          "text": [
            "S2S T^m_n =  0.1192807338373378 0.07949029385173484 0.13956827141003506\n"
          ]
        }
      ]
    },
    {
      "cell_type": "markdown",
      "metadata": {
        "id": "3GbLuDG0y8bO"
      },
      "source": [
        "# Test"
      ]
    },
    {
      "cell_type": "code",
      "execution_count": null,
      "metadata": {
        "colab": {
          "base_uri": "https://localhost:8080/"
        },
        "id": "wXEIUTjiHrUq",
        "outputId": "ae41ce62-0e4c-4c14-a271-dd55a81877af"
      },
      "outputs": [
        {
          "output_type": "stream",
          "name": "stdout",
          "text": [
            "-0.568845124759114 -0.5688451247591139\n",
            "0.04382390895679168 0.043823908956791675\n"
          ]
        }
      ],
      "source": [
        "def RG1_CH1(v,z):\n",
        "  wsqr = 1 + v**2 - 2*v*z\n",
        "  denr = v**(2/3) + wsqr**(1/3)\n",
        "  return  dvol_RG(v,z)*C(v)*(1-z**2)*(1-v**2) \\\n",
        "          *(2*v*z-1)/(wsqr*denr)\n",
        "\n",
        "def RG1_CH1_paper(v,z):\n",
        "    w = np.sqrt(1+v**2-2*v*z)\n",
        "    denr = v**(2/3) + w**(2/3)\n",
        "    return (2/np.pi)* v*np.sqrt(1-z**2)*(1-v**2)*(2*v*z-1) \\\n",
        "          *v**(-8/3)/(w**2 * denr)\n",
        " #   return (4/np.pi)*np.sqrt(1-z**2)*(1-v**2)*(2*v*z-1) \\\n",
        " #         *v**(-8/3)/(w**2 * denr)\n",
        "\n",
        "#v=1/2; z=1/2\n",
        "#print(dvol_RG(v,z), (2)/np.sqrt(1-z**2))\n",
        "#print(dvol_RG(v,z)*C(v)*(1-z**2), (2/np.pi)* np.sqrt(1-z**2)*v**(-8/3))\n",
        "\n",
        "def RG2_CH1_paper(v,z):\n",
        "    w = np.sqrt(1+v**2-2*v*z)\n",
        "    denr = v**(2/3) + w**(2/3)\n",
        "    return (2/np.pi)*v*np.sqrt(1-z**2)*v*(v-2*z)*(2*v*z-1) \\\n",
        "          *w**(-14/3)/(denr)\n",
        "\n",
        "print(RG1_CH1(1/2,1/2),RG1_CH1_paper(1/2,1/2) )\n",
        "print(RG2_CH1(1/2,1/2),RG2_CH1_paper(1/2,1/2) )"
      ]
    },
    {
      "cell_type": "code",
      "source": [
        "s=2**(1/4)\n",
        "factor2d = (3/16)*(1.536)**1.5/0.1441\n",
        "factor3d = (3/16)*(1.715)**1.5/0.4859\n",
        "spow = ((s**(4/3)-1)**2)/s**(4/3)\n",
        "print(factor3d, spow, factor3d*spow)\n",
        "print(factor2d, spow, factor2d*spow)"
      ],
      "metadata": {
        "colab": {
          "base_uri": "https://localhost:8080/"
        },
        "id": "onbPrIog-oPE",
        "outputId": "f684f53f-f7ee-4431-e8aa-ae82e8f3eb37"
      },
      "execution_count": null,
      "outputs": [
        {
          "output_type": "stream",
          "name": "stdout",
          "text": [
            "0.8666636060960556 0.05362157587897291 0.046471868315823936\n",
            "2.4769892101767907 0.05362157587897291 0.13282006488489198\n"
          ]
        }
      ]
    },
    {
      "cell_type": "code",
      "source": [
        "\n",
        "#####\n",
        "### \\int_v^1 Tv(v') dv'\n",
        "\n",
        "fig, ax = plt.subplots(figsize = (5,3))\n",
        "\n",
        "prefactor = Ko_CH2**(3/2)/nu_CH2\n",
        "print(\" Ko_CH2 =\", Ko_CH2, nu_CH2)\n",
        "\n",
        "ind = np.arange(-30,0,1)\n",
        "k = s**ind\n",
        "\n",
        "cum_ET_CH2 = np.zeros(30)\n",
        "i = 0\n",
        "for kp in k:\n",
        "  cum_ET_CH2[i] = prefactor*romberg(lambda v: fvET_CH2(v), kp, 1)\n",
        "  i += 1\n",
        "\n",
        "cumTmn_reversed = cumsumTmn[::-1]\n",
        "cumTmn_reversed = np.append(cumTmn_reversed,np.array([0]))\n",
        "cum_ET_CH2 = np.append(cum_ET_CH2,np.array([0]))\n",
        "k = np.append(k,np.array([1]))\n",
        "\n",
        "ax.plot(k,cumTmn_reversed,'k.',label=r'$\\sum (n-m)T^m_n$')\n",
        "ax.plot(k, cum_ET_CH2, 'r-', lw = 0.5, label=r\"$\\int_{V}^1 T(v)dv$\")\n",
        "#ax.plot(k,1-k,'-.', label=r'$1-v$')\n",
        "ax.plot(k,prefactor*(9/40)*(1-k)**(4/3),'gs', markersize = 3, label=r'Eq. (5.20)')\n",
        "ET2 = 1-prefactor*((1/4)*np.log(1/k) +3/16)*k**(4/3)\n",
        "ax.plot(k,ET2,'bv', markersize = 3, label=r'Eq. (5.22)')\n",
        "\n",
        "ax.set_xlim([0,1])\n",
        "ax.set_ylim([0,1.2])\n",
        "ax.set_xlabel('$V$')\n",
        "ax.set_ylabel(\"$\\int_{V}^1 T(v)dv$\")\n",
        "ax.set_xticks([0,0.5,1])\n",
        "ax.set_xticklabels([0,0.5,1])\n",
        "ax.set_yticks([0,0.5,1])\n",
        "ax.set_yticklabels([0,0.5,1])\n",
        "plt.tight_layout(pad=1.1)\n",
        "ax.legend(loc = 'upper right')\n",
        "#plt.savefig(\"Flux_fraction_CH2.pdf\")\n",
        "#files.download(\"Flux_fraction_CH2.pdf\")\n",
        "plt.show()\n"
      ],
      "metadata": {
        "id": "Cc7geGayJ0Xw",
        "colab": {
          "base_uri": "https://localhost:8080/",
          "height": 1000
        },
        "outputId": "e072f5e7-fa11-43d8-99e4-7391f7f46b63"
      },
      "execution_count": null,
      "outputs": [
        {
          "output_type": "stream",
          "name": "stdout",
          "text": [
            " Ko_CH2 = 1.7160790828430448 0.4859\n"
          ]
        },
        {
          "output_type": "stream",
          "name": "stderr",
          "text": [
            "/usr/local/lib/python3.10/dist-packages/scipy/integrate/_quadrature.py:960: AccuracyWarning: divmax (10) exceeded. Latest difference = 7.218390e-07\n",
            "  warnings.warn(\n",
            "/usr/local/lib/python3.10/dist-packages/scipy/integrate/_quadrature.py:960: AccuracyWarning: divmax (10) exceeded. Latest difference = 7.163174e-07\n",
            "  warnings.warn(\n",
            "/usr/local/lib/python3.10/dist-packages/scipy/integrate/_quadrature.py:960: AccuracyWarning: divmax (10) exceeded. Latest difference = 7.117326e-07\n",
            "  warnings.warn(\n",
            "/usr/local/lib/python3.10/dist-packages/scipy/integrate/_quadrature.py:960: AccuracyWarning: divmax (10) exceeded. Latest difference = 7.072723e-07\n",
            "  warnings.warn(\n",
            "/usr/local/lib/python3.10/dist-packages/scipy/integrate/_quadrature.py:960: AccuracyWarning: divmax (10) exceeded. Latest difference = 7.024338e-07\n",
            "  warnings.warn(\n",
            "/usr/local/lib/python3.10/dist-packages/scipy/integrate/_quadrature.py:960: AccuracyWarning: divmax (10) exceeded. Latest difference = 6.968819e-07\n",
            "  warnings.warn(\n",
            "/usr/local/lib/python3.10/dist-packages/scipy/integrate/_quadrature.py:960: AccuracyWarning: divmax (10) exceeded. Latest difference = 6.903564e-07\n",
            "  warnings.warn(\n",
            "/usr/local/lib/python3.10/dist-packages/scipy/integrate/_quadrature.py:960: AccuracyWarning: divmax (10) exceeded. Latest difference = 6.826165e-07\n",
            "  warnings.warn(\n",
            "/usr/local/lib/python3.10/dist-packages/scipy/integrate/_quadrature.py:960: AccuracyWarning: divmax (10) exceeded. Latest difference = 6.734069e-07\n",
            "  warnings.warn(\n",
            "/usr/local/lib/python3.10/dist-packages/scipy/integrate/_quadrature.py:960: AccuracyWarning: divmax (10) exceeded. Latest difference = 6.624379e-07\n",
            "  warnings.warn(\n",
            "/usr/local/lib/python3.10/dist-packages/scipy/integrate/_quadrature.py:960: AccuracyWarning: divmax (10) exceeded. Latest difference = 6.493715e-07\n",
            "  warnings.warn(\n",
            "/usr/local/lib/python3.10/dist-packages/scipy/integrate/_quadrature.py:960: AccuracyWarning: divmax (10) exceeded. Latest difference = 6.338118e-07\n",
            "  warnings.warn(\n",
            "/usr/local/lib/python3.10/dist-packages/scipy/integrate/_quadrature.py:960: AccuracyWarning: divmax (10) exceeded. Latest difference = 6.152967e-07\n",
            "  warnings.warn(\n",
            "/usr/local/lib/python3.10/dist-packages/scipy/integrate/_quadrature.py:960: AccuracyWarning: divmax (10) exceeded. Latest difference = 5.932932e-07\n",
            "  warnings.warn(\n",
            "/usr/local/lib/python3.10/dist-packages/scipy/integrate/_quadrature.py:960: AccuracyWarning: divmax (10) exceeded. Latest difference = 5.671987e-07\n",
            "  warnings.warn(\n",
            "/usr/local/lib/python3.10/dist-packages/scipy/integrate/_quadrature.py:960: AccuracyWarning: divmax (10) exceeded. Latest difference = 5.363526e-07\n",
            "  warnings.warn(\n",
            "/usr/local/lib/python3.10/dist-packages/scipy/integrate/_quadrature.py:960: AccuracyWarning: divmax (10) exceeded. Latest difference = 5.000673e-07\n",
            "  warnings.warn(\n",
            "/usr/local/lib/python3.10/dist-packages/scipy/integrate/_quadrature.py:960: AccuracyWarning: divmax (10) exceeded. Latest difference = 4.576930e-07\n",
            "  warnings.warn(\n",
            "/usr/local/lib/python3.10/dist-packages/scipy/integrate/_quadrature.py:960: AccuracyWarning: divmax (10) exceeded. Latest difference = 4.087344e-07\n",
            "  warnings.warn(\n",
            "/usr/local/lib/python3.10/dist-packages/scipy/integrate/_quadrature.py:960: AccuracyWarning: divmax (10) exceeded. Latest difference = 3.530488e-07\n",
            "  warnings.warn(\n",
            "/usr/local/lib/python3.10/dist-packages/scipy/integrate/_quadrature.py:960: AccuracyWarning: divmax (10) exceeded. Latest difference = 2.911541e-07\n",
            "  warnings.warn(\n",
            "/usr/local/lib/python3.10/dist-packages/scipy/integrate/_quadrature.py:960: AccuracyWarning: divmax (10) exceeded. Latest difference = 2.246651e-07\n",
            "  warnings.warn(\n",
            "/usr/local/lib/python3.10/dist-packages/scipy/integrate/_quadrature.py:960: AccuracyWarning: divmax (10) exceeded. Latest difference = 1.568219e-07\n",
            "  warnings.warn(\n",
            "/usr/local/lib/python3.10/dist-packages/scipy/integrate/_quadrature.py:960: AccuracyWarning: divmax (10) exceeded. Latest difference = 9.291986e-08\n",
            "  warnings.warn(\n",
            "/usr/local/lib/python3.10/dist-packages/scipy/integrate/_quadrature.py:960: AccuracyWarning: divmax (10) exceeded. Latest difference = 4.014058e-08\n",
            "  warnings.warn(\n"
          ]
        },
        {
          "output_type": "display_data",
          "data": {
            "text/plain": [
              "<Figure size 500x300 with 1 Axes>"
            ],
            "image/png": "[encoded data removed]"
          },
          "metadata": {}
        }
      ]
    },
    {
      "cell_type": "code",
      "source": [
        "\n",
        "Ko_CH1 = 5.829\n",
        "nu1 = 0.10260395587799516\n",
        "a = 0.5\n",
        "I = 0.1*a**(10/3)*(np.log(1/a)+0.3)*Ko_CH1**(3/2)/nu1\n",
        "print(Ko_CH1, nu1, I)\n",
        "\n",
        "print(0.0093*Ko_CH1**(3/2)/nu1)\n",
        "\n",
        "a = 0.8\n",
        "I = 0.1*a**(10/3)*(np.log(1/a)+0.3)*Ko_CH1**(3/2)/nu1\n",
        "print(Ko_CH1, nu1, I)\n",
        "\n",
        "#I  = 0.00937\n",
        "#print ( I*Ko_CH1**(3/2)/nu1)"
      ],
      "metadata": {
        "colab": {
          "base_uri": "https://localhost:8080/"
        },
        "id": "6bj5No0F9WMv",
        "outputId": "a95c4b36-5675-4fac-8c4a-7d594acbc78b"
      },
      "execution_count": null,
      "outputs": [
        {
          "output_type": "stream",
          "name": "stdout",
          "text": [
            "5.829 0.10260395587799516 1.351472686244223\n",
            "1.2755865352092108\n",
            "5.829 0.10260395587799516 3.410471913176737\n"
          ]
        }
      ]
    },
    {
      "cell_type": "code",
      "source": [],
      "metadata": {
        "id": "nsuLN8sX9V_U"
      },
      "execution_count": null,
      "outputs": []
    },
    {
      "cell_type": "code",
      "source": [],
      "metadata": {
        "id": "jZtCBwWfrvJE"
      },
      "execution_count": null,
      "outputs": []
    }
  ],
  "metadata": {
    "colab": {
      "provenance": [],
      "toc_visible": true,
      "authorship_tag": "ABX9TyOm4RFLA7X/LAjDCTlTKhop",
      "include_colab_link": true
    },
    "kernelspec": {
      "display_name": "Python 3",
      "name": "python3"
    },
    "language_info": {
      "name": "python"
    }
  },
  "nbformat": 4,
  "nbformat_minor": 0
}